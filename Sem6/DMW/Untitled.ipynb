{
 "cells": [
  {
   "cell_type": "code",
   "execution_count": 17,
   "id": "celtic-kidney",
   "metadata": {},
   "outputs": [],
   "source": [
    "import pandas as pd"
   ]
  },
  {
   "cell_type": "code",
   "execution_count": 19,
   "id": "popular-release",
   "metadata": {},
   "outputs": [
    {
     "data": {
      "text/html": [
       "<div>\n",
       "<style scoped>\n",
       "    .dataframe tbody tr th:only-of-type {\n",
       "        vertical-align: middle;\n",
       "    }\n",
       "\n",
       "    .dataframe tbody tr th {\n",
       "        vertical-align: top;\n",
       "    }\n",
       "\n",
       "    .dataframe thead th {\n",
       "        text-align: right;\n",
       "    }\n",
       "</style>\n",
       "<table border=\"1\" class=\"dataframe\">\n",
       "  <thead>\n",
       "    <tr style=\"text-align: right;\">\n",
       "      <th></th>\n",
       "      <th>textID</th>\n",
       "      <th>tweet_text</th>\n",
       "      <th>sentiment</th>\n",
       "    </tr>\n",
       "  </thead>\n",
       "  <tbody>\n",
       "    <tr>\n",
       "      <th>0</th>\n",
       "      <td>1956967666</td>\n",
       "      <td>Layin n bed with a headache  ughhhh...waitin o...</td>\n",
       "      <td>negative</td>\n",
       "    </tr>\n",
       "    <tr>\n",
       "      <th>1</th>\n",
       "      <td>1956967696</td>\n",
       "      <td>Funeral ceremony...gloomy friday...</td>\n",
       "      <td>negative</td>\n",
       "    </tr>\n",
       "    <tr>\n",
       "      <th>2</th>\n",
       "      <td>1956967789</td>\n",
       "      <td>wants to hang out with friends SOON!</td>\n",
       "      <td>positive</td>\n",
       "    </tr>\n",
       "    <tr>\n",
       "      <th>3</th>\n",
       "      <td>1956968477</td>\n",
       "      <td>Re-pinging @ghostridah14: why didn't you go to...</td>\n",
       "      <td>negative</td>\n",
       "    </tr>\n",
       "    <tr>\n",
       "      <th>4</th>\n",
       "      <td>1956968636</td>\n",
       "      <td>Hmmm. http://www.djhero.com/ is down</td>\n",
       "      <td>negative</td>\n",
       "    </tr>\n",
       "    <tr>\n",
       "      <th>...</th>\n",
       "      <td>...</td>\n",
       "      <td>...</td>\n",
       "      <td>...</td>\n",
       "    </tr>\n",
       "    <tr>\n",
       "      <th>18722</th>\n",
       "      <td>1753918818</td>\n",
       "      <td>had SUCH and AMAZING time last night, McFly we...</td>\n",
       "      <td>positive</td>\n",
       "    </tr>\n",
       "    <tr>\n",
       "      <th>18723</th>\n",
       "      <td>1753918881</td>\n",
       "      <td>@jasimmo Ooo showing of your French skills!! l...</td>\n",
       "      <td>positive</td>\n",
       "    </tr>\n",
       "    <tr>\n",
       "      <th>18724</th>\n",
       "      <td>1753918900</td>\n",
       "      <td>Succesfully following Tayla!!</td>\n",
       "      <td>positive</td>\n",
       "    </tr>\n",
       "    <tr>\n",
       "      <th>18725</th>\n",
       "      <td>1753919001</td>\n",
       "      <td>Happy Mothers Day  All my love</td>\n",
       "      <td>positive</td>\n",
       "    </tr>\n",
       "    <tr>\n",
       "      <th>18726</th>\n",
       "      <td>1753919005</td>\n",
       "      <td>Happy Mother's Day to all the mommies out ther...</td>\n",
       "      <td>positive</td>\n",
       "    </tr>\n",
       "  </tbody>\n",
       "</table>\n",
       "<p>18727 rows × 3 columns</p>\n",
       "</div>"
      ],
      "text/plain": [
       "           textID                                         tweet_text sentiment\n",
       "0      1956967666  Layin n bed with a headache  ughhhh...waitin o...  negative\n",
       "1      1956967696                Funeral ceremony...gloomy friday...  negative\n",
       "2      1956967789               wants to hang out with friends SOON!  positive\n",
       "3      1956968477  Re-pinging @ghostridah14: why didn't you go to...  negative\n",
       "4      1956968636               Hmmm. http://www.djhero.com/ is down  negative\n",
       "...           ...                                                ...       ...\n",
       "18722  1753918818  had SUCH and AMAZING time last night, McFly we...  positive\n",
       "18723  1753918881  @jasimmo Ooo showing of your French skills!! l...  positive\n",
       "18724  1753918900                      Succesfully following Tayla!!  positive\n",
       "18725  1753919001                     Happy Mothers Day  All my love  positive\n",
       "18726  1753919005  Happy Mother's Day to all the mommies out ther...  positive\n",
       "\n",
       "[18727 rows x 3 columns]"
      ]
     },
     "execution_count": 19,
     "metadata": {},
     "output_type": "execute_result"
    }
   ],
   "source": [
    "df = pd.read_csv('Dataset/tweet_data.csv - tweet_data.csv.csv')\n",
    "df"
   ]
  },
  {
   "cell_type": "code",
   "execution_count": 20,
   "id": "alternative-elder",
   "metadata": {},
   "outputs": [
    {
     "data": {
      "text/plain": [
       "18727"
      ]
     },
     "execution_count": 20,
     "metadata": {},
     "output_type": "execute_result"
    }
   ],
   "source": [
    "len(df)"
   ]
  },
  {
   "cell_type": "code",
   "execution_count": 22,
   "id": "alternate-gender",
   "metadata": {},
   "outputs": [
    {
     "data": {
      "text/plain": [
       "18615"
      ]
     },
     "execution_count": 22,
     "metadata": {},
     "output_type": "execute_result"
    }
   ],
   "source": [
    "len(df['tweet_text'].unique())"
   ]
  },
  {
   "cell_type": "code",
   "execution_count": 23,
   "id": "verified-boring",
   "metadata": {},
   "outputs": [
    {
     "data": {
      "text/plain": [
       "8830"
      ]
     },
     "execution_count": 23,
     "metadata": {},
     "output_type": "execute_result"
    }
   ],
   "source": [
    "len(df[df['sentiment'] == 'negative'])"
   ]
  },
  {
   "cell_type": "code",
   "execution_count": 24,
   "id": "innovative-attention",
   "metadata": {},
   "outputs": [
    {
     "data": {
      "text/plain": [
       "9897"
      ]
     },
     "execution_count": 24,
     "metadata": {},
     "output_type": "execute_result"
    }
   ],
   "source": [
    "len(df[df['sentiment'] == 'positive'])"
   ]
  },
  {
   "cell_type": "code",
   "execution_count": 25,
   "id": "israeli-coalition",
   "metadata": {},
   "outputs": [
    {
     "name": "stdout",
     "output_type": "stream",
     "text": [
      "0.5284882789555188\n",
      "0.47151172104448125\n"
     ]
    }
   ],
   "source": [
    "pos = len(df[df['sentiment'] == \"positive\"]) / len(df['sentiment'])\n",
    "neg = len(df[df['sentiment'] == \"negative\"]) / len(df['sentiment'])\n",
    "\n",
    "print(pos)\n",
    "print(neg)"
   ]
  },
  {
   "cell_type": "code",
   "execution_count": 26,
   "id": "grave-sweden",
   "metadata": {},
   "outputs": [],
   "source": [
    "import matplotlib.pyplot as plt"
   ]
  },
  {
   "cell_type": "code",
   "execution_count": 31,
   "id": "pressing-discovery",
   "metadata": {},
   "outputs": [
    {
     "data": {
      "image/png": "[encoded data removed]",
      "text/plain": [
       "<Figure size 432x288 with 1 Axes>"
      ]
     },
     "metadata": {},
     "output_type": "display_data"
    }
   ],
   "source": [
    "plt.pie([pos, neg], labels=[\"Positive\", \"Negative\"])\n",
    "plt.legend()\n",
    "plt.show()"
   ]
  },
  {
   "cell_type": "code",
   "execution_count": 32,
   "id": "sunset-anatomy",
   "metadata": {},
   "outputs": [],
   "source": [
    "import re\n",
    "import nltk"
   ]
  },
  {
   "cell_type": "code",
   "execution_count": 33,
   "id": "intermediate-international",
   "metadata": {},
   "outputs": [],
   "source": [
    "def tok(txt):\n",
    "    txt2 = re.split('\\W+', txt)\n",
    "    \n",
    "    return txt2"
   ]
  },
  {
   "cell_type": "code",
   "execution_count": 34,
   "id": "committed-lemon",
   "metadata": {},
   "outputs": [
    {
     "data": {
      "text/html": [
       "<div>\n",
       "<style scoped>\n",
       "    .dataframe tbody tr th:only-of-type {\n",
       "        vertical-align: middle;\n",
       "    }\n",
       "\n",
       "    .dataframe tbody tr th {\n",
       "        vertical-align: top;\n",
       "    }\n",
       "\n",
       "    .dataframe thead th {\n",
       "        text-align: right;\n",
       "    }\n",
       "</style>\n",
       "<table border=\"1\" class=\"dataframe\">\n",
       "  <thead>\n",
       "    <tr style=\"text-align: right;\">\n",
       "      <th></th>\n",
       "      <th>textID</th>\n",
       "      <th>tweet_text</th>\n",
       "      <th>sentiment</th>\n",
       "    </tr>\n",
       "  </thead>\n",
       "  <tbody>\n",
       "    <tr>\n",
       "      <th>0</th>\n",
       "      <td>1956967666</td>\n",
       "      <td>[Layin, n, bed, with, a, headache, ughhhh, wai...</td>\n",
       "      <td>negative</td>\n",
       "    </tr>\n",
       "    <tr>\n",
       "      <th>1</th>\n",
       "      <td>1956967696</td>\n",
       "      <td>[Funeral, ceremony, gloomy, friday, ]</td>\n",
       "      <td>negative</td>\n",
       "    </tr>\n",
       "    <tr>\n",
       "      <th>2</th>\n",
       "      <td>1956967789</td>\n",
       "      <td>[wants, to, hang, out, with, friends, SOON, ]</td>\n",
       "      <td>positive</td>\n",
       "    </tr>\n",
       "    <tr>\n",
       "      <th>3</th>\n",
       "      <td>1956968477</td>\n",
       "      <td>[Re, pinging, ghostridah14, why, didn, t, you,...</td>\n",
       "      <td>negative</td>\n",
       "    </tr>\n",
       "    <tr>\n",
       "      <th>4</th>\n",
       "      <td>1956968636</td>\n",
       "      <td>[Hmmm, http, www, djhero, com, is, down]</td>\n",
       "      <td>negative</td>\n",
       "    </tr>\n",
       "    <tr>\n",
       "      <th>...</th>\n",
       "      <td>...</td>\n",
       "      <td>...</td>\n",
       "      <td>...</td>\n",
       "    </tr>\n",
       "    <tr>\n",
       "      <th>18722</th>\n",
       "      <td>1753918818</td>\n",
       "      <td>[had, SUCH, and, AMAZING, time, last, night, M...</td>\n",
       "      <td>positive</td>\n",
       "    </tr>\n",
       "    <tr>\n",
       "      <th>18723</th>\n",
       "      <td>1753918881</td>\n",
       "      <td>[, jasimmo, Ooo, showing, of, your, French, sk...</td>\n",
       "      <td>positive</td>\n",
       "    </tr>\n",
       "    <tr>\n",
       "      <th>18724</th>\n",
       "      <td>1753918900</td>\n",
       "      <td>[Succesfully, following, Tayla, ]</td>\n",
       "      <td>positive</td>\n",
       "    </tr>\n",
       "    <tr>\n",
       "      <th>18725</th>\n",
       "      <td>1753919001</td>\n",
       "      <td>[Happy, Mothers, Day, All, my, love]</td>\n",
       "      <td>positive</td>\n",
       "    </tr>\n",
       "    <tr>\n",
       "      <th>18726</th>\n",
       "      <td>1753919005</td>\n",
       "      <td>[Happy, Mother, s, Day, to, all, the, mommies,...</td>\n",
       "      <td>positive</td>\n",
       "    </tr>\n",
       "  </tbody>\n",
       "</table>\n",
       "<p>18727 rows × 3 columns</p>\n",
       "</div>"
      ],
      "text/plain": [
       "           textID                                         tweet_text sentiment\n",
       "0      1956967666  [Layin, n, bed, with, a, headache, ughhhh, wai...  negative\n",
       "1      1956967696              [Funeral, ceremony, gloomy, friday, ]  negative\n",
       "2      1956967789      [wants, to, hang, out, with, friends, SOON, ]  positive\n",
       "3      1956968477  [Re, pinging, ghostridah14, why, didn, t, you,...  negative\n",
       "4      1956968636           [Hmmm, http, www, djhero, com, is, down]  negative\n",
       "...           ...                                                ...       ...\n",
       "18722  1753918818  [had, SUCH, and, AMAZING, time, last, night, M...  positive\n",
       "18723  1753918881  [, jasimmo, Ooo, showing, of, your, French, sk...  positive\n",
       "18724  1753918900                  [Succesfully, following, Tayla, ]  positive\n",
       "18725  1753919001               [Happy, Mothers, Day, All, my, love]  positive\n",
       "18726  1753919005  [Happy, Mother, s, Day, to, all, the, mommies,...  positive\n",
       "\n",
       "[18727 rows x 3 columns]"
      ]
     },
     "execution_count": 34,
     "metadata": {},
     "output_type": "execute_result"
    }
   ],
   "source": [
    "df['tweet_text'] = df['tweet_text'].apply(lambda x: tok(x))\n",
    "df"
   ]
  },
  {
   "cell_type": "code",
   "execution_count": 36,
   "id": "imported-stock",
   "metadata": {},
   "outputs": [],
   "source": [
    "stopwords = nltk.corpus.stopwords.words('english')\n",
    "\n",
    "def removeStopwords(txt):\n",
    "    txt2 = []\n",
    "    \n",
    "    for t in txt:\n",
    "        if t not in nltk.corpus.stopwords.words('english'):\n",
    "            txt2.append(t)\n",
    "            \n",
    "    return txt2"
   ]
  },
  {
   "cell_type": "code",
   "execution_count": 37,
   "id": "regular-renewal",
   "metadata": {},
   "outputs": [
    {
     "data": {
      "text/plain": [
       "0        [Layin, n, bed, headache, ughhhh, waitin, call, ]\n",
       "1                    [Funeral, ceremony, gloomy, friday, ]\n",
       "2                           [wants, hang, friends, SOON, ]\n",
       "3        [Re, pinging, ghostridah14, go, prom, BC, bf, ...\n",
       "4                           [Hmmm, http, www, djhero, com]\n",
       "                               ...                        \n",
       "18722    [SUCH, AMAZING, time, last, night, McFly, INCR...\n",
       "18723    [, jasimmo, Ooo, showing, French, skills, lol,...\n",
       "18724                    [Succesfully, following, Tayla, ]\n",
       "18725                     [Happy, Mothers, Day, All, love]\n",
       "18726    [Happy, Mother, Day, mommies, woman, man, long...\n",
       "Name: tweet_text, Length: 18727, dtype: object"
      ]
     },
     "execution_count": 37,
     "metadata": {},
     "output_type": "execute_result"
    }
   ],
   "source": [
    "df['tweet_text'] = df['tweet_text'].apply(lambda x: removeStopwords(x))\n",
    "df['tweet_text']"
   ]
  },
  {
   "cell_type": "code",
   "execution_count": 38,
   "id": "swedish-corrections",
   "metadata": {},
   "outputs": [],
   "source": [
    "from nltk.stem.porter import PorterStemmer\n",
    "from nltk.stem import WordNetLemmatizer\n",
    "\n",
    "def pStem(txt):\n",
    "    pS = PorterStemmer()\n",
    "    \n",
    "    return [pS.stem(w) for w in txt]\n",
    "\n",
    "def lemma(txt):\n",
    "    wL = WordNetLemmatizer()\n",
    "    \n",
    "    return [wL.lemmatize(w) for w in txt]"
   ]
  },
  {
   "cell_type": "code",
   "execution_count": 39,
   "id": "assumed-bacteria",
   "metadata": {},
   "outputs": [
    {
     "data": {
      "text/plain": [
       "0         [layin, n, bed, headach, ughhhh, waitin, call, ]\n",
       "1                      [funer, ceremoni, gloomi, friday, ]\n",
       "2                             [want, hang, friend, soon, ]\n",
       "3        [re, ping, ghostridah14, go, prom, bc, bf, lik...\n",
       "4                           [hmmm, http, www, djhero, com]\n",
       "                               ...                        \n",
       "18722       [such, amaz, time, last, night, mcfli, incred]\n",
       "18723    [, jasimmo, ooo, show, french, skill, lol, thi...\n",
       "18724                            [succes, follow, tayla, ]\n",
       "18725                      [happi, mother, day, all, love]\n",
       "18726    [happi, mother, day, mommi, woman, man, long, ...\n",
       "Name: tweet_text, Length: 18727, dtype: object"
      ]
     },
     "execution_count": 39,
     "metadata": {},
     "output_type": "execute_result"
    }
   ],
   "source": [
    "df['tweet_text'] = df['tweet_text'].apply(lambda x: pStem(x))\n",
    "df['tweet_text'] = df['tweet_text'].apply(lambda x: lemma(x))\n",
    "df['tweet_text']"
   ]
  },
  {
   "cell_type": "code",
   "execution_count": null,
   "id": "productive-protection",
   "metadata": {},
   "outputs": [],
   "source": []
  }
 ],
 "metadata": {
  "kernelspec": {
   "display_name": "Python 3 (ipykernel)",
   "language": "python",
   "name": "python3"
  },
  "language_info": {
   "codemirror_mode": {
    "name": "ipython",
    "version": 3
   },
   "file_extension": ".py",
   "mimetype": "text/x-python",
   "name": "python",
   "nbconvert_exporter": "python",
   "pygments_lexer": "ipython3",
   "version": "3.9.1+"
  }
 },
 "nbformat": 4,
 "nbformat_minor": 5
}
