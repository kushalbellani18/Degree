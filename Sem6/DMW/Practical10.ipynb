{
 "cells": [
  {
   "cell_type": "code",
   "execution_count": 1,
   "id": "suspended-headquarters",
   "metadata": {},
   "outputs": [],
   "source": [
    "import numpy as np\n",
    "import matplotlib.pyplot as plt\n",
    "import pandas as pd"
   ]
  },
  {
   "cell_type": "markdown",
   "id": "rental-freight",
   "metadata": {},
   "source": [
    "# Load dataset"
   ]
  },
  {
   "cell_type": "code",
   "execution_count": 2,
   "id": "plastic-recall",
   "metadata": {},
   "outputs": [],
   "source": [
    "dataset = pd.read_csv(\"Dataset/KNN.csv\")\n",
    "\n",
    "x = dataset.iloc[:, :2].values\n",
    "y = dataset.iloc[:, -1].values"
   ]
  },
  {
   "cell_type": "code",
   "execution_count": 3,
   "id": "bridal-discrimination",
   "metadata": {},
   "outputs": [
    {
     "data": {
      "text/plain": [
       "array([1, 0, 1, 0, 1, 0, 1, 0, 1, 1, 0, 1, 0, 1, 1, 1, 1, 1, 0, 1, 0, 0,\n",
       "       1, 1, 1, 1, 1, 0, 0, 0, 0, 1, 0, 0, 0, 0, 0, 1, 1, 1, 0, 0, 0, 1,\n",
       "       0, 1, 0, 0, 1, 0, 0, 0, 0, 1, 0, 0, 1, 0, 0, 0, 0, 1, 0, 0, 1, 0,\n",
       "       1, 0, 0, 0, 1, 0, 1, 0, 0, 0, 0, 0, 1, 0, 0, 0, 0, 0, 1, 0, 0, 0,\n",
       "       1, 0, 0, 0, 0, 1, 0, 0, 0, 0, 0, 1, 1, 0, 0, 0, 0, 0, 0, 0, 0, 1,\n",
       "       1, 1, 0, 0, 1, 1, 1, 0, 0, 0, 1, 0, 0, 0, 1, 1, 0, 0, 1, 1, 1, 1,\n",
       "       1, 0, 0, 0, 0, 0, 0, 0, 0, 0, 0, 1, 0, 0, 0, 0, 0, 0, 0, 0, 1, 0,\n",
       "       1, 1, 0, 0, 0, 1, 0, 0, 0, 0, 1, 1, 0, 0, 0, 0, 1, 1, 0, 0, 0, 1,\n",
       "       0, 1, 0, 1, 0, 0, 0, 0, 0, 1, 1, 1, 1, 1, 0, 0, 1, 1, 0, 1, 0, 1,\n",
       "       1, 1, 0, 0, 0, 0, 0, 0, 1, 1, 0, 1, 0, 0, 0, 1, 1, 1, 1, 0, 1, 1,\n",
       "       1, 1, 0, 0, 0, 0, 0, 1, 0, 0, 1, 1, 0, 0, 0, 1, 1, 1, 1, 0, 0, 0,\n",
       "       1, 1, 0, 1, 0, 0, 0, 0, 0, 0, 0, 0, 1, 1, 0, 0, 0, 1, 0, 1, 0, 0,\n",
       "       1, 0, 1, 0, 0, 1, 1, 0, 0, 0, 0, 0, 1, 0, 0, 0, 1, 0, 0, 1, 1, 0,\n",
       "       0, 1, 0, 0, 0, 1, 1, 1, 0, 0, 1, 0, 1, 0, 1, 1, 0, 1, 0, 0, 1, 0,\n",
       "       1, 1, 0, 0, 1, 0, 1, 0, 0, 1, 0, 1, 0, 1, 1, 1, 0, 0, 1, 0, 1, 0,\n",
       "       0, 0, 1, 0, 0, 0, 0, 1, 1, 1, 0, 0, 0, 0, 0, 0, 0, 0, 0, 1, 0, 0,\n",
       "       0, 0, 0, 1, 1, 1, 0, 1, 1, 0, 0, 1, 0, 0, 1, 0, 0, 1, 1, 0, 0, 0,\n",
       "       0, 1, 0, 0, 1, 0, 0, 0, 0, 0, 0, 0, 1, 1, 1, 0, 0, 1, 0, 0, 1, 0,\n",
       "       0, 1, 0, 1, 1, 0, 1, 0, 1, 0, 1, 0, 1, 1, 0, 0, 0, 0, 1, 1, 0, 1,\n",
       "       0, 1, 0, 0, 0, 0, 1, 1, 0, 1, 0, 1, 0, 0, 0, 0, 0, 1, 0, 0, 0, 0,\n",
       "       1, 0, 0, 1, 1, 1, 0, 0, 1, 0, 0, 1, 0, 0, 0, 1, 0, 0, 1, 0, 0, 0,\n",
       "       0, 0, 0, 0, 0, 0, 1, 0, 0, 0, 0, 0, 0, 0, 1, 0, 0, 0, 1, 0, 0, 0,\n",
       "       1, 1, 0, 0, 0, 0, 0, 0, 0, 1, 0, 0, 0, 0, 1, 0, 0, 0, 1, 0, 0, 0,\n",
       "       1, 0, 0, 0, 1, 0, 0, 0, 0, 1, 1, 0, 0, 0, 0, 0, 0, 1, 0, 0, 0, 0,\n",
       "       0, 0, 0, 0, 0, 0, 0, 1, 0, 0, 0, 1, 1, 1, 1, 0, 0, 1, 1, 0, 0, 0,\n",
       "       0, 0, 0, 0, 0, 0, 0, 0, 0, 0, 1, 1, 0, 0, 0, 0, 0, 0, 0, 1, 0, 0,\n",
       "       0, 0, 0, 0, 0, 1, 0, 1, 1, 0, 0, 0, 1, 0, 1, 0, 1, 0, 1, 0, 1, 0,\n",
       "       0, 1, 0, 0, 1, 0, 0, 0, 0, 1, 1, 0, 1, 0, 0, 0, 0, 1, 1, 0, 1, 0,\n",
       "       0, 0, 1, 1, 0, 0, 0, 0, 0, 0, 0, 0, 0, 0, 1, 0, 0, 0, 0, 1, 0, 0,\n",
       "       1, 0, 0, 0, 1, 0, 0, 0, 1, 1, 1, 0, 0, 0, 0, 0, 0, 1, 0, 0, 0, 1,\n",
       "       0, 1, 1, 1, 1, 0, 1, 1, 0, 0, 0, 0, 0, 0, 0, 1, 1, 0, 1, 0, 0, 1,\n",
       "       0, 1, 0, 0, 0, 0, 0, 1, 0, 1, 0, 1, 0, 1, 1, 0, 0, 0, 0, 1, 1, 0,\n",
       "       0, 0, 1, 0, 1, 1, 0, 0, 1, 0, 0, 1, 1, 0, 0, 1, 0, 0, 1, 0, 0, 0,\n",
       "       0, 0, 0, 0, 1, 1, 1, 0, 0, 0, 0, 0, 0, 1, 1, 0, 0, 1, 0, 0, 1, 0,\n",
       "       1, 1, 1, 0, 0, 1, 1, 1, 0, 1, 0, 1, 0, 1, 0, 0, 0, 0, 1, 0])"
      ]
     },
     "execution_count": 3,
     "metadata": {},
     "output_type": "execute_result"
    }
   ],
   "source": [
    "y"
   ]
  },
  {
   "cell_type": "markdown",
   "id": "seasonal-three",
   "metadata": {},
   "source": [
    "# Training set and Test set"
   ]
  },
  {
   "cell_type": "code",
   "execution_count": 59,
   "id": "utility-shield",
   "metadata": {},
   "outputs": [],
   "source": [
    "from sklearn.model_selection import train_test_split\n",
    "\n",
    "xTrain, xTest, yTrain, yTest = train_test_split(x, y, test_size=0.25)"
   ]
  },
  {
   "cell_type": "code",
   "execution_count": 60,
   "id": "remarkable-appraisal",
   "metadata": {},
   "outputs": [
    {
     "name": "stdout",
     "output_type": "stream",
     "text": [
      "[[146  76]\n",
      " [136  84]\n",
      " [189  64]\n",
      " ...\n",
      " [180  66]\n",
      " [131  68]\n",
      " [179  50]]\n"
     ]
    }
   ],
   "source": [
    "print(xTrain)"
   ]
  },
  {
   "cell_type": "code",
   "execution_count": 61,
   "id": "loved-bowling",
   "metadata": {},
   "outputs": [
    {
     "name": "stdout",
     "output_type": "stream",
     "text": [
      "[0 1 1 0 0 1 0 1 0 0 0 0 1 0 0 0 0 0 0 0 0 0 0 0 0 1 1 0 1 0 1 1 0 0 0 0 0\n",
      " 1 0 0 1 0 0 1 0 1 0 0 0 0 1 1 0 1 0 0 0 0 0 1 0 1 0 0 0 1 0 0 0 0 0 0 0 1\n",
      " 1 0 0 0 1 0 1 0 0 0 0 0 1 0 0 0 0 1 0 0 0 1 0 0 0 1 1 0 0 1 1 0 0 1 0 0 0\n",
      " 0 0 1 0 0 0 1 0 1 0 0 0 0 0 0 0 0 1 0 0 1 0 0 1 0 0 0 0 0 1 0 0 0 0 0 0 0\n",
      " 0 0 1 0 0 1 1 0 1 0 1 1 1 1 1 0 0 0 1 1 0 0 1 0 0 0 1 0 1 0 1 1 0 0 0 1 0\n",
      " 0 1 1 1 1 0 1 0 0 1 0 1 0 0 0 1 0 0 0 0 0 1 0 0 1 1 0 0 0 1 1 1 0 0 1 0 1\n",
      " 0 0 0 0 0 0 0 0 1 0 1 0 1 0 1 0 1 0 0 1 1 1 1 0 1 0 0 0 1 1 1 0 0 0 1 0 0\n",
      " 1 1 1 0 0 0 0 1 0 0 0 1 0 1 1 0 0 0 0 0 1 1 0 0 0 1 1 0 0 0 0 1 0 1 1 0 0\n",
      " 0 0 0 1 0 0 0 0 0 0 1 0 0 0 0 1 1 0 1 0 0 0 0 0 1 1 0 0 0 0 1 1 1 1 0 0 0\n",
      " 0 1 1 0 0 0 1 0 0 1 0 1 1 0 0 0 1 0 0 0 0 0 1 1 0 1 0 0 0 1 1 0 1 1 1 1 0\n",
      " 0 1 0 0 0 0 0 1 1 1 1 0 0 0 0 0 0 1 1 1 1 0 0 1 0 1 0 1 0 0 0 0 0 0 0 0 0\n",
      " 1 0 0 0 0 1 0 1 0 1 0 1 0 0 0 0 0 0 0 0 0 0 0 0 1 1 1 0 0 0 0 0 0 0 0 0 1\n",
      " 1 1 0 0 0 0 1 0 0 0 0 0 1 0 0 1 0 0 0 0 0 1 0 0 1 0 0 0 0 0 1 1 0 0 1 1 1\n",
      " 0 0 0 0 0 0 0 0 1 1 0 1 0 0 1 0 1 1 0 0 1 0 0 1 0 0 0 0 0 0 0 0 1 1 1 0 1\n",
      " 0 1 0 0 0 0 0 0 0 1 0 0 1 0 0 0 0 0 0 1 0 0 0 0 0 0 0 0 0 0 0 0 1 0 0 0 1\n",
      " 1 1 0 0 1 0 0 0 1 0 0 1 1 1 0 1 0 1 1 0 1]\n"
     ]
    }
   ],
   "source": [
    "print(yTrain)"
   ]
  },
  {
   "cell_type": "code",
   "execution_count": 62,
   "id": "interested-jason",
   "metadata": {},
   "outputs": [
    {
     "name": "stdout",
     "output_type": "stream",
     "text": [
      "[[115  98]\n",
      " [169  74]\n",
      " [113  44]\n",
      " [ 81  78]\n",
      " [102  86]\n",
      " [138  82]\n",
      " [122  70]\n",
      " [138   0]\n",
      " [183  64]\n",
      " [104  74]\n",
      " [105  68]\n",
      " [123  74]\n",
      " [ 89  74]\n",
      " [146  92]\n",
      " [102  52]\n",
      " [158  76]\n",
      " [102  75]\n",
      " [188  78]\n",
      " [125  86]\n",
      " [ 88  62]\n",
      " [128  88]\n",
      " [187  70]\n",
      " [175  62]\n",
      " [168  88]\n",
      " [156  86]\n",
      " [140  94]\n",
      " [196  76]\n",
      " [ 97  68]\n",
      " [ 90  78]\n",
      " [ 95  66]\n",
      " [126  90]\n",
      " [ 95  60]\n",
      " [ 99  72]\n",
      " [146  78]\n",
      " [125  58]\n",
      " [100  84]\n",
      " [129  60]\n",
      " [134  70]\n",
      " [127  80]\n",
      " [159  64]\n",
      " [ 91  64]\n",
      " [165  90]\n",
      " [140  82]\n",
      " [113  64]\n",
      " [117  92]\n",
      " [163  72]\n",
      " [135  94]\n",
      " [ 87  68]\n",
      " [120  86]\n",
      " [ 89  24]\n",
      " [197  70]\n",
      " [156  86]\n",
      " [ 95  72]\n",
      " [173  74]\n",
      " [109  88]\n",
      " [ 93  70]\n",
      " [100  70]\n",
      " [124  76]\n",
      " [135  68]\n",
      " [181  64]\n",
      " [146   0]\n",
      " [120  70]\n",
      " [102  86]\n",
      " [153  88]\n",
      " [133  72]\n",
      " [126  60]\n",
      " [ 89  76]\n",
      " [152  90]\n",
      " [ 93 100]\n",
      " [164  82]\n",
      " [ 91  54]\n",
      " [138  60]\n",
      " [106  56]\n",
      " [128  78]\n",
      " [119  44]\n",
      " [111  62]\n",
      " [168  88]\n",
      " [198  66]\n",
      " [ 96 122]\n",
      " [124  80]\n",
      " [101  50]\n",
      " [134  58]\n",
      " [144  82]\n",
      " [109  58]\n",
      " [131  66]\n",
      " [148  84]\n",
      " [ 92  76]\n",
      " [142  86]\n",
      " [119  64]\n",
      " [123  48]\n",
      " [116  72]\n",
      " [158  84]\n",
      " [161  86]\n",
      " [193  70]\n",
      " [179  95]\n",
      " [151  90]\n",
      " [104  76]\n",
      " [128  80]\n",
      " [ 88  78]\n",
      " [ 86  68]\n",
      " [ 56  56]\n",
      " [ 84  90]\n",
      " [194  68]\n",
      " [ 80  66]\n",
      " [105  75]\n",
      " [106  82]\n",
      " [ 89  90]\n",
      " [173  78]\n",
      " [103  68]\n",
      " [137  40]\n",
      " [107  74]\n",
      " [100   0]\n",
      " [ 95  54]\n",
      " [140  74]\n",
      " [ 88  74]\n",
      " [167 106]\n",
      " [164  78]\n",
      " [136  70]\n",
      " [107  62]\n",
      " [115  72]\n",
      " [133  68]\n",
      " [100  64]\n",
      " [100  66]\n",
      " [130  64]\n",
      " [118  58]\n",
      " [138  76]\n",
      " [123  70]\n",
      " [ 96  64]\n",
      " [134  70]\n",
      " [128  98]\n",
      " [113  80]\n",
      " [ 99   0]\n",
      " [ 79  80]\n",
      " [100  70]\n",
      " [142  90]\n",
      " [176  90]\n",
      " [199  76]\n",
      " [ 85  74]\n",
      " [ 81  72]\n",
      " [ 93  56]\n",
      " [112  72]\n",
      " [ 77  56]\n",
      " [172  68]\n",
      " [115  64]\n",
      " [ 90  85]\n",
      " [ 87   0]\n",
      " [166  72]\n",
      " [ 78  48]\n",
      " [ 71  62]\n",
      " [148  66]\n",
      " [114  68]\n",
      " [121  78]\n",
      " [136  90]\n",
      " [113  76]\n",
      " [ 95  80]\n",
      " [108  66]\n",
      " [143  74]\n",
      " [109  60]\n",
      " [129  64]\n",
      " [115   0]\n",
      " [135   0]\n",
      " [107  60]\n",
      " [ 87  60]\n",
      " [137  90]\n",
      " [108  52]\n",
      " [184  85]\n",
      " [138  74]\n",
      " [173  84]\n",
      " [ 83  65]\n",
      " [ 84  68]\n",
      " [101  65]\n",
      " [ 85  74]\n",
      " [145  82]\n",
      " [137  84]\n",
      " [108  72]\n",
      " [ 80  82]\n",
      " [180   0]\n",
      " [190  92]\n",
      " [173  78]\n",
      " [ 84  50]\n",
      " [ 81  74]\n",
      " [105 100]\n",
      " [106  92]\n",
      " [103  72]\n",
      " [112  78]\n",
      " [102  76]\n",
      " [ 88  66]\n",
      " [120  76]\n",
      " [144  58]\n",
      " [187  50]\n",
      " [152  88]\n",
      " [147  78]]\n"
     ]
    }
   ],
   "source": [
    "print(xTest)"
   ]
  },
  {
   "cell_type": "code",
   "execution_count": 63,
   "id": "silent-mechanics",
   "metadata": {},
   "outputs": [
    {
     "name": "stdout",
     "output_type": "stream",
     "text": [
      "[1 1 0 0 1 0 0 1 1 1 0 0 0 1 0 1 0 1 0 0 1 1 1 1 1 1 1 0 0 0 1 0 0 1 0 0 0\n",
      " 1 0 0 0 0 1 1 0 1 0 0 1 0 1 1 0 1 1 0 0 1 1 1 1 0 0 0 1 1 0 1 0 0 0 1 0 1\n",
      " 0 0 1 1 0 0 0 0 0 0 1 1 0 1 0 0 0 1 1 1 0 0 0 0 0 0 0 0 1 0 0 0 0 1 0 1 1\n",
      " 1 0 0 0 1 1 1 1 1 0 0 1 0 0 0 0 0 1 1 0 0 0 0 1 1 1 1 0 0 0 0 1 0 1 0 1 0\n",
      " 0 0 0 0 0 1 0 1 0 0 1 1 1 0 0 0 0 1 1 1 0 0 0 0 0 0 0 1 1 1 0 0 0 1 0 0 0\n",
      " 1 0 0 0 1 1 0]\n"
     ]
    }
   ],
   "source": [
    "print(yTest)"
   ]
  },
  {
   "cell_type": "markdown",
   "id": "attached-sullivan",
   "metadata": {},
   "source": [
    "# Feature scaling"
   ]
  },
  {
   "cell_type": "code",
   "execution_count": 64,
   "id": "sacred-chile",
   "metadata": {},
   "outputs": [],
   "source": [
    "from sklearn.preprocessing import StandardScaler\n",
    "\n",
    "sc = StandardScaler()\n",
    "\n",
    "xTrain = sc.fit_transform(xTrain)\n",
    "xTest = sc.transform(xTest)"
   ]
  },
  {
   "cell_type": "code",
   "execution_count": 65,
   "id": "photographic-timeline",
   "metadata": {},
   "outputs": [
    {
     "name": "stdout",
     "output_type": "stream",
     "text": [
      "2\n"
     ]
    }
   ],
   "source": [
    "#print(xTrain)\n",
    "print(len(xTrain[0]))"
   ]
  },
  {
   "cell_type": "code",
   "execution_count": 66,
   "id": "nervous-mechanism",
   "metadata": {},
   "outputs": [
    {
     "name": "stdout",
     "output_type": "stream",
     "text": [
      "[[-0.1480637   1.52361844]\n",
      " [ 1.54571101  0.27657869]\n",
      " [-0.2107961  -1.28222099]\n",
      " [-1.21451445  0.48441865]\n",
      " [-0.55582428  0.90009856]\n",
      " [ 0.57335886  0.69225861]\n",
      " [ 0.07149969  0.06873874]\n",
      " [ 0.57335886 -3.56846052]\n",
      " [ 1.98483779 -0.2430212 ]\n",
      " [-0.49309189  0.27657869]\n",
      " [-0.46172569 -0.03518124]\n",
      " [ 0.10286588  0.27657869]\n",
      " [-0.96358486  0.27657869]\n",
      " [ 0.82428845  1.2118585 ]\n",
      " [-0.55582428 -0.86654107]\n",
      " [ 1.20068283  0.38049867]\n",
      " [-0.55582428  0.32853868]\n",
      " [ 2.14166879  0.48441865]\n",
      " [ 0.16559828  0.90009856]\n",
      " [-0.99495106 -0.34694118]\n",
      " [ 0.25969688  1.00401854]\n",
      " [ 2.11030259  0.06873874]\n",
      " [ 1.7339082  -0.34694118]\n",
      " [ 1.51434482  1.00401854]\n",
      " [ 1.13795043  0.90009856]\n",
      " [ 0.63609126  1.31577848]\n",
      " [ 2.39259837  0.38049867]\n",
      " [-0.71265528 -0.03518124]\n",
      " [-0.93221867  0.48441865]\n",
      " [-0.77538767 -0.13910122]\n",
      " [ 0.19696448  1.10793852]\n",
      " [-0.77538767 -0.45086116]\n",
      " [-0.64992288  0.17265871]\n",
      " [ 0.82428845  0.48441865]\n",
      " [ 0.16559828 -0.55478114]\n",
      " [-0.61855668  0.79617859]\n",
      " [ 0.29106307 -0.45086116]\n",
      " [ 0.44789407  0.06873874]\n",
      " [ 0.22833068  0.58833863]\n",
      " [ 1.23204903 -0.2430212 ]\n",
      " [-0.90085247 -0.2430212 ]\n",
      " [ 1.42024622  1.10793852]\n",
      " [ 0.63609126  0.69225861]\n",
      " [-0.2107961  -0.2430212 ]\n",
      " [-0.08533131  1.2118585 ]\n",
      " [ 1.35751382  0.17265871]\n",
      " [ 0.47926027  1.31577848]\n",
      " [-1.02631726 -0.03518124]\n",
      " [ 0.00876729  0.90009856]\n",
      " [-0.96358486 -2.32142077]\n",
      " [ 2.42396457  0.06873874]\n",
      " [ 1.13795043  0.90009856]\n",
      " [-0.77538767  0.17265871]\n",
      " [ 1.67117581  0.27657869]\n",
      " [-0.3362609   1.00401854]\n",
      " [-0.83812007  0.06873874]\n",
      " [-0.61855668  0.06873874]\n",
      " [ 0.13423208  0.38049867]\n",
      " [ 0.47926027 -0.03518124]\n",
      " [ 1.9221054  -0.2430212 ]\n",
      " [ 0.82428845 -3.56846052]\n",
      " [ 0.00876729  0.06873874]\n",
      " [-0.55582428  0.90009856]\n",
      " [ 1.04385184  1.00401854]\n",
      " [ 0.41652787  0.17265871]\n",
      " [ 0.19696448 -0.45086116]\n",
      " [-0.96358486  0.38049867]\n",
      " [ 1.01248564  1.10793852]\n",
      " [-0.83812007  1.62753841]\n",
      " [ 1.38888002  0.69225861]\n",
      " [-0.90085247 -0.76262109]\n",
      " [ 0.57335886 -0.45086116]\n",
      " [-0.43035949 -0.65870111]\n",
      " [ 0.25969688  0.48441865]\n",
      " [-0.02259891 -1.28222099]\n",
      " [-0.2735285  -0.34694118]\n",
      " [ 1.51434482  1.00401854]\n",
      " [ 2.45533077 -0.13910122]\n",
      " [-0.74402148  2.77065818]\n",
      " [ 0.13423208  0.58833863]\n",
      " [-0.58719048 -0.97046105]\n",
      " [ 0.44789407 -0.55478114]\n",
      " [ 0.76155605  0.69225861]\n",
      " [-0.3362609  -0.55478114]\n",
      " [ 0.35379547 -0.13910122]\n",
      " [ 0.88702085  0.79617859]\n",
      " [-0.86948627  0.38049867]\n",
      " [ 0.69882365  0.90009856]\n",
      " [-0.02259891 -0.2430212 ]\n",
      " [ 0.10286588 -1.07438103]\n",
      " [-0.11669751  0.17265871]\n",
      " [ 1.20068283  0.79617859]\n",
      " [ 1.29478143  0.90009856]\n",
      " [ 2.29849978  0.06873874]\n",
      " [ 1.859373    1.36773847]\n",
      " [ 0.98111944  1.10793852]\n",
      " [-0.49309189  0.38049867]\n",
      " [ 0.25969688  0.58833863]\n",
      " [-0.99495106  0.48441865]\n",
      " [-1.05768346 -0.03518124]\n",
      " [-1.99866941 -0.65870111]\n",
      " [-1.12041586  1.10793852]\n",
      " [ 2.32986598 -0.03518124]\n",
      " [-1.24588065 -0.13910122]\n",
      " [-0.46172569  0.32853868]\n",
      " [-0.43035949  0.69225861]\n",
      " [-0.96358486  1.10793852]\n",
      " [ 1.67117581  0.48441865]\n",
      " [-0.52445809 -0.03518124]\n",
      " [ 0.54199266 -1.49006094]\n",
      " [-0.39899329  0.27657869]\n",
      " [-0.61855668 -3.56846052]\n",
      " [-0.77538767 -0.76262109]\n",
      " [ 0.63609126  0.27657869]\n",
      " [-0.99495106  0.27657869]\n",
      " [ 1.48297862  1.93929835]\n",
      " [ 1.38888002  0.48441865]\n",
      " [ 0.51062646  0.06873874]\n",
      " [-0.39899329 -0.34694118]\n",
      " [-0.1480637   0.17265871]\n",
      " [ 0.41652787 -0.03518124]\n",
      " [-0.61855668 -0.2430212 ]\n",
      " [-0.61855668 -0.13910122]\n",
      " [ 0.32242927 -0.2430212 ]\n",
      " [-0.05396511 -0.55478114]\n",
      " [ 0.57335886  0.38049867]\n",
      " [ 0.10286588  0.06873874]\n",
      " [-0.74402148 -0.2430212 ]\n",
      " [ 0.44789407  0.06873874]\n",
      " [ 0.25969688  1.52361844]\n",
      " [-0.2107961   0.58833863]\n",
      " [-0.64992288 -3.56846052]\n",
      " [-1.27724685  0.58833863]\n",
      " [-0.61855668  0.06873874]\n",
      " [ 0.69882365  1.10793852]\n",
      " [ 1.7652744   1.10793852]\n",
      " [ 2.48669697  0.38049867]\n",
      " [-1.08904966  0.27657869]\n",
      " [-1.21451445  0.17265871]\n",
      " [-0.83812007 -0.65870111]\n",
      " [-0.2421623   0.17265871]\n",
      " [-1.33997925 -0.65870111]\n",
      " [ 1.63980961 -0.03518124]\n",
      " [-0.1480637  -0.2430212 ]\n",
      " [-0.93221867  0.84813858]\n",
      " [-1.02631726 -3.56846052]\n",
      " [ 1.45161242  0.17265871]\n",
      " [-1.30861305 -1.07438103]\n",
      " [-1.52817644 -0.34694118]\n",
      " [ 0.88702085 -0.13910122]\n",
      " [-0.1794299  -0.03518124]\n",
      " [ 0.04013349  0.48441865]\n",
      " [ 0.51062646  1.10793852]\n",
      " [-0.2107961   0.38049867]\n",
      " [-0.77538767  0.58833863]\n",
      " [-0.36762709 -0.13910122]\n",
      " [ 0.73018985  0.27657869]\n",
      " [-0.3362609  -0.45086116]\n",
      " [ 0.29106307 -0.2430212 ]\n",
      " [-0.1480637  -3.56846052]\n",
      " [ 0.47926027 -3.56846052]\n",
      " [-0.39899329 -0.45086116]\n",
      " [-1.02631726 -0.45086116]\n",
      " [ 0.54199266  1.10793852]\n",
      " [-0.36762709 -0.86654107]\n",
      " [ 2.01620399  0.84813858]\n",
      " [ 0.57335886  0.27657869]\n",
      " [ 1.67117581  0.79617859]\n",
      " [-1.15178206 -0.19106121]\n",
      " [-1.12041586 -0.03518124]\n",
      " [-0.58719048 -0.19106121]\n",
      " [-1.08904966  0.27657869]\n",
      " [ 0.79292225  0.69225861]\n",
      " [ 0.54199266  0.79617859]\n",
      " [-0.36762709  0.17265871]\n",
      " [-1.24588065  0.69225861]\n",
      " [ 1.8907392  -3.56846052]\n",
      " [ 2.20440118  1.2118585 ]\n",
      " [ 1.67117581  0.48441865]\n",
      " [-1.12041586 -0.97046105]\n",
      " [-1.21451445  0.27657869]\n",
      " [-0.46172569  1.62753841]\n",
      " [-0.43035949  1.2118585 ]\n",
      " [-0.52445809  0.17265871]\n",
      " [-0.2421623   0.48441865]\n",
      " [-0.55582428  0.38049867]\n",
      " [-0.99495106 -0.13910122]\n",
      " [ 0.00876729  0.38049867]\n",
      " [ 0.76155605 -0.55478114]\n",
      " [ 2.11030259 -0.97046105]\n",
      " [ 1.01248564  1.00401854]\n",
      " [ 0.85565465  0.48441865]]\n"
     ]
    }
   ],
   "source": [
    "print(xTest)"
   ]
  },
  {
   "cell_type": "markdown",
   "id": "floating-longer",
   "metadata": {},
   "source": [
    "# Applying a model (KNN)"
   ]
  },
  {
   "cell_type": "code",
   "execution_count": 67,
   "id": "banner-infection",
   "metadata": {},
   "outputs": [
    {
     "data": {
      "text/plain": [
       "KNeighborsClassifier()"
      ]
     },
     "execution_count": 67,
     "metadata": {},
     "output_type": "execute_result"
    }
   ],
   "source": [
    "from sklearn.neighbors import KNeighborsClassifier\n",
    "\n",
    "classifier = KNeighborsClassifier(n_neighbors = 5, p = 2)\n",
    "classifier.fit(xTrain, yTrain)"
   ]
  },
  {
   "cell_type": "markdown",
   "id": "prerequisite-institution",
   "metadata": {},
   "source": [
    "# Sample result"
   ]
  },
  {
   "cell_type": "code",
   "execution_count": 68,
   "id": "occupational-royal",
   "metadata": {},
   "outputs": [],
   "source": [
    "yPred = classifier.predict(xTest)\n"
   ]
  },
  {
   "cell_type": "markdown",
   "id": "through-manual",
   "metadata": {},
   "source": [
    "# Confusion Matrix"
   ]
  },
  {
   "cell_type": "code",
   "execution_count": 69,
   "id": "young-treatment",
   "metadata": {},
   "outputs": [
    {
     "name": "stdout",
     "output_type": "stream",
     "text": [
      "[[98 15]\n",
      " [37 42]]\n"
     ]
    }
   ],
   "source": [
    "from sklearn.metrics import confusion_matrix, accuracy_score\n",
    "\n",
    "cm = confusion_matrix(yTest, yPred)\n",
    "print(cm)"
   ]
  },
  {
   "cell_type": "markdown",
   "id": "short-judges",
   "metadata": {},
   "source": [
    "# Accuracy Score"
   ]
  },
  {
   "cell_type": "code",
   "execution_count": 70,
   "id": "announced-chemical",
   "metadata": {},
   "outputs": [
    {
     "name": "stdout",
     "output_type": "stream",
     "text": [
      "Acc:  72.91666666666666 %\n"
     ]
    }
   ],
   "source": [
    "acc = accuracy_score(yTest, yPred)\n",
    "print(\"Acc: \", acc*100, \"%\")"
   ]
  },
  {
   "cell_type": "markdown",
   "id": "rubber-symposium",
   "metadata": {},
   "source": [
    "# Visualising the training set and test set results"
   ]
  },
  {
   "cell_type": "markdown",
   "id": "selective-trial",
   "metadata": {},
   "source": [
    "## Training set"
   ]
  },
  {
   "cell_type": "code",
   "execution_count": 74,
   "id": "sound-recorder",
   "metadata": {},
   "outputs": [
    {
     "name": "stderr",
     "output_type": "stream",
     "text": [
      "*c* argument looks like a single numeric RGB or RGBA sequence, which should be avoided as value-mapping will have precedence in case its length matches with *x* & *y*.  Please use the *color* keyword-argument or provide a 2-D array with a single row if you intend to specify the same RGB or RGBA value for all points.\n",
      "*c* argument looks like a single numeric RGB or RGBA sequence, which should be avoided as value-mapping will have precedence in case its length matches with *x* & *y*.  Please use the *color* keyword-argument or provide a 2-D array with a single row if you intend to specify the same RGB or RGBA value for all points.\n"
     ]
    },
    {
     "data": {
      "image/png": "[encoded data removed]",
      "text/plain": [
       "<Figure size 432x288 with 1 Axes>"
      ]
     },
     "metadata": {
      "needs_background": "light"
     },
     "output_type": "display_data"
    }
   ],
   "source": [
    "from matplotlib.colors import ListedColormap\n",
    "\n",
    "xSet, ySet = sc.inverse_transform(xTrain), yTrain\n",
    "x1, x2 = np.meshgrid(\n",
    "    np.arange(start=xSet[:, 0].min() - 1, stop=xSet[:, 0].max() + 1, step=1),\n",
    "    np.arange(start=xSet[:, 1].min() - 1, stop=xSet[:, 1].max() + 1, step=1)\n",
    ")\n",
    "\n",
    "plt.contourf(\n",
    "    x1, x2,\n",
    "    classifier.predict(\n",
    "        sc.transform(np.array([x1.ravel(), x2.ravel()]).T)\n",
    "    ).reshape(x1.shape),\n",
    "    alpha=0.75,\n",
    "    cmap=ListedColormap(('red', 'green'))\n",
    ")\n",
    "\n",
    "plt.xlim(x1.min(), x1.max())\n",
    "plt.xlim(x2.min(), x2.max())\n",
    "\n",
    "for i, j in enumerate(np.unique(ySet)):\n",
    "    plt.scatter(\n",
    "        xSet[ySet == j, 0], xSet[ySet == j, 1], \n",
    "        c=ListedColormap(('red', 'green'))(i), label=j       \n",
    "    )\n",
    "    \n",
    "plt.title('KNN (Training)')\n",
    "plt.xlabel(\"X-axis\")\n",
    "plt.ylabel(\"Y-axis\")\n",
    "\n",
    "plt.legend()\n",
    "plt.show()"
   ]
  },
  {
   "cell_type": "markdown",
   "id": "laden-ghost",
   "metadata": {},
   "source": [
    "## Testing set"
   ]
  },
  {
   "cell_type": "code",
   "execution_count": 75,
   "id": "billion-poison",
   "metadata": {},
   "outputs": [
    {
     "name": "stderr",
     "output_type": "stream",
     "text": [
      "*c* argument looks like a single numeric RGB or RGBA sequence, which should be avoided as value-mapping will have precedence in case its length matches with *x* & *y*.  Please use the *color* keyword-argument or provide a 2-D array with a single row if you intend to specify the same RGB or RGBA value for all points.\n",
      "*c* argument looks like a single numeric RGB or RGBA sequence, which should be avoided as value-mapping will have precedence in case its length matches with *x* & *y*.  Please use the *color* keyword-argument or provide a 2-D array with a single row if you intend to specify the same RGB or RGBA value for all points.\n"
     ]
    },
    {
     "data": {
      "image/png": "[encoded data removed]",
      "text/plain": [
       "<Figure size 432x288 with 1 Axes>"
      ]
     },
     "metadata": {
      "needs_background": "light"
     },
     "output_type": "display_data"
    }
   ],
   "source": [
    "from matplotlib.colors import ListedColormap\n",
    "\n",
    "xSet, ySet = sc.inverse_transform(xTest), yTest\n",
    "x1, x2 = np.meshgrid(\n",
    "    np.arange(start=xSet[:, 0].min() - 1, stop=xSet[:, 0].max() + 1, step=1),\n",
    "    np.arange(start=xSet[:, 1].min() - 1, stop=xSet[:, 1].max() + 1, step=1)\n",
    ")\n",
    "\n",
    "plt.contourf(\n",
    "    x1, x2,\n",
    "    classifier.predict(\n",
    "        sc.transform(np.array([x1.ravel(), x2.ravel()]).T)\n",
    "    ).reshape(x1.shape),\n",
    "    alpha=0.75,\n",
    "    cmap=ListedColormap(('red', 'green'))\n",
    ")\n",
    "\n",
    "plt.xlim(x1.min(), x1.max())\n",
    "plt.xlim(x2.min(), x2.max())\n",
    "\n",
    "for i, j in enumerate(np.unique(ySet)):\n",
    "    plt.scatter(\n",
    "        xSet[ySet == j, 0], xSet[ySet == j, 1], \n",
    "        c=ListedColormap(('red', 'green'))(i), label=j       \n",
    "    )\n",
    "    \n",
    "plt.title('KNN (Training)')\n",
    "plt.xlabel(\"X-axis\")\n",
    "plt.ylabel(\"Y-axis\")\n",
    "\n",
    "plt.legend()\n",
    "plt.show()"
   ]
  },
  {
   "cell_type": "code",
   "execution_count": null,
   "id": "nominated-moscow",
   "metadata": {},
   "outputs": [],
   "source": []
  }
 ],
 "metadata": {
  "kernelspec": {
   "display_name": "Python 3 (ipykernel)",
   "language": "python",
   "name": "python3"
  },
  "language_info": {
   "codemirror_mode": {
    "name": "ipython",
    "version": 3
   },
   "file_extension": ".py",
   "mimetype": "text/x-python",
   "name": "python",
   "nbconvert_exporter": "python",
   "pygments_lexer": "ipython3",
   "version": "3.10.5"
  }
 },
 "nbformat": 4,
 "nbformat_minor": 5
}
