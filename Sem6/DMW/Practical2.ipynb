{
 "cells": [
  {
   "cell_type": "code",
   "execution_count": 1,
   "metadata": {},
   "outputs": [],
   "source": [
    "import pandas as pd"
   ]
  },
  {
   "cell_type": "markdown",
   "metadata": {},
   "source": [
    "# Import data"
   ]
  },
  {
   "cell_type": "code",
   "execution_count": 2,
   "metadata": {},
   "outputs": [
    {
     "data": {
      "text/html": [
       "<div>\n",
       "<style scoped>\n",
       "    .dataframe tbody tr th:only-of-type {\n",
       "        vertical-align: middle;\n",
       "    }\n",
       "\n",
       "    .dataframe tbody tr th {\n",
       "        vertical-align: top;\n",
       "    }\n",
       "\n",
       "    .dataframe thead th {\n",
       "        text-align: right;\n",
       "    }\n",
       "</style>\n",
       "<table border=\"1\" class=\"dataframe\">\n",
       "  <thead>\n",
       "    <tr style=\"text-align: right;\">\n",
       "      <th></th>\n",
       "      <th>Conference</th>\n",
       "      <th>Division</th>\n",
       "      <th>Team</th>\n",
       "      <th>Player</th>\n",
       "      <th>Age</th>\n",
       "      <th>Games</th>\n",
       "      <th>Games Started</th>\n",
       "      <th>Minutes Played</th>\n",
       "      <th>Field Goals</th>\n",
       "      <th>Field Goal Attempts</th>\n",
       "      <th>...</th>\n",
       "      <th>Free Throw Percentage</th>\n",
       "      <th>Offensive Rebounds</th>\n",
       "      <th>Defensive Rebounds</th>\n",
       "      <th>Total Rebounds</th>\n",
       "      <th>Assists</th>\n",
       "      <th>Steals</th>\n",
       "      <th>Blocks</th>\n",
       "      <th>Turnovers</th>\n",
       "      <th>Personal Fouls</th>\n",
       "      <th>Points</th>\n",
       "    </tr>\n",
       "  </thead>\n",
       "  <tbody>\n",
       "    <tr>\n",
       "      <th>0</th>\n",
       "      <td>Eastern</td>\n",
       "      <td>Atlantic</td>\n",
       "      <td>Boston Celtics</td>\n",
       "      <td>Jayson Tatum</td>\n",
       "      <td>20</td>\n",
       "      <td>79</td>\n",
       "      <td>79</td>\n",
       "      <td>2455</td>\n",
       "      <td>466</td>\n",
       "      <td>1036</td>\n",
       "      <td>...</td>\n",
       "      <td>0.855</td>\n",
       "      <td>70</td>\n",
       "      <td>407</td>\n",
       "      <td>477</td>\n",
       "      <td>168</td>\n",
       "      <td>84</td>\n",
       "      <td>57</td>\n",
       "      <td>122</td>\n",
       "      <td>168</td>\n",
       "      <td>1243</td>\n",
       "    </tr>\n",
       "    <tr>\n",
       "      <th>1</th>\n",
       "      <td>Eastern</td>\n",
       "      <td>Atlantic</td>\n",
       "      <td>Boston Celtics</td>\n",
       "      <td>Kyrie Irving</td>\n",
       "      <td>26</td>\n",
       "      <td>67</td>\n",
       "      <td>67</td>\n",
       "      <td>2214</td>\n",
       "      <td>604</td>\n",
       "      <td>1241</td>\n",
       "      <td>...</td>\n",
       "      <td>0.873</td>\n",
       "      <td>71</td>\n",
       "      <td>264</td>\n",
       "      <td>335</td>\n",
       "      <td>464</td>\n",
       "      <td>103</td>\n",
       "      <td>34</td>\n",
       "      <td>172</td>\n",
       "      <td>167</td>\n",
       "      <td>1596</td>\n",
       "    </tr>\n",
       "    <tr>\n",
       "      <th>2</th>\n",
       "      <td>Eastern</td>\n",
       "      <td>Atlantic</td>\n",
       "      <td>Boston Celtics</td>\n",
       "      <td>Marcus Smart</td>\n",
       "      <td>24</td>\n",
       "      <td>80</td>\n",
       "      <td>60</td>\n",
       "      <td>2200</td>\n",
       "      <td>239</td>\n",
       "      <td>567</td>\n",
       "      <td>...</td>\n",
       "      <td>0.806</td>\n",
       "      <td>57</td>\n",
       "      <td>177</td>\n",
       "      <td>234</td>\n",
       "      <td>321</td>\n",
       "      <td>143</td>\n",
       "      <td>28</td>\n",
       "      <td>123</td>\n",
       "      <td>201</td>\n",
       "      <td>708</td>\n",
       "    </tr>\n",
       "    <tr>\n",
       "      <th>3</th>\n",
       "      <td>Eastern</td>\n",
       "      <td>Atlantic</td>\n",
       "      <td>Boston Celtics</td>\n",
       "      <td>Marcus Morris</td>\n",
       "      <td>29</td>\n",
       "      <td>75</td>\n",
       "      <td>53</td>\n",
       "      <td>2091</td>\n",
       "      <td>377</td>\n",
       "      <td>844</td>\n",
       "      <td>...</td>\n",
       "      <td>0.844</td>\n",
       "      <td>76</td>\n",
       "      <td>382</td>\n",
       "      <td>458</td>\n",
       "      <td>109</td>\n",
       "      <td>43</td>\n",
       "      <td>25</td>\n",
       "      <td>92</td>\n",
       "      <td>181</td>\n",
       "      <td>1046</td>\n",
       "    </tr>\n",
       "    <tr>\n",
       "      <th>4</th>\n",
       "      <td>Eastern</td>\n",
       "      <td>Atlantic</td>\n",
       "      <td>Boston Celtics</td>\n",
       "      <td>Al Horford</td>\n",
       "      <td>32</td>\n",
       "      <td>68</td>\n",
       "      <td>68</td>\n",
       "      <td>1973</td>\n",
       "      <td>387</td>\n",
       "      <td>723</td>\n",
       "      <td>...</td>\n",
       "      <td>0.821</td>\n",
       "      <td>120</td>\n",
       "      <td>338</td>\n",
       "      <td>458</td>\n",
       "      <td>283</td>\n",
       "      <td>59</td>\n",
       "      <td>86</td>\n",
       "      <td>102</td>\n",
       "      <td>126</td>\n",
       "      <td>925</td>\n",
       "    </tr>\n",
       "    <tr>\n",
       "      <th>5</th>\n",
       "      <td>Eastern</td>\n",
       "      <td>Atlantic</td>\n",
       "      <td>Boston Celtics</td>\n",
       "      <td>Jaylen Brown</td>\n",
       "      <td>22</td>\n",
       "      <td>74</td>\n",
       "      <td>25</td>\n",
       "      <td>1913</td>\n",
       "      <td>368</td>\n",
       "      <td>792</td>\n",
       "      <td>...</td>\n",
       "      <td>0.658</td>\n",
       "      <td>65</td>\n",
       "      <td>248</td>\n",
       "      <td>313</td>\n",
       "      <td>100</td>\n",
       "      <td>69</td>\n",
       "      <td>32</td>\n",
       "      <td>99</td>\n",
       "      <td>186</td>\n",
       "      <td>964</td>\n",
       "    </tr>\n",
       "    <tr>\n",
       "      <th>6</th>\n",
       "      <td>Eastern</td>\n",
       "      <td>Atlantic</td>\n",
       "      <td>Boston Celtics</td>\n",
       "      <td>Gordon Hayward</td>\n",
       "      <td>28</td>\n",
       "      <td>72</td>\n",
       "      <td>18</td>\n",
       "      <td>1863</td>\n",
       "      <td>296</td>\n",
       "      <td>635</td>\n",
       "      <td>...</td>\n",
       "      <td>0.834</td>\n",
       "      <td>51</td>\n",
       "      <td>271</td>\n",
       "      <td>322</td>\n",
       "      <td>244</td>\n",
       "      <td>62</td>\n",
       "      <td>23</td>\n",
       "      <td>105</td>\n",
       "      <td>104</td>\n",
       "      <td>825</td>\n",
       "    </tr>\n",
       "    <tr>\n",
       "      <th>7</th>\n",
       "      <td>Eastern</td>\n",
       "      <td>Atlantic</td>\n",
       "      <td>Boston Celtics</td>\n",
       "      <td>Terry Rozier</td>\n",
       "      <td>24</td>\n",
       "      <td>79</td>\n",
       "      <td>14</td>\n",
       "      <td>1791</td>\n",
       "      <td>258</td>\n",
       "      <td>666</td>\n",
       "      <td>...</td>\n",
       "      <td>0.785</td>\n",
       "      <td>32</td>\n",
       "      <td>275</td>\n",
       "      <td>307</td>\n",
       "      <td>231</td>\n",
       "      <td>68</td>\n",
       "      <td>21</td>\n",
       "      <td>68</td>\n",
       "      <td>101</td>\n",
       "      <td>708</td>\n",
       "    </tr>\n",
       "    <tr>\n",
       "      <th>8</th>\n",
       "      <td>Eastern</td>\n",
       "      <td>Atlantic</td>\n",
       "      <td>Boston Celtics</td>\n",
       "      <td>Daniel Theis</td>\n",
       "      <td>26</td>\n",
       "      <td>66</td>\n",
       "      <td>2</td>\n",
       "      <td>908</td>\n",
       "      <td>146</td>\n",
       "      <td>266</td>\n",
       "      <td>...</td>\n",
       "      <td>0.737</td>\n",
       "      <td>87</td>\n",
       "      <td>138</td>\n",
       "      <td>225</td>\n",
       "      <td>68</td>\n",
       "      <td>21</td>\n",
       "      <td>42</td>\n",
       "      <td>33</td>\n",
       "      <td>161</td>\n",
       "      <td>374</td>\n",
       "    </tr>\n",
       "    <tr>\n",
       "      <th>9</th>\n",
       "      <td>Eastern</td>\n",
       "      <td>Atlantic</td>\n",
       "      <td>Boston Celtics</td>\n",
       "      <td>Aron Baynes</td>\n",
       "      <td>32</td>\n",
       "      <td>51</td>\n",
       "      <td>18</td>\n",
       "      <td>821</td>\n",
       "      <td>105</td>\n",
       "      <td>223</td>\n",
       "      <td>...</td>\n",
       "      <td>0.855</td>\n",
       "      <td>88</td>\n",
       "      <td>152</td>\n",
       "      <td>240</td>\n",
       "      <td>57</td>\n",
       "      <td>12</td>\n",
       "      <td>34</td>\n",
       "      <td>40</td>\n",
       "      <td>125</td>\n",
       "      <td>284</td>\n",
       "    </tr>\n",
       "  </tbody>\n",
       "</table>\n",
       "<p>10 rows × 30 columns</p>\n",
       "</div>"
      ],
      "text/plain": [
       "  Conference  Division            Team          Player  Age  Games  \\\n",
       "0    Eastern  Atlantic  Boston Celtics    Jayson Tatum   20     79   \n",
       "1    Eastern  Atlantic  Boston Celtics    Kyrie Irving   26     67   \n",
       "2    Eastern  Atlantic  Boston Celtics    Marcus Smart   24     80   \n",
       "3    Eastern  Atlantic  Boston Celtics   Marcus Morris   29     75   \n",
       "4    Eastern  Atlantic  Boston Celtics      Al Horford   32     68   \n",
       "5    Eastern  Atlantic  Boston Celtics    Jaylen Brown   22     74   \n",
       "6    Eastern  Atlantic  Boston Celtics  Gordon Hayward   28     72   \n",
       "7    Eastern  Atlantic  Boston Celtics    Terry Rozier   24     79   \n",
       "8    Eastern  Atlantic  Boston Celtics    Daniel Theis   26     66   \n",
       "9    Eastern  Atlantic  Boston Celtics     Aron Baynes   32     51   \n",
       "\n",
       "   Games Started  Minutes Played  Field Goals  Field Goal Attempts  ...  \\\n",
       "0             79            2455          466                 1036  ...   \n",
       "1             67            2214          604                 1241  ...   \n",
       "2             60            2200          239                  567  ...   \n",
       "3             53            2091          377                  844  ...   \n",
       "4             68            1973          387                  723  ...   \n",
       "5             25            1913          368                  792  ...   \n",
       "6             18            1863          296                  635  ...   \n",
       "7             14            1791          258                  666  ...   \n",
       "8              2             908          146                  266  ...   \n",
       "9             18             821          105                  223  ...   \n",
       "\n",
       "   Free Throw Percentage  Offensive Rebounds  Defensive Rebounds  \\\n",
       "0                  0.855                  70                 407   \n",
       "1                  0.873                  71                 264   \n",
       "2                  0.806                  57                 177   \n",
       "3                  0.844                  76                 382   \n",
       "4                  0.821                 120                 338   \n",
       "5                  0.658                  65                 248   \n",
       "6                  0.834                  51                 271   \n",
       "7                  0.785                  32                 275   \n",
       "8                  0.737                  87                 138   \n",
       "9                  0.855                  88                 152   \n",
       "\n",
       "   Total Rebounds  Assists  Steals  Blocks  Turnovers  Personal Fouls  Points  \n",
       "0             477      168      84      57        122             168    1243  \n",
       "1             335      464     103      34        172             167    1596  \n",
       "2             234      321     143      28        123             201     708  \n",
       "3             458      109      43      25         92             181    1046  \n",
       "4             458      283      59      86        102             126     925  \n",
       "5             313      100      69      32         99             186     964  \n",
       "6             322      244      62      23        105             104     825  \n",
       "7             307      231      68      21         68             101     708  \n",
       "8             225       68      21      42         33             161     374  \n",
       "9             240       57      12      34         40             125     284  \n",
       "\n",
       "[10 rows x 30 columns]"
      ]
     },
     "execution_count": 2,
     "metadata": {},
     "output_type": "execute_result"
    }
   ],
   "source": [
    "df = pd.read_csv(\"Dataset/NBA_2018-19_Season.csv\")\n",
    "df.head(10)"
   ]
  },
  {
   "cell_type": "markdown",
   "metadata": {},
   "source": [
    "# 1) Find out the average age of the player who have played for NBA?"
   ]
  },
  {
   "cell_type": "code",
   "execution_count": 3,
   "metadata": {},
   "outputs": [
    {
     "data": {
      "text/plain": [
       "26.04823151125402"
      ]
     },
     "execution_count": 3,
     "metadata": {},
     "output_type": "execute_result"
    }
   ],
   "source": [
    "df['Age'].mean()"
   ]
  },
  {
   "cell_type": "markdown",
   "metadata": {},
   "source": [
    "# 2) Find out that each player have played how many games?"
   ]
  },
  {
   "cell_type": "code",
   "execution_count": 4,
   "metadata": {},
   "outputs": [
    {
     "data": {
      "text/html": [
       "<div>\n",
       "<style scoped>\n",
       "    .dataframe tbody tr th:only-of-type {\n",
       "        vertical-align: middle;\n",
       "    }\n",
       "\n",
       "    .dataframe tbody tr th {\n",
       "        vertical-align: top;\n",
       "    }\n",
       "\n",
       "    .dataframe thead th {\n",
       "        text-align: right;\n",
       "    }\n",
       "</style>\n",
       "<table border=\"1\" class=\"dataframe\">\n",
       "  <thead>\n",
       "    <tr style=\"text-align: right;\">\n",
       "      <th></th>\n",
       "      <th>Player</th>\n",
       "      <th>Games</th>\n",
       "    </tr>\n",
       "  </thead>\n",
       "  <tbody>\n",
       "    <tr>\n",
       "      <th>0</th>\n",
       "      <td>Jayson Tatum</td>\n",
       "      <td>79</td>\n",
       "    </tr>\n",
       "    <tr>\n",
       "      <th>1</th>\n",
       "      <td>Kyrie Irving</td>\n",
       "      <td>67</td>\n",
       "    </tr>\n",
       "    <tr>\n",
       "      <th>2</th>\n",
       "      <td>Marcus Smart</td>\n",
       "      <td>80</td>\n",
       "    </tr>\n",
       "    <tr>\n",
       "      <th>3</th>\n",
       "      <td>Marcus Morris</td>\n",
       "      <td>75</td>\n",
       "    </tr>\n",
       "    <tr>\n",
       "      <th>4</th>\n",
       "      <td>Al Horford</td>\n",
       "      <td>68</td>\n",
       "    </tr>\n",
       "    <tr>\n",
       "      <th>...</th>\n",
       "      <td>...</td>\n",
       "      <td>...</td>\n",
       "    </tr>\n",
       "    <tr>\n",
       "      <th>617</th>\n",
       "      <td>Salah Mejri</td>\n",
       "      <td>36</td>\n",
       "    </tr>\n",
       "    <tr>\n",
       "      <th>618</th>\n",
       "      <td>Courtney Lee</td>\n",
       "      <td>22</td>\n",
       "    </tr>\n",
       "    <tr>\n",
       "      <th>619</th>\n",
       "      <td>Daryl Macon</td>\n",
       "      <td>8</td>\n",
       "    </tr>\n",
       "    <tr>\n",
       "      <th>620</th>\n",
       "      <td>Kostas Antetokounmpo</td>\n",
       "      <td>2</td>\n",
       "    </tr>\n",
       "    <tr>\n",
       "      <th>621</th>\n",
       "      <td>Ray Spalding</td>\n",
       "      <td>1</td>\n",
       "    </tr>\n",
       "  </tbody>\n",
       "</table>\n",
       "<p>622 rows × 2 columns</p>\n",
       "</div>"
      ],
      "text/plain": [
       "                   Player  Games\n",
       "0            Jayson Tatum     79\n",
       "1            Kyrie Irving     67\n",
       "2            Marcus Smart     80\n",
       "3           Marcus Morris     75\n",
       "4              Al Horford     68\n",
       "..                    ...    ...\n",
       "617           Salah Mejri     36\n",
       "618          Courtney Lee     22\n",
       "619           Daryl Macon      8\n",
       "620  Kostas Antetokounmpo      2\n",
       "621          Ray Spalding      1\n",
       "\n",
       "[622 rows x 2 columns]"
      ]
     },
     "execution_count": 4,
     "metadata": {},
     "output_type": "execute_result"
    }
   ],
   "source": [
    "df[['Player', 'Games']]"
   ]
  },
  {
   "cell_type": "markdown",
   "metadata": {},
   "source": [
    "# 3) Total how many teams are there in NBA?"
   ]
  },
  {
   "cell_type": "code",
   "execution_count": 5,
   "metadata": {},
   "outputs": [
    {
     "data": {
      "text/plain": [
       "30"
      ]
     },
     "execution_count": 5,
     "metadata": {},
     "output_type": "execute_result"
    }
   ],
   "source": [
    "len(df['Team'].unique())"
   ]
  },
  {
   "cell_type": "markdown",
   "metadata": {},
   "source": [
    "# 4) What is the minimum age of the player that have played for NBA?"
   ]
  },
  {
   "cell_type": "code",
   "execution_count": 6,
   "metadata": {},
   "outputs": [
    {
     "data": {
      "text/plain": [
       "19"
      ]
     },
     "execution_count": 6,
     "metadata": {},
     "output_type": "execute_result"
    }
   ],
   "source": [
    "df['Age'].min()"
   ]
  },
  {
   "cell_type": "markdown",
   "metadata": {},
   "source": [
    "# 5) What is the maximum age of the player that have played for NBA and display its details?"
   ]
  },
  {
   "cell_type": "code",
   "execution_count": 7,
   "metadata": {},
   "outputs": [
    {
     "data": {
      "text/html": [
       "<div>\n",
       "<style scoped>\n",
       "    .dataframe tbody tr th:only-of-type {\n",
       "        vertical-align: middle;\n",
       "    }\n",
       "\n",
       "    .dataframe tbody tr th {\n",
       "        vertical-align: top;\n",
       "    }\n",
       "\n",
       "    .dataframe thead th {\n",
       "        text-align: right;\n",
       "    }\n",
       "</style>\n",
       "<table border=\"1\" class=\"dataframe\">\n",
       "  <thead>\n",
       "    <tr style=\"text-align: right;\">\n",
       "      <th></th>\n",
       "      <th>Conference</th>\n",
       "      <th>Division</th>\n",
       "      <th>Team</th>\n",
       "      <th>Player</th>\n",
       "      <th>Age</th>\n",
       "      <th>Games</th>\n",
       "      <th>Games Started</th>\n",
       "      <th>Minutes Played</th>\n",
       "      <th>Field Goals</th>\n",
       "      <th>Field Goal Attempts</th>\n",
       "      <th>...</th>\n",
       "      <th>Free Throw Percentage</th>\n",
       "      <th>Offensive Rebounds</th>\n",
       "      <th>Defensive Rebounds</th>\n",
       "      <th>Total Rebounds</th>\n",
       "      <th>Assists</th>\n",
       "      <th>Steals</th>\n",
       "      <th>Blocks</th>\n",
       "      <th>Turnovers</th>\n",
       "      <th>Personal Fouls</th>\n",
       "      <th>Points</th>\n",
       "    </tr>\n",
       "  </thead>\n",
       "  <tbody>\n",
       "    <tr>\n",
       "      <th>302</th>\n",
       "      <td>Eastern</td>\n",
       "      <td>Southeast</td>\n",
       "      <td>Atlanta Hawks</td>\n",
       "      <td>Vince Carter</td>\n",
       "      <td>42</td>\n",
       "      <td>76</td>\n",
       "      <td>9</td>\n",
       "      <td>1330</td>\n",
       "      <td>196</td>\n",
       "      <td>468</td>\n",
       "      <td>...</td>\n",
       "      <td>0.712</td>\n",
       "      <td>31</td>\n",
       "      <td>163</td>\n",
       "      <td>194</td>\n",
       "      <td>87</td>\n",
       "      <td>44</td>\n",
       "      <td>27</td>\n",
       "      <td>48</td>\n",
       "      <td>141</td>\n",
       "      <td>562</td>\n",
       "    </tr>\n",
       "  </tbody>\n",
       "</table>\n",
       "<p>1 rows × 30 columns</p>\n",
       "</div>"
      ],
      "text/plain": [
       "    Conference   Division           Team        Player  Age  Games  \\\n",
       "302    Eastern  Southeast  Atlanta Hawks  Vince Carter   42     76   \n",
       "\n",
       "     Games Started  Minutes Played  Field Goals  Field Goal Attempts  ...  \\\n",
       "302              9            1330          196                  468  ...   \n",
       "\n",
       "     Free Throw Percentage  Offensive Rebounds  Defensive Rebounds  \\\n",
       "302                  0.712                  31                 163   \n",
       "\n",
       "     Total Rebounds  Assists  Steals  Blocks  Turnovers  Personal Fouls  \\\n",
       "302             194       87      44      27         48             141   \n",
       "\n",
       "     Points  \n",
       "302     562  \n",
       "\n",
       "[1 rows x 30 columns]"
      ]
     },
     "execution_count": 7,
     "metadata": {},
     "output_type": "execute_result"
    }
   ],
   "source": [
    "df[df['Age'] == df['Age'].max()]"
   ]
  },
  {
   "cell_type": "markdown",
   "metadata": {},
   "source": [
    "# 6) Find out how many games have been organized in Eastern region."
   ]
  },
  {
   "cell_type": "code",
   "execution_count": 8,
   "metadata": {},
   "outputs": [
    {
     "data": {
      "text/plain": [
       "316"
      ]
     },
     "execution_count": 8,
     "metadata": {},
     "output_type": "execute_result"
    }
   ],
   "source": [
    "df[df['Conference'] == 'Eastern'].count()['Games']"
   ]
  },
  {
   "cell_type": "markdown",
   "metadata": {},
   "source": [
    "# 7) Find out the how many regions are there were the games have been organized?"
   ]
  },
  {
   "cell_type": "code",
   "execution_count": 9,
   "metadata": {},
   "outputs": [
    {
     "data": {
      "text/plain": [
       "2"
      ]
     },
     "execution_count": 9,
     "metadata": {},
     "output_type": "execute_result"
    }
   ],
   "source": [
    "len(df['Conference'].unique())"
   ]
  },
  {
   "cell_type": "markdown",
   "metadata": {},
   "source": [
    "# 8) Find Display the list of the player who have played in the team called \"Boston Celtics\""
   ]
  },
  {
   "cell_type": "code",
   "execution_count": 10,
   "metadata": {},
   "outputs": [
    {
     "data": {
      "text/plain": [
       "0           Jayson Tatum\n",
       "1           Kyrie Irving\n",
       "2           Marcus Smart\n",
       "3          Marcus Morris\n",
       "4             Al Horford\n",
       "5           Jaylen Brown\n",
       "6         Gordon Hayward\n",
       "7           Terry Rozier\n",
       "8           Daniel Theis\n",
       "9            Aron Baynes\n",
       "10          Semi Ojeleye\n",
       "11        Brad Wanamaker\n",
       "12       Robert Williams\n",
       "13    Guerschon Yabusele\n",
       "14             PJ Dozier\n",
       "15           R.J. Hunter\n",
       "16           Greg Monroe\n",
       "Name: Player, dtype: object"
      ]
     },
     "execution_count": 10,
     "metadata": {},
     "output_type": "execute_result"
    }
   ],
   "source": [
    "df[df['Team'] == \"Boston Celtics\"]['Player']"
   ]
  },
  {
   "cell_type": "markdown",
   "metadata": {},
   "source": [
    "# 9) Find out the total number of games organized in each division?"
   ]
  },
  {
   "cell_type": "code",
   "execution_count": 11,
   "metadata": {},
   "outputs": [
    {
     "data": {
      "text/plain": [
       "Division\n",
       "Atlantic     4319\n",
       "Central      4345\n",
       "Northwest    4396\n",
       "Pacific      4453\n",
       "Southeast    4312\n",
       "Southwest    4276\n",
       "Name: Games, dtype: int64"
      ]
     },
     "execution_count": 11,
     "metadata": {},
     "output_type": "execute_result"
    }
   ],
   "source": [
    "group = df.groupby('Division')\n",
    "group.sum()['Games']"
   ]
  },
  {
   "cell_type": "markdown",
   "metadata": {},
   "source": [
    "# 10) Which player have scored the maximum number of goals?\n",
    "\n",
    "There are 3 Goals: Field goals, 3-points field goals, & 2-points field goals. Just use maximum field goals!"
   ]
  },
  {
   "cell_type": "code",
   "execution_count": 13,
   "metadata": {},
   "outputs": [
    {
     "data": {
      "text/html": [
       "<div>\n",
       "<style scoped>\n",
       "    .dataframe tbody tr th:only-of-type {\n",
       "        vertical-align: middle;\n",
       "    }\n",
       "\n",
       "    .dataframe tbody tr th {\n",
       "        vertical-align: top;\n",
       "    }\n",
       "\n",
       "    .dataframe thead th {\n",
       "        text-align: right;\n",
       "    }\n",
       "</style>\n",
       "<table border=\"1\" class=\"dataframe\">\n",
       "  <thead>\n",
       "    <tr style=\"text-align: right;\">\n",
       "      <th></th>\n",
       "      <th>Conference</th>\n",
       "      <th>Division</th>\n",
       "      <th>Team</th>\n",
       "      <th>Player</th>\n",
       "      <th>Age</th>\n",
       "      <th>Games</th>\n",
       "      <th>Games Started</th>\n",
       "      <th>Minutes Played</th>\n",
       "      <th>Field Goals</th>\n",
       "      <th>Field Goal Attempts</th>\n",
       "      <th>...</th>\n",
       "      <th>Free Throw Percentage</th>\n",
       "      <th>Offensive Rebounds</th>\n",
       "      <th>Defensive Rebounds</th>\n",
       "      <th>Total Rebounds</th>\n",
       "      <th>Assists</th>\n",
       "      <th>Steals</th>\n",
       "      <th>Blocks</th>\n",
       "      <th>Turnovers</th>\n",
       "      <th>Personal Fouls</th>\n",
       "      <th>Points</th>\n",
       "    </tr>\n",
       "  </thead>\n",
       "  <tbody>\n",
       "    <tr>\n",
       "      <th>514</th>\n",
       "      <td>Western</td>\n",
       "      <td>Southwest</td>\n",
       "      <td>Houston Rockets</td>\n",
       "      <td>James Harden</td>\n",
       "      <td>29</td>\n",
       "      <td>78</td>\n",
       "      <td>78</td>\n",
       "      <td>2867</td>\n",
       "      <td>843</td>\n",
       "      <td>1909</td>\n",
       "      <td>...</td>\n",
       "      <td>0.879</td>\n",
       "      <td>66</td>\n",
       "      <td>452</td>\n",
       "      <td>518</td>\n",
       "      <td>586</td>\n",
       "      <td>158</td>\n",
       "      <td>58</td>\n",
       "      <td>387</td>\n",
       "      <td>244</td>\n",
       "      <td>2818</td>\n",
       "    </tr>\n",
       "  </tbody>\n",
       "</table>\n",
       "<p>1 rows × 30 columns</p>\n",
       "</div>"
      ],
      "text/plain": [
       "    Conference   Division             Team        Player  Age  Games  \\\n",
       "514    Western  Southwest  Houston Rockets  James Harden   29     78   \n",
       "\n",
       "     Games Started  Minutes Played  Field Goals  Field Goal Attempts  ...  \\\n",
       "514             78            2867          843                 1909  ...   \n",
       "\n",
       "     Free Throw Percentage  Offensive Rebounds  Defensive Rebounds  \\\n",
       "514                  0.879                  66                 452   \n",
       "\n",
       "     Total Rebounds  Assists  Steals  Blocks  Turnovers  Personal Fouls  \\\n",
       "514             518      586     158      58        387             244   \n",
       "\n",
       "     Points  \n",
       "514    2818  \n",
       "\n",
       "[1 rows x 30 columns]"
      ]
     },
     "execution_count": 13,
     "metadata": {},
     "output_type": "execute_result"
    }
   ],
   "source": [
    "df[df['Field Goals'] == df['Field Goals'].max()]"
   ]
  },
  {
   "cell_type": "markdown",
   "metadata": {},
   "source": [
    "# 11) Which player have the lowest number of personal fouls?"
   ]
  },
  {
   "cell_type": "code",
   "execution_count": 16,
   "metadata": {},
   "outputs": [
    {
     "data": {
      "text/html": [
       "<div>\n",
       "<style scoped>\n",
       "    .dataframe tbody tr th:only-of-type {\n",
       "        vertical-align: middle;\n",
       "    }\n",
       "\n",
       "    .dataframe tbody tr th {\n",
       "        vertical-align: top;\n",
       "    }\n",
       "\n",
       "    .dataframe thead th {\n",
       "        text-align: right;\n",
       "    }\n",
       "</style>\n",
       "<table border=\"1\" class=\"dataframe\">\n",
       "  <thead>\n",
       "    <tr style=\"text-align: right;\">\n",
       "      <th></th>\n",
       "      <th>Player</th>\n",
       "      <th>Personal Fouls</th>\n",
       "    </tr>\n",
       "  </thead>\n",
       "  <tbody>\n",
       "    <tr>\n",
       "      <th>16</th>\n",
       "      <td>Greg Monroe</td>\n",
       "      <td>0</td>\n",
       "    </tr>\n",
       "    <tr>\n",
       "      <th>130</th>\n",
       "      <td>Trevon Duval</td>\n",
       "      <td>0</td>\n",
       "    </tr>\n",
       "    <tr>\n",
       "      <th>147</th>\n",
       "      <td>Ike Anigbogu</td>\n",
       "      <td>0</td>\n",
       "    </tr>\n",
       "    <tr>\n",
       "      <th>165</th>\n",
       "      <td>Sviatoslav Mykhailiuk</td>\n",
       "      <td>0</td>\n",
       "    </tr>\n",
       "    <tr>\n",
       "      <th>167</th>\n",
       "      <td>Zach Lofton</td>\n",
       "      <td>0</td>\n",
       "    </tr>\n",
       "    <tr>\n",
       "      <th>189</th>\n",
       "      <td>Tyler Ulis</td>\n",
       "      <td>0</td>\n",
       "    </tr>\n",
       "    <tr>\n",
       "      <th>215</th>\n",
       "      <td>Kobi Simmons</td>\n",
       "      <td>0</td>\n",
       "    </tr>\n",
       "    <tr>\n",
       "      <th>216</th>\n",
       "      <td>John Holland</td>\n",
       "      <td>0</td>\n",
       "    </tr>\n",
       "    <tr>\n",
       "      <th>233</th>\n",
       "      <td>Troy Caupain</td>\n",
       "      <td>0</td>\n",
       "    </tr>\n",
       "    <tr>\n",
       "      <th>249</th>\n",
       "      <td>J.P. Macura</td>\n",
       "      <td>0</td>\n",
       "    </tr>\n",
       "    <tr>\n",
       "      <th>267</th>\n",
       "      <td>Yante Maten</td>\n",
       "      <td>0</td>\n",
       "    </tr>\n",
       "    <tr>\n",
       "      <th>268</th>\n",
       "      <td>Emanuel Terry</td>\n",
       "      <td>0</td>\n",
       "    </tr>\n",
       "    <tr>\n",
       "      <th>292</th>\n",
       "      <td>John Jenkins</td>\n",
       "      <td>0</td>\n",
       "    </tr>\n",
       "    <tr>\n",
       "      <th>293</th>\n",
       "      <td>Okaro White</td>\n",
       "      <td>0</td>\n",
       "    </tr>\n",
       "    <tr>\n",
       "      <th>315</th>\n",
       "      <td>Jordan Sibert</td>\n",
       "      <td>0</td>\n",
       "    </tr>\n",
       "    <tr>\n",
       "      <th>385</th>\n",
       "      <td>Donte Grantham</td>\n",
       "      <td>0</td>\n",
       "    </tr>\n",
       "    <tr>\n",
       "      <th>386</th>\n",
       "      <td>Tyler Davis</td>\n",
       "      <td>0</td>\n",
       "    </tr>\n",
       "    <tr>\n",
       "      <th>387</th>\n",
       "      <td>Jawun Evans</td>\n",
       "      <td>0</td>\n",
       "    </tr>\n",
       "    <tr>\n",
       "      <th>408</th>\n",
       "      <td>Mitch Creek</td>\n",
       "      <td>0</td>\n",
       "    </tr>\n",
       "    <tr>\n",
       "      <th>489</th>\n",
       "      <td>Andre Ingram</td>\n",
       "      <td>0</td>\n",
       "    </tr>\n",
       "    <tr>\n",
       "      <th>512</th>\n",
       "      <td>George King</td>\n",
       "      <td>0</td>\n",
       "    </tr>\n",
       "    <tr>\n",
       "      <th>534</th>\n",
       "      <td>Vince Edwards</td>\n",
       "      <td>0</td>\n",
       "    </tr>\n",
       "    <tr>\n",
       "      <th>536</th>\n",
       "      <td>Zhou Qi</td>\n",
       "      <td>0</td>\n",
       "    </tr>\n",
       "    <tr>\n",
       "      <th>579</th>\n",
       "      <td>D.J. Stephens</td>\n",
       "      <td>0</td>\n",
       "    </tr>\n",
       "    <tr>\n",
       "      <th>620</th>\n",
       "      <td>Kostas Antetokounmpo</td>\n",
       "      <td>0</td>\n",
       "    </tr>\n",
       "    <tr>\n",
       "      <th>621</th>\n",
       "      <td>Ray Spalding</td>\n",
       "      <td>0</td>\n",
       "    </tr>\n",
       "  </tbody>\n",
       "</table>\n",
       "</div>"
      ],
      "text/plain": [
       "                    Player  Personal Fouls\n",
       "16             Greg Monroe               0\n",
       "130           Trevon Duval               0\n",
       "147           Ike Anigbogu               0\n",
       "165  Sviatoslav Mykhailiuk               0\n",
       "167            Zach Lofton               0\n",
       "189             Tyler Ulis               0\n",
       "215           Kobi Simmons               0\n",
       "216           John Holland               0\n",
       "233           Troy Caupain               0\n",
       "249            J.P. Macura               0\n",
       "267            Yante Maten               0\n",
       "268          Emanuel Terry               0\n",
       "292           John Jenkins               0\n",
       "293            Okaro White               0\n",
       "315          Jordan Sibert               0\n",
       "385         Donte Grantham               0\n",
       "386            Tyler Davis               0\n",
       "387            Jawun Evans               0\n",
       "408            Mitch Creek               0\n",
       "489           Andre Ingram               0\n",
       "512            George King               0\n",
       "534          Vince Edwards               0\n",
       "536                Zhou Qi               0\n",
       "579          D.J. Stephens               0\n",
       "620   Kostas Antetokounmpo               0\n",
       "621           Ray Spalding               0"
      ]
     },
     "execution_count": 16,
     "metadata": {},
     "output_type": "execute_result"
    }
   ],
   "source": [
    "df[df['Personal Fouls'] == df['Personal Fouls'].min()][['Player', 'Personal Fouls']]"
   ]
  },
  {
   "cell_type": "markdown",
   "metadata": {},
   "source": [
    "# 12) Which player have attempted the 3-points field goals the highest time and what are the percentage of it?"
   ]
  },
  {
   "cell_type": "code",
   "execution_count": 20,
   "metadata": {},
   "outputs": [
    {
     "data": {
      "text/html": [
       "<div>\n",
       "<style scoped>\n",
       "    .dataframe tbody tr th:only-of-type {\n",
       "        vertical-align: middle;\n",
       "    }\n",
       "\n",
       "    .dataframe tbody tr th {\n",
       "        vertical-align: top;\n",
       "    }\n",
       "\n",
       "    .dataframe thead th {\n",
       "        text-align: right;\n",
       "    }\n",
       "</style>\n",
       "<table border=\"1\" class=\"dataframe\">\n",
       "  <thead>\n",
       "    <tr style=\"text-align: right;\">\n",
       "      <th></th>\n",
       "      <th>Player</th>\n",
       "      <th>3-Point Field Goal Percentage</th>\n",
       "    </tr>\n",
       "  </thead>\n",
       "  <tbody>\n",
       "    <tr>\n",
       "      <th>514</th>\n",
       "      <td>James Harden</td>\n",
       "      <td>0.368</td>\n",
       "    </tr>\n",
       "  </tbody>\n",
       "</table>\n",
       "</div>"
      ],
      "text/plain": [
       "           Player  3-Point Field Goal Percentage\n",
       "514  James Harden                          0.368"
      ]
     },
     "execution_count": 20,
     "metadata": {},
     "output_type": "execute_result"
    }
   ],
   "source": [
    "df[df['3-Point Field Goal Attempts'] == df['3-Point Field Goal Attempts'].max()][['Player', '3-Point Field Goal Percentage']]"
   ]
  },
  {
   "cell_type": "markdown",
   "metadata": {},
   "source": [
    "# 13) What is the average point scored by all the players?"
   ]
  },
  {
   "cell_type": "code",
   "execution_count": 23,
   "metadata": {},
   "outputs": [
    {
     "data": {
      "text/plain": [
       "439.82797427652736"
      ]
     },
     "execution_count": 23,
     "metadata": {},
     "output_type": "execute_result"
    }
   ],
   "source": [
    "df['Points'].sum() / len(df['Points'])"
   ]
  }
 ],
 "metadata": {
  "kernelspec": {
   "display_name": "Python 3 (ipykernel)",
   "language": "python",
   "name": "python3"
  },
  "language_info": {
   "codemirror_mode": {
    "name": "ipython",
    "version": 3
   },
   "file_extension": ".py",
   "mimetype": "text/x-python",
   "name": "python",
   "nbconvert_exporter": "python",
   "pygments_lexer": "ipython3",
   "version": "3.10.5"
  }
 },
 "nbformat": 4,
 "nbformat_minor": 4
}
