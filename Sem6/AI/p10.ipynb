{
 "cells": [
  {
   "cell_type": "markdown",
   "id": "mechanical-microwave",
   "metadata": {},
   "source": [
    "# Practical 10"
   ]
  },
  {
   "cell_type": "code",
   "execution_count": 1,
   "id": "pleased-baking",
   "metadata": {},
   "outputs": [],
   "source": [
    "import warnings\n",
    "warnings.filterwarnings('ignore')"
   ]
  },
  {
   "cell_type": "code",
   "execution_count": 2,
   "id": "endangered-threshold",
   "metadata": {},
   "outputs": [],
   "source": [
    "import os\n",
    "\n",
    "import numpy as np\n",
    "\n",
    "from scipy.io import wavfile\n",
    "from hmmlearn import hmm\n",
    "\n",
    "import librosa\n",
    "from librosa.feature import mfcc"
   ]
  },
  {
   "cell_type": "markdown",
   "id": "filled-invasion",
   "metadata": {},
   "source": [
    "## Gaussian Hmm Model"
   ]
  },
  {
   "cell_type": "code",
   "execution_count": 12,
   "id": "distant-award",
   "metadata": {},
   "outputs": [],
   "source": [
    "class HMMTrainer(object):\n",
    "    def __init__(self, model_name=\"GaussianHMM\", n_components=4, cov_type=\"diag\", n_iter=1000):\n",
    "        self.model_name = model_name\n",
    "        self.n_components = n_components\n",
    "        self.cov_type = cov_type\n",
    "        self.n_iter = n_iter\n",
    "        self.models = []\n",
    "        \n",
    "        self.model = hmm.GaussianHMM(n_components=self.n_components, covariance_type=self.cov_type, n_iter=self.n_iter)\n",
    "        \n",
    "    # X is a 2D numpy array where each row is 130\n",
    "    def train(self, X):\n",
    "        np.seterr(all='ignore')\n",
    "        self.models.append(self.model.fit(X))\n",
    "        \n",
    "    def get_score(self, input_data):\n",
    "        return self.model.score(input_data)"
   ]
  },
  {
   "cell_type": "code",
   "execution_count": 6,
   "id": "proper-onion",
   "metadata": {},
   "outputs": [
    {
     "data": {
      "text/plain": [
       "['kiwi', 'banana', 'lime', 'pineapple', 'orange', 'apple', 'peach']"
      ]
     },
     "execution_count": 6,
     "metadata": {},
     "output_type": "execute_result"
    }
   ],
   "source": [
    "input_folder = \"Audio_data\"\n",
    "ls = os.listdir(input_folder)\n",
    "ls = ls[:-1]\n",
    "ls"
   ]
  },
  {
   "cell_type": "code",
   "execution_count": 7,
   "id": "retired-change",
   "metadata": {},
   "outputs": [
    {
     "name": "stdout",
     "output_type": "stream",
     "text": [
      "subfolder:  Audio_data/kiwi\n",
      "label:  kiwi\n",
      "subfolder:  Audio_data/banana\n",
      "label:  banana\n",
      "subfolder:  Audio_data/lime\n",
      "label:  lime\n",
      "subfolder:  Audio_data/pineapple\n",
      "label:  pineapple\n",
      "subfolder:  Audio_data/orange\n",
      "label:  orange\n",
      "subfolder:  Audio_data/apple\n",
      "label:  apple\n",
      "subfolder:  Audio_data/peach\n",
      "label:  peach\n"
     ]
    }
   ],
   "source": [
    "for dirname in ls:\n",
    "    subfolder = os.path.join(input_folder, dirname)\n",
    "    print(\"subfolder: \", subfolder)\n",
    "    label = dirname\n",
    "    print(\"label: \", label)"
   ]
  },
  {
   "cell_type": "code",
   "execution_count": 13,
   "id": "stuffed-parliament",
   "metadata": {},
   "outputs": [
    {
     "name": "stdout",
     "output_type": "stream",
     "text": [
      "X shape:  (280, 15)\n",
      "X shape:  (280, 15)\n",
      "X shape:  (280, 15)\n",
      "X shape:  (280, 15)\n",
      "X shape:  (280, 15)\n",
      "X shape:  (280, 15)\n",
      "X shape:  (280, 15)\n"
     ]
    }
   ],
   "source": [
    "hmm_models = []\n",
    "\n",
    "for dirname in ls:\n",
    "    subfolder = os.path.join(input_folder, dirname)\n",
    "    \n",
    "    X = np.array([])\n",
    "    y_words = []\n",
    "    \n",
    "    for filename in [x for x in os.listdir(subfolder) if x.endswith('.wav')][:-1]:\n",
    "        filepath = os.path.join(subfolder, filename)\n",
    "        sampling_freq, audio = librosa.load(filepath)\n",
    "        mfcc_features = mfcc(sampling_freq, audio)\n",
    "        \n",
    "        if len(X) == 0:\n",
    "            X = mfcc_features[:, :15]\n",
    "        else:\n",
    "            X = np.append(X, mfcc_features[:,:15], axis=0)\n",
    "            \n",
    "        y_words.append(dirname)\n",
    "        \n",
    "    print(\"X shape: \", X.shape)\n",
    "\n",
    "    hmm_trainer = HMMTrainer()\n",
    "    hmm_trainer.train(X)\n",
    "    hmm_models.append((hmm_trainer, dirname))\n",
    "    hmm_trainer = None"
   ]
  },
  {
   "cell_type": "code",
   "execution_count": 17,
   "id": "plain-minnesota",
   "metadata": {},
   "outputs": [],
   "source": [
    "# Text files\n",
    "input_files = [\n",
    "    \"Audio_data/pineapple/pineapple15.wav\",\n",
    "    \"Audio_data/orange/orange15.wav\",\n",
    "    \"Audio_data/apple/apple15.wav\",\n",
    "    \"Audio_data/kiwi/kiwi15.wav\"\n",
    "]"
   ]
  },
  {
   "cell_type": "code",
   "execution_count": 21,
   "id": "colored-plaza",
   "metadata": {},
   "outputs": [
    {
     "name": "stdout",
     "output_type": "stream",
     "text": [
      "True file path:  Audio_data/pineapple/pineapple15.wav\n",
      "True name:  pineapple\n",
      "Predicated:  pineapple\n",
      "\n",
      "True file path:  Audio_data/orange/orange15.wav\n",
      "True name:  orange\n",
      "Predicated:  orange\n",
      "\n",
      "True file path:  Audio_data/apple/apple15.wav\n",
      "True name:  apple\n",
      "Predicated:  apple\n",
      "\n",
      "True file path:  Audio_data/kiwi/kiwi15.wav\n",
      "True name:  kiwi\n",
      "Predicated:  kiwi\n",
      "\n"
     ]
    }
   ],
   "source": [
    "for input_file in input_files:\n",
    "    sampling_freq, audio = librosa.load(input_file)\n",
    "    \n",
    "    # Extract MFCC features\n",
    "    mfcc_features = mfcc(sampling_freq, audio)\n",
    "    mfcc_features = mfcc_features[:, :15]\n",
    "    \n",
    "    scores = []\n",
    "    for item in hmm_models:\n",
    "        hmm_model, label = item\n",
    "        \n",
    "        score = hmm_model.get_score(mfcc_features)\n",
    "        scores.append(score)\n",
    "        \n",
    "    index = np.array(scores).argmax()\n",
    "    print(\"True file path: \", input_file)\n",
    "    print(\"True name: \", input_file[input_file.find('/')+1:input_file.rfind('/')])\n",
    "    \n",
    "    print(\"Predicated: \", hmm_models[index][1])\n",
    "    print(\"\")"
   ]
  },
  {
   "cell_type": "code",
   "execution_count": null,
   "id": "forced-gardening",
   "metadata": {},
   "outputs": [],
   "source": []
  }
 ],
 "metadata": {
  "kernelspec": {
   "display_name": "Python 3 (ipykernel)",
   "language": "python",
   "name": "python3"
  },
  "language_info": {
   "codemirror_mode": {
    "name": "ipython",
    "version": 3
   },
   "file_extension": ".py",
   "mimetype": "text/x-python",
   "name": "python",
   "nbconvert_exporter": "python",
   "pygments_lexer": "ipython3",
   "version": "3.9.1+"
  }
 },
 "nbformat": 4,
 "nbformat_minor": 5
}
