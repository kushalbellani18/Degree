{
 "cells": [
  {
   "cell_type": "code",
   "execution_count": 16,
   "id": "e32b638b",
   "metadata": {},
   "outputs": [],
   "source": [
    "import cv2\n",
    "import numpy as np"
   ]
  },
  {
   "cell_type": "markdown",
   "id": "f956c679",
   "metadata": {},
   "source": [
    "# Basic Camera"
   ]
  },
  {
   "cell_type": "code",
   "execution_count": 17,
   "id": "c88f60b6",
   "metadata": {},
   "outputs": [],
   "source": [
    "cap = cv2.VideoCapture(0)\n",
    "cap.set(3, 1366)\n",
    "cap.set(4, 768)\n",
    "\n",
    "while True:\n",
    "    success, img = cap.read()\n",
    "    \n",
    "    img = cv2.cvtColor(img, cv2.COLOR_BGR2GRAY)\n",
    "    \n",
    "    cv2.imshow('lol', img)\n",
    "    if cv2.waitKey(10) & 0xFF == ord('q'):\n",
    "        break\n",
    "        \n",
    "cap.release()\n",
    "cv2.destroyWindow('lol')"
   ]
  },
  {
   "cell_type": "markdown",
   "id": "18b4f0a6",
   "metadata": {},
   "source": [
    "# Do Face detection"
   ]
  },
  {
   "cell_type": "code",
   "execution_count": 20,
   "id": "ed86aa91",
   "metadata": {
    "scrolled": true
   },
   "outputs": [],
   "source": [
    "cap = cv2.VideoCapture(0)\n",
    "cap.set(3, 1366)\n",
    "cap.set(4, 768)\n",
    "\n",
    "# Importing cascade classifiers\n",
    "faceCascade = cv2.CascadeClassifier(cv2.data.haarcascades + \"haarcascade_frontalface_default.xml\")\n",
    "\n",
    "while True:\n",
    "    success, img = cap.read()\n",
    "    \n",
    "    # Converting into grey\n",
    "    imgGrey = cv2.cvtColor(img, cv2.COLOR_BGR2GRAY)\n",
    "    \n",
    "    # Getting the corners around the face\n",
    "    faces = faceCascade.detectMultiScale(imgGrey, 1.2, 5)\n",
    "    \n",
    "    # Drawing bounding box around the face\n",
    "    for (x, y, w, h) in faces:\n",
    "        img = cv2.rectangle(img, (x, y), (x+w, y+h), (0, 255, 0), 3)\n",
    "        \n",
    "    # Opening camera window\n",
    "    cv2.imshow('face detect', img)\n",
    "    if cv2.waitKey(10) & 0xFF == ord('q'):\n",
    "        break\n",
    "        \n",
    "cap.release()\n",
    "cv2.destroyWindow('face detect')"
   ]
  },
  {
   "cell_type": "code",
   "execution_count": null,
   "id": "1c4eaaf9",
   "metadata": {},
   "outputs": [],
   "source": []
  }
 ],
 "metadata": {
  "kernelspec": {
   "display_name": "Python 3 (ipykernel)",
   "language": "python",
   "name": "python3"
  },
  "language_info": {
   "codemirror_mode": {
    "name": "ipython",
    "version": 3
   },
   "file_extension": ".py",
   "mimetype": "text/x-python",
   "name": "python",
   "nbconvert_exporter": "python",
   "pygments_lexer": "ipython3",
   "version": "3.10.5"
  }
 },
 "nbformat": 4,
 "nbformat_minor": 5
}
