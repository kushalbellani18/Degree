{
 "cells": [
  {
   "cell_type": "markdown",
   "id": "engaging-dancing",
   "metadata": {},
   "source": [
    "# Import Library and Dataset"
   ]
  },
  {
   "cell_type": "code",
   "execution_count": null,
   "id": "limited-austria",
   "metadata": {},
   "outputs": [],
   "source": [
    "import pandas as pd\n",
    "import numpy as np\n",
    "\n",
    "#pd.set_option('display.max_columns', None)\n",
    "#pd.set_option('display.max_rows', None)"
   ]
  },
  {
   "cell_type": "code",
   "execution_count": 2,
   "id": "headed-liquid",
   "metadata": {},
   "outputs": [
    {
     "data": {
      "text/html": [
       "<div>\n",
       "<style scoped>\n",
       "    .dataframe tbody tr th:only-of-type {\n",
       "        vertical-align: middle;\n",
       "    }\n",
       "\n",
       "    .dataframe tbody tr th {\n",
       "        vertical-align: top;\n",
       "    }\n",
       "\n",
       "    .dataframe thead th {\n",
       "        text-align: right;\n",
       "    }\n",
       "</style>\n",
       "<table border=\"1\" class=\"dataframe\">\n",
       "  <thead>\n",
       "    <tr style=\"text-align: right;\">\n",
       "      <th></th>\n",
       "      <th>instant</th>\n",
       "      <th>dteday</th>\n",
       "      <th>season</th>\n",
       "      <th>yr</th>\n",
       "      <th>mnth</th>\n",
       "      <th>holiday</th>\n",
       "      <th>weekday</th>\n",
       "      <th>workingday</th>\n",
       "      <th>weathersit</th>\n",
       "      <th>temp</th>\n",
       "      <th>atemp</th>\n",
       "      <th>hum</th>\n",
       "      <th>windspeed</th>\n",
       "      <th>casual</th>\n",
       "      <th>registered</th>\n",
       "      <th>cnt</th>\n",
       "    </tr>\n",
       "  </thead>\n",
       "  <tbody>\n",
       "    <tr>\n",
       "      <th>0</th>\n",
       "      <td>1</td>\n",
       "      <td>2011-01-01</td>\n",
       "      <td>1</td>\n",
       "      <td>0</td>\n",
       "      <td>1</td>\n",
       "      <td>0</td>\n",
       "      <td>6</td>\n",
       "      <td>0</td>\n",
       "      <td>2</td>\n",
       "      <td>0.344167</td>\n",
       "      <td>0.363625</td>\n",
       "      <td>0.805833</td>\n",
       "      <td>0.160446</td>\n",
       "      <td>331</td>\n",
       "      <td>654</td>\n",
       "      <td>985</td>\n",
       "    </tr>\n",
       "    <tr>\n",
       "      <th>1</th>\n",
       "      <td>2</td>\n",
       "      <td>2011-01-02</td>\n",
       "      <td>1</td>\n",
       "      <td>0</td>\n",
       "      <td>1</td>\n",
       "      <td>0</td>\n",
       "      <td>0</td>\n",
       "      <td>0</td>\n",
       "      <td>2</td>\n",
       "      <td>0.363478</td>\n",
       "      <td>0.353739</td>\n",
       "      <td>0.696087</td>\n",
       "      <td>0.248539</td>\n",
       "      <td>131</td>\n",
       "      <td>670</td>\n",
       "      <td>801</td>\n",
       "    </tr>\n",
       "    <tr>\n",
       "      <th>2</th>\n",
       "      <td>3</td>\n",
       "      <td>2011-01-03</td>\n",
       "      <td>1</td>\n",
       "      <td>0</td>\n",
       "      <td>1</td>\n",
       "      <td>0</td>\n",
       "      <td>1</td>\n",
       "      <td>1</td>\n",
       "      <td>1</td>\n",
       "      <td>0.196364</td>\n",
       "      <td>0.189405</td>\n",
       "      <td>0.437273</td>\n",
       "      <td>0.248309</td>\n",
       "      <td>120</td>\n",
       "      <td>1229</td>\n",
       "      <td>1349</td>\n",
       "    </tr>\n",
       "    <tr>\n",
       "      <th>3</th>\n",
       "      <td>4</td>\n",
       "      <td>2011-01-04</td>\n",
       "      <td>1</td>\n",
       "      <td>0</td>\n",
       "      <td>1</td>\n",
       "      <td>0</td>\n",
       "      <td>2</td>\n",
       "      <td>1</td>\n",
       "      <td>1</td>\n",
       "      <td>0.200000</td>\n",
       "      <td>0.212122</td>\n",
       "      <td>0.590435</td>\n",
       "      <td>0.160296</td>\n",
       "      <td>108</td>\n",
       "      <td>1454</td>\n",
       "      <td>1562</td>\n",
       "    </tr>\n",
       "    <tr>\n",
       "      <th>4</th>\n",
       "      <td>5</td>\n",
       "      <td>2011-01-05</td>\n",
       "      <td>1</td>\n",
       "      <td>0</td>\n",
       "      <td>1</td>\n",
       "      <td>0</td>\n",
       "      <td>3</td>\n",
       "      <td>1</td>\n",
       "      <td>1</td>\n",
       "      <td>0.226957</td>\n",
       "      <td>0.229270</td>\n",
       "      <td>0.436957</td>\n",
       "      <td>0.186900</td>\n",
       "      <td>82</td>\n",
       "      <td>1518</td>\n",
       "      <td>1600</td>\n",
       "    </tr>\n",
       "    <tr>\n",
       "      <th>...</th>\n",
       "      <td>...</td>\n",
       "      <td>...</td>\n",
       "      <td>...</td>\n",
       "      <td>...</td>\n",
       "      <td>...</td>\n",
       "      <td>...</td>\n",
       "      <td>...</td>\n",
       "      <td>...</td>\n",
       "      <td>...</td>\n",
       "      <td>...</td>\n",
       "      <td>...</td>\n",
       "      <td>...</td>\n",
       "      <td>...</td>\n",
       "      <td>...</td>\n",
       "      <td>...</td>\n",
       "      <td>...</td>\n",
       "    </tr>\n",
       "    <tr>\n",
       "      <th>726</th>\n",
       "      <td>727</td>\n",
       "      <td>2012-12-27</td>\n",
       "      <td>1</td>\n",
       "      <td>1</td>\n",
       "      <td>12</td>\n",
       "      <td>0</td>\n",
       "      <td>4</td>\n",
       "      <td>1</td>\n",
       "      <td>2</td>\n",
       "      <td>0.254167</td>\n",
       "      <td>0.226642</td>\n",
       "      <td>0.652917</td>\n",
       "      <td>0.350133</td>\n",
       "      <td>247</td>\n",
       "      <td>1867</td>\n",
       "      <td>2114</td>\n",
       "    </tr>\n",
       "    <tr>\n",
       "      <th>727</th>\n",
       "      <td>728</td>\n",
       "      <td>2012-12-28</td>\n",
       "      <td>1</td>\n",
       "      <td>1</td>\n",
       "      <td>12</td>\n",
       "      <td>0</td>\n",
       "      <td>5</td>\n",
       "      <td>1</td>\n",
       "      <td>2</td>\n",
       "      <td>0.253333</td>\n",
       "      <td>0.255046</td>\n",
       "      <td>0.590000</td>\n",
       "      <td>0.155471</td>\n",
       "      <td>644</td>\n",
       "      <td>2451</td>\n",
       "      <td>3095</td>\n",
       "    </tr>\n",
       "    <tr>\n",
       "      <th>728</th>\n",
       "      <td>729</td>\n",
       "      <td>2012-12-29</td>\n",
       "      <td>1</td>\n",
       "      <td>1</td>\n",
       "      <td>12</td>\n",
       "      <td>0</td>\n",
       "      <td>6</td>\n",
       "      <td>0</td>\n",
       "      <td>2</td>\n",
       "      <td>0.253333</td>\n",
       "      <td>0.242400</td>\n",
       "      <td>0.752917</td>\n",
       "      <td>0.124383</td>\n",
       "      <td>159</td>\n",
       "      <td>1182</td>\n",
       "      <td>1341</td>\n",
       "    </tr>\n",
       "    <tr>\n",
       "      <th>729</th>\n",
       "      <td>730</td>\n",
       "      <td>2012-12-30</td>\n",
       "      <td>1</td>\n",
       "      <td>1</td>\n",
       "      <td>12</td>\n",
       "      <td>0</td>\n",
       "      <td>0</td>\n",
       "      <td>0</td>\n",
       "      <td>1</td>\n",
       "      <td>0.255833</td>\n",
       "      <td>0.231700</td>\n",
       "      <td>0.483333</td>\n",
       "      <td>0.350754</td>\n",
       "      <td>364</td>\n",
       "      <td>1432</td>\n",
       "      <td>1796</td>\n",
       "    </tr>\n",
       "    <tr>\n",
       "      <th>730</th>\n",
       "      <td>731</td>\n",
       "      <td>2012-12-31</td>\n",
       "      <td>1</td>\n",
       "      <td>1</td>\n",
       "      <td>12</td>\n",
       "      <td>0</td>\n",
       "      <td>1</td>\n",
       "      <td>1</td>\n",
       "      <td>2</td>\n",
       "      <td>0.215833</td>\n",
       "      <td>0.223487</td>\n",
       "      <td>0.577500</td>\n",
       "      <td>0.154846</td>\n",
       "      <td>439</td>\n",
       "      <td>2290</td>\n",
       "      <td>2729</td>\n",
       "    </tr>\n",
       "  </tbody>\n",
       "</table>\n",
       "<p>731 rows × 16 columns</p>\n",
       "</div>"
      ],
      "text/plain": [
       "     instant      dteday  season  yr  mnth  holiday  weekday  workingday  \\\n",
       "0          1  2011-01-01       1   0     1        0        6           0   \n",
       "1          2  2011-01-02       1   0     1        0        0           0   \n",
       "2          3  2011-01-03       1   0     1        0        1           1   \n",
       "3          4  2011-01-04       1   0     1        0        2           1   \n",
       "4          5  2011-01-05       1   0     1        0        3           1   \n",
       "..       ...         ...     ...  ..   ...      ...      ...         ...   \n",
       "726      727  2012-12-27       1   1    12        0        4           1   \n",
       "727      728  2012-12-28       1   1    12        0        5           1   \n",
       "728      729  2012-12-29       1   1    12        0        6           0   \n",
       "729      730  2012-12-30       1   1    12        0        0           0   \n",
       "730      731  2012-12-31       1   1    12        0        1           1   \n",
       "\n",
       "     weathersit      temp     atemp       hum  windspeed  casual  registered  \\\n",
       "0             2  0.344167  0.363625  0.805833   0.160446     331         654   \n",
       "1             2  0.363478  0.353739  0.696087   0.248539     131         670   \n",
       "2             1  0.196364  0.189405  0.437273   0.248309     120        1229   \n",
       "3             1  0.200000  0.212122  0.590435   0.160296     108        1454   \n",
       "4             1  0.226957  0.229270  0.436957   0.186900      82        1518   \n",
       "..          ...       ...       ...       ...        ...     ...         ...   \n",
       "726           2  0.254167  0.226642  0.652917   0.350133     247        1867   \n",
       "727           2  0.253333  0.255046  0.590000   0.155471     644        2451   \n",
       "728           2  0.253333  0.242400  0.752917   0.124383     159        1182   \n",
       "729           1  0.255833  0.231700  0.483333   0.350754     364        1432   \n",
       "730           2  0.215833  0.223487  0.577500   0.154846     439        2290   \n",
       "\n",
       "      cnt  \n",
       "0     985  \n",
       "1     801  \n",
       "2    1349  \n",
       "3    1562  \n",
       "4    1600  \n",
       "..    ...  \n",
       "726  2114  \n",
       "727  3095  \n",
       "728  1341  \n",
       "729  1796  \n",
       "730  2729  \n",
       "\n",
       "[731 rows x 16 columns]"
      ]
     },
     "execution_count": 2,
     "metadata": {},
     "output_type": "execute_result"
    }
   ],
   "source": [
    "df = pd.read_csv('dataset/day.csv')\n",
    "\n",
    "df"
   ]
  },
  {
   "cell_type": "code",
   "execution_count": 3,
   "id": "speaking-consortium",
   "metadata": {},
   "outputs": [
    {
     "name": "stdout",
     "output_type": "stream",
     "text": [
      "<class 'pandas.core.frame.DataFrame'>\n",
      "RangeIndex: 731 entries, 0 to 730\n",
      "Data columns (total 16 columns):\n",
      " #   Column      Non-Null Count  Dtype  \n",
      "---  ------      --------------  -----  \n",
      " 0   instant     731 non-null    int64  \n",
      " 1   dteday      731 non-null    object \n",
      " 2   season      731 non-null    int64  \n",
      " 3   yr          731 non-null    int64  \n",
      " 4   mnth        731 non-null    int64  \n",
      " 5   holiday     731 non-null    int64  \n",
      " 6   weekday     731 non-null    int64  \n",
      " 7   workingday  731 non-null    int64  \n",
      " 8   weathersit  731 non-null    int64  \n",
      " 9   temp        731 non-null    float64\n",
      " 10  atemp       731 non-null    float64\n",
      " 11  hum         731 non-null    float64\n",
      " 12  windspeed   731 non-null    float64\n",
      " 13  casual      731 non-null    int64  \n",
      " 14  registered  731 non-null    int64  \n",
      " 15  cnt         731 non-null    int64  \n",
      "dtypes: float64(4), int64(11), object(1)\n",
      "memory usage: 91.5+ KB\n"
     ]
    }
   ],
   "source": [
    "df.info()"
   ]
  },
  {
   "cell_type": "code",
   "execution_count": 7,
   "id": "dangerous-centre",
   "metadata": {},
   "outputs": [],
   "source": [
    "df[\"season\"].replace(1, \"springer\", inplace=True)\n",
    "df[\"season\"].replace(2, \"summer\", inplace=True)\n",
    "df[\"season\"].replace(3, \"fall\", inplace=True)\n",
    "df[\"season\"].replace(4, \"winter\", inplace=True)\n",
    "\n",
    "df[\"yr\"].replace(0, \"2011\", inplace=True)\n",
    "df[\"yr\"].replace(1, \"2012\", inplace=True)\n",
    "\n",
    "df[\"mnth\"].replace(1, \"January\", inplace=True)\n",
    "df[\"mnth\"].replace(2, \"Feburary\", inplace=True)\n",
    "df[\"mnth\"].replace(3, \"March\", inplace=True)\n",
    "df[\"mnth\"].replace(4, \"April\", inplace=True)\n",
    "df[\"mnth\"].replace(5, \"May\", inplace=True)\n",
    "df[\"mnth\"].replace(6, \"June\", inplace=True)\n",
    "df[\"mnth\"].replace(7, \"July\", inplace=True)\n",
    "df[\"mnth\"].replace(8, \"August\", inplace=True)\n",
    "df[\"mnth\"].replace(9, \"September\", inplace=True)\n",
    "df[\"mnth\"].replace(10, \"October\", inplace=True)\n",
    "df[\"mnth\"].replace(11, \"November\", inplace=True)\n",
    "df[\"mnth\"].replace(12, \"December\", inplace=True)\n",
    "\n",
    "df[\"holiday\"] = df[\"holiday\"].astype(\"string\")\n",
    "\n",
    "df[\"weekday\"].replace(0, \"monday\", inplace=True)\n",
    "df[\"weekday\"].replace(1, \"tuesday\", inplace=True)\n",
    "df[\"weekday\"].replace(2, \"wednesday\", inplace=True)\n",
    "df[\"weekday\"].replace(3, \"thursday\", inplace=True)\n",
    "df[\"weekday\"].replace(4, \"friday\", inplace=True)\n",
    "df[\"weekday\"].replace(5, \"saturaday\", inplace=True)\n",
    "df[\"weekday\"].replace(6, \"sunday\", inplace=True)\n",
    "\n",
    "df[\"workingday\"] = df[\"workingday\"].astype(\"string\")\n",
    "\n",
    "df[\"weathersit\"] = df[\"weathersit\"].astype(\"string\")\n",
    "\n",
    "#df"
   ]
  },
  {
   "cell_type": "code",
   "execution_count": 8,
   "id": "activated-error",
   "metadata": {},
   "outputs": [
    {
     "name": "stdout",
     "output_type": "stream",
     "text": [
      "<class 'pandas.core.frame.DataFrame'>\n",
      "RangeIndex: 731 entries, 0 to 730\n",
      "Data columns (total 16 columns):\n",
      " #   Column      Non-Null Count  Dtype  \n",
      "---  ------      --------------  -----  \n",
      " 0   instant     731 non-null    int64  \n",
      " 1   dteday      731 non-null    object \n",
      " 2   season      731 non-null    object \n",
      " 3   yr          731 non-null    object \n",
      " 4   mnth        731 non-null    object \n",
      " 5   holiday     731 non-null    string \n",
      " 6   weekday     731 non-null    object \n",
      " 7   workingday  731 non-null    string \n",
      " 8   weathersit  731 non-null    string \n",
      " 9   temp        731 non-null    float64\n",
      " 10  atemp       731 non-null    float64\n",
      " 11  hum         731 non-null    float64\n",
      " 12  windspeed   731 non-null    float64\n",
      " 13  casual      731 non-null    int64  \n",
      " 14  registered  731 non-null    int64  \n",
      " 15  cnt         731 non-null    int64  \n",
      "dtypes: float64(4), int64(4), object(5), string(3)\n",
      "memory usage: 91.5+ KB\n"
     ]
    }
   ],
   "source": [
    "df.info()"
   ]
  },
  {
   "cell_type": "code",
   "execution_count": 9,
   "id": "capable-equality",
   "metadata": {},
   "outputs": [
    {
     "data": {
      "text/html": [
       "<div>\n",
       "<style scoped>\n",
       "    .dataframe tbody tr th:only-of-type {\n",
       "        vertical-align: middle;\n",
       "    }\n",
       "\n",
       "    .dataframe tbody tr th {\n",
       "        vertical-align: top;\n",
       "    }\n",
       "\n",
       "    .dataframe thead th {\n",
       "        text-align: right;\n",
       "    }\n",
       "</style>\n",
       "<table border=\"1\" class=\"dataframe\">\n",
       "  <thead>\n",
       "    <tr style=\"text-align: right;\">\n",
       "      <th></th>\n",
       "      <th>instant</th>\n",
       "      <th>dteday</th>\n",
       "      <th>season</th>\n",
       "      <th>yr</th>\n",
       "      <th>mnth</th>\n",
       "      <th>holiday</th>\n",
       "      <th>weekday</th>\n",
       "      <th>workingday</th>\n",
       "      <th>weathersit</th>\n",
       "      <th>temp</th>\n",
       "      <th>atemp</th>\n",
       "      <th>hum</th>\n",
       "      <th>windspeed</th>\n",
       "      <th>casual</th>\n",
       "      <th>registered</th>\n",
       "      <th>cnt</th>\n",
       "    </tr>\n",
       "  </thead>\n",
       "  <tbody>\n",
       "    <tr>\n",
       "      <th>0</th>\n",
       "      <td>1</td>\n",
       "      <td>2011-01-01</td>\n",
       "      <td>springer</td>\n",
       "      <td>2011</td>\n",
       "      <td>January</td>\n",
       "      <td>0</td>\n",
       "      <td>sunday</td>\n",
       "      <td>0</td>\n",
       "      <td>2</td>\n",
       "      <td>0.344167</td>\n",
       "      <td>0.363625</td>\n",
       "      <td>0.805833</td>\n",
       "      <td>0.160446</td>\n",
       "      <td>331</td>\n",
       "      <td>654</td>\n",
       "      <td>985</td>\n",
       "    </tr>\n",
       "    <tr>\n",
       "      <th>1</th>\n",
       "      <td>2</td>\n",
       "      <td>2011-01-02</td>\n",
       "      <td>springer</td>\n",
       "      <td>2011</td>\n",
       "      <td>January</td>\n",
       "      <td>0</td>\n",
       "      <td>monday</td>\n",
       "      <td>0</td>\n",
       "      <td>2</td>\n",
       "      <td>0.363478</td>\n",
       "      <td>0.353739</td>\n",
       "      <td>0.696087</td>\n",
       "      <td>0.248539</td>\n",
       "      <td>131</td>\n",
       "      <td>670</td>\n",
       "      <td>801</td>\n",
       "    </tr>\n",
       "    <tr>\n",
       "      <th>2</th>\n",
       "      <td>3</td>\n",
       "      <td>2011-01-03</td>\n",
       "      <td>springer</td>\n",
       "      <td>2011</td>\n",
       "      <td>January</td>\n",
       "      <td>0</td>\n",
       "      <td>tuesday</td>\n",
       "      <td>1</td>\n",
       "      <td>1</td>\n",
       "      <td>0.196364</td>\n",
       "      <td>0.189405</td>\n",
       "      <td>0.437273</td>\n",
       "      <td>0.248309</td>\n",
       "      <td>120</td>\n",
       "      <td>1229</td>\n",
       "      <td>1349</td>\n",
       "    </tr>\n",
       "    <tr>\n",
       "      <th>3</th>\n",
       "      <td>4</td>\n",
       "      <td>2011-01-04</td>\n",
       "      <td>springer</td>\n",
       "      <td>2011</td>\n",
       "      <td>January</td>\n",
       "      <td>0</td>\n",
       "      <td>wednesday</td>\n",
       "      <td>1</td>\n",
       "      <td>1</td>\n",
       "      <td>0.200000</td>\n",
       "      <td>0.212122</td>\n",
       "      <td>0.590435</td>\n",
       "      <td>0.160296</td>\n",
       "      <td>108</td>\n",
       "      <td>1454</td>\n",
       "      <td>1562</td>\n",
       "    </tr>\n",
       "    <tr>\n",
       "      <th>4</th>\n",
       "      <td>5</td>\n",
       "      <td>2011-01-05</td>\n",
       "      <td>springer</td>\n",
       "      <td>2011</td>\n",
       "      <td>January</td>\n",
       "      <td>0</td>\n",
       "      <td>thursday</td>\n",
       "      <td>1</td>\n",
       "      <td>1</td>\n",
       "      <td>0.226957</td>\n",
       "      <td>0.229270</td>\n",
       "      <td>0.436957</td>\n",
       "      <td>0.186900</td>\n",
       "      <td>82</td>\n",
       "      <td>1518</td>\n",
       "      <td>1600</td>\n",
       "    </tr>\n",
       "    <tr>\n",
       "      <th>...</th>\n",
       "      <td>...</td>\n",
       "      <td>...</td>\n",
       "      <td>...</td>\n",
       "      <td>...</td>\n",
       "      <td>...</td>\n",
       "      <td>...</td>\n",
       "      <td>...</td>\n",
       "      <td>...</td>\n",
       "      <td>...</td>\n",
       "      <td>...</td>\n",
       "      <td>...</td>\n",
       "      <td>...</td>\n",
       "      <td>...</td>\n",
       "      <td>...</td>\n",
       "      <td>...</td>\n",
       "      <td>...</td>\n",
       "    </tr>\n",
       "    <tr>\n",
       "      <th>726</th>\n",
       "      <td>727</td>\n",
       "      <td>2012-12-27</td>\n",
       "      <td>springer</td>\n",
       "      <td>2012</td>\n",
       "      <td>December</td>\n",
       "      <td>0</td>\n",
       "      <td>friday</td>\n",
       "      <td>1</td>\n",
       "      <td>2</td>\n",
       "      <td>0.254167</td>\n",
       "      <td>0.226642</td>\n",
       "      <td>0.652917</td>\n",
       "      <td>0.350133</td>\n",
       "      <td>247</td>\n",
       "      <td>1867</td>\n",
       "      <td>2114</td>\n",
       "    </tr>\n",
       "    <tr>\n",
       "      <th>727</th>\n",
       "      <td>728</td>\n",
       "      <td>2012-12-28</td>\n",
       "      <td>springer</td>\n",
       "      <td>2012</td>\n",
       "      <td>December</td>\n",
       "      <td>0</td>\n",
       "      <td>saturaday</td>\n",
       "      <td>1</td>\n",
       "      <td>2</td>\n",
       "      <td>0.253333</td>\n",
       "      <td>0.255046</td>\n",
       "      <td>0.590000</td>\n",
       "      <td>0.155471</td>\n",
       "      <td>644</td>\n",
       "      <td>2451</td>\n",
       "      <td>3095</td>\n",
       "    </tr>\n",
       "    <tr>\n",
       "      <th>728</th>\n",
       "      <td>729</td>\n",
       "      <td>2012-12-29</td>\n",
       "      <td>springer</td>\n",
       "      <td>2012</td>\n",
       "      <td>December</td>\n",
       "      <td>0</td>\n",
       "      <td>sunday</td>\n",
       "      <td>0</td>\n",
       "      <td>2</td>\n",
       "      <td>0.253333</td>\n",
       "      <td>0.242400</td>\n",
       "      <td>0.752917</td>\n",
       "      <td>0.124383</td>\n",
       "      <td>159</td>\n",
       "      <td>1182</td>\n",
       "      <td>1341</td>\n",
       "    </tr>\n",
       "    <tr>\n",
       "      <th>729</th>\n",
       "      <td>730</td>\n",
       "      <td>2012-12-30</td>\n",
       "      <td>springer</td>\n",
       "      <td>2012</td>\n",
       "      <td>December</td>\n",
       "      <td>0</td>\n",
       "      <td>monday</td>\n",
       "      <td>0</td>\n",
       "      <td>1</td>\n",
       "      <td>0.255833</td>\n",
       "      <td>0.231700</td>\n",
       "      <td>0.483333</td>\n",
       "      <td>0.350754</td>\n",
       "      <td>364</td>\n",
       "      <td>1432</td>\n",
       "      <td>1796</td>\n",
       "    </tr>\n",
       "    <tr>\n",
       "      <th>730</th>\n",
       "      <td>731</td>\n",
       "      <td>2012-12-31</td>\n",
       "      <td>springer</td>\n",
       "      <td>2012</td>\n",
       "      <td>December</td>\n",
       "      <td>0</td>\n",
       "      <td>tuesday</td>\n",
       "      <td>1</td>\n",
       "      <td>2</td>\n",
       "      <td>0.215833</td>\n",
       "      <td>0.223487</td>\n",
       "      <td>0.577500</td>\n",
       "      <td>0.154846</td>\n",
       "      <td>439</td>\n",
       "      <td>2290</td>\n",
       "      <td>2729</td>\n",
       "    </tr>\n",
       "  </tbody>\n",
       "</table>\n",
       "<p>731 rows × 16 columns</p>\n",
       "</div>"
      ],
      "text/plain": [
       "     instant      dteday    season    yr      mnth holiday    weekday  \\\n",
       "0          1  2011-01-01  springer  2011   January       0     sunday   \n",
       "1          2  2011-01-02  springer  2011   January       0     monday   \n",
       "2          3  2011-01-03  springer  2011   January       0    tuesday   \n",
       "3          4  2011-01-04  springer  2011   January       0  wednesday   \n",
       "4          5  2011-01-05  springer  2011   January       0   thursday   \n",
       "..       ...         ...       ...   ...       ...     ...        ...   \n",
       "726      727  2012-12-27  springer  2012  December       0     friday   \n",
       "727      728  2012-12-28  springer  2012  December       0  saturaday   \n",
       "728      729  2012-12-29  springer  2012  December       0     sunday   \n",
       "729      730  2012-12-30  springer  2012  December       0     monday   \n",
       "730      731  2012-12-31  springer  2012  December       0    tuesday   \n",
       "\n",
       "    workingday weathersit      temp     atemp       hum  windspeed  casual  \\\n",
       "0            0          2  0.344167  0.363625  0.805833   0.160446     331   \n",
       "1            0          2  0.363478  0.353739  0.696087   0.248539     131   \n",
       "2            1          1  0.196364  0.189405  0.437273   0.248309     120   \n",
       "3            1          1  0.200000  0.212122  0.590435   0.160296     108   \n",
       "4            1          1  0.226957  0.229270  0.436957   0.186900      82   \n",
       "..         ...        ...       ...       ...       ...        ...     ...   \n",
       "726          1          2  0.254167  0.226642  0.652917   0.350133     247   \n",
       "727          1          2  0.253333  0.255046  0.590000   0.155471     644   \n",
       "728          0          2  0.253333  0.242400  0.752917   0.124383     159   \n",
       "729          0          1  0.255833  0.231700  0.483333   0.350754     364   \n",
       "730          1          2  0.215833  0.223487  0.577500   0.154846     439   \n",
       "\n",
       "     registered   cnt  \n",
       "0           654   985  \n",
       "1           670   801  \n",
       "2          1229  1349  \n",
       "3          1454  1562  \n",
       "4          1518  1600  \n",
       "..          ...   ...  \n",
       "726        1867  2114  \n",
       "727        2451  3095  \n",
       "728        1182  1341  \n",
       "729        1432  1796  \n",
       "730        2290  2729  \n",
       "\n",
       "[731 rows x 16 columns]"
      ]
     },
     "execution_count": 9,
     "metadata": {},
     "output_type": "execute_result"
    }
   ],
   "source": [
    "df"
   ]
  },
  {
   "cell_type": "markdown",
   "id": "hazardous-relaxation",
   "metadata": {},
   "source": [
    "# Where target variable?"
   ]
  },
  {
   "cell_type": "code",
   "execution_count": 10,
   "id": "tender-worth",
   "metadata": {},
   "outputs": [],
   "source": [
    "targetVariable = \"cnt\""
   ]
  },
  {
   "cell_type": "markdown",
   "id": "victorian-supply",
   "metadata": {},
   "source": [
    "cnt means combine of casual and registered. Therefore, variable casual and registered are useless."
   ]
  },
  {
   "cell_type": "markdown",
   "id": "fancy-evening",
   "metadata": {},
   "source": [
    "# Feature extraction using visualization"
   ]
  },
  {
   "cell_type": "markdown",
   "id": "considered-newcastle",
   "metadata": {},
   "source": [
    "## For Numerical"
   ]
  },
  {
   "cell_type": "code",
   "execution_count": 11,
   "id": "important-wealth",
   "metadata": {},
   "outputs": [],
   "source": [
    "import matplotlib.pyplot as plt\n",
    "import seaborn as sns"
   ]
  },
  {
   "cell_type": "code",
   "execution_count": 12,
   "id": "exterior-telephone",
   "metadata": {},
   "outputs": [
    {
     "data": {
      "text/plain": [
       "<AxesSubplot:xlabel='temp', ylabel='cnt'>"
      ]
     },
     "execution_count": 12,
     "metadata": {},
     "output_type": "execute_result"
    },
    {
     "data": {
      "image/png": "[encoded data removed]",
      "text/plain": [
       "<Figure size 432x288 with 1 Axes>"
      ]
     },
     "metadata": {
      "needs_background": "light"
     },
     "output_type": "display_data"
    }
   ],
   "source": [
    "sns.regplot(x=\"temp\", y=targetVariable, data =df)"
   ]
  },
  {
   "cell_type": "code",
   "execution_count": 13,
   "id": "visible-religious",
   "metadata": {},
   "outputs": [
    {
     "data": {
      "text/plain": [
       "<AxesSubplot:xlabel='atemp', ylabel='cnt'>"
      ]
     },
     "execution_count": 13,
     "metadata": {},
     "output_type": "execute_result"
    },
    {
     "data": {
      "image/png": "[encoded data removed]",
      "text/plain": [
       "<Figure size 432x288 with 1 Axes>"
      ]
     },
     "metadata": {
      "needs_background": "light"
     },
     "output_type": "display_data"
    }
   ],
   "source": [
    "sns.regplot(x=\"atemp\", y=targetVariable, data=df)"
   ]
  },
  {
   "cell_type": "code",
   "execution_count": 14,
   "id": "advance-universe",
   "metadata": {},
   "outputs": [
    {
     "data": {
      "text/plain": [
       "<AxesSubplot:xlabel='hum', ylabel='cnt'>"
      ]
     },
     "execution_count": 14,
     "metadata": {},
     "output_type": "execute_result"
    },
    {
     "data": {
      "image/png": "[encoded data removed]",
      "text/plain": [
       "<Figure size 432x288 with 1 Axes>"
      ]
     },
     "metadata": {
      "needs_background": "light"
     },
     "output_type": "display_data"
    }
   ],
   "source": [
    "sns.regplot(x=\"hum\", y=targetVariable, data=df)"
   ]
  },
  {
   "cell_type": "code",
   "execution_count": 15,
   "id": "possible-footwear",
   "metadata": {},
   "outputs": [
    {
     "data": {
      "text/plain": [
       "<AxesSubplot:xlabel='windspeed', ylabel='cnt'>"
      ]
     },
     "execution_count": 15,
     "metadata": {},
     "output_type": "execute_result"
    },
    {
     "data": {
      "image/png": "[encoded data removed]",
      "text/plain": [
       "<Figure size 432x288 with 1 Axes>"
      ]
     },
     "metadata": {
      "needs_background": "light"
     },
     "output_type": "display_data"
    }
   ],
   "source": [
    "sns.regplot(x=\"windspeed\", y=targetVariable, data=df)"
   ]
  },
  {
   "cell_type": "markdown",
   "id": "spatial-judges",
   "metadata": {},
   "source": [
    "## Categorical "
   ]
  },
  {
   "cell_type": "code",
   "execution_count": 17,
   "id": "aquatic-capitol",
   "metadata": {},
   "outputs": [
    {
     "data": {
      "text/plain": [
       "<AxesSubplot:xlabel='season', ylabel='cnt'>"
      ]
     },
     "execution_count": 17,
     "metadata": {},
     "output_type": "execute_result"
    },
    {
     "data": {
      "image/png": "[encoded data removed]",
      "text/plain": [
       "<Figure size 432x288 with 1 Axes>"
      ]
     },
     "metadata": {
      "needs_background": "light"
     },
     "output_type": "display_data"
    }
   ],
   "source": [
    "sns.boxplot(x=\"season\", y=targetVariable, data=df)"
   ]
  },
  {
   "cell_type": "code",
   "execution_count": 18,
   "id": "elegant-olive",
   "metadata": {},
   "outputs": [
    {
     "data": {
      "text/plain": [
       "<AxesSubplot:xlabel='yr', ylabel='cnt'>"
      ]
     },
     "execution_count": 18,
     "metadata": {},
     "output_type": "execute_result"
    },
    {
     "data": {
      "image/png": "[encoded data removed]",
      "text/plain": [
       "<Figure size 432x288 with 1 Axes>"
      ]
     },
     "metadata": {
      "needs_background": "light"
     },
     "output_type": "display_data"
    }
   ],
   "source": [
    "sns.boxplot(x=\"yr\", y=targetVariable, data=df)"
   ]
  },
  {
   "cell_type": "code",
   "execution_count": 19,
   "id": "indie-anaheim",
   "metadata": {},
   "outputs": [
    {
     "data": {
      "text/plain": [
       "<AxesSubplot:xlabel='mnth', ylabel='cnt'>"
      ]
     },
     "execution_count": 19,
     "metadata": {},
     "output_type": "execute_result"
    },
    {
     "data": {
      "image/png": "[encoded data removed]",
      "text/plain": [
       "<Figure size 432x288 with 1 Axes>"
      ]
     },
     "metadata": {
      "needs_background": "light"
     },
     "output_type": "display_data"
    }
   ],
   "source": [
    "sns.boxplot(x=\"mnth\", y=targetVariable, data=df)"
   ]
  },
  {
   "cell_type": "code",
   "execution_count": 20,
   "id": "blank-manner",
   "metadata": {},
   "outputs": [
    {
     "data": {
      "text/plain": [
       "<AxesSubplot:xlabel='holiday', ylabel='cnt'>"
      ]
     },
     "execution_count": 20,
     "metadata": {},
     "output_type": "execute_result"
    },
    {
     "data": {
      "image/png": "[encoded data removed]",
      "text/plain": [
       "<Figure size 432x288 with 1 Axes>"
      ]
     },
     "metadata": {
      "needs_background": "light"
     },
     "output_type": "display_data"
    }
   ],
   "source": [
    "sns.boxplot(x=\"holiday\", y=targetVariable, data=df)"
   ]
  },
  {
   "cell_type": "code",
   "execution_count": 21,
   "id": "golden-property",
   "metadata": {},
   "outputs": [
    {
     "data": {
      "text/plain": [
       "<AxesSubplot:xlabel='weekday', ylabel='cnt'>"
      ]
     },
     "execution_count": 21,
     "metadata": {},
     "output_type": "execute_result"
    },
    {
     "data": {
      "image/png": "[encoded data removed]",
      "text/plain": [
       "<Figure size 432x288 with 1 Axes>"
      ]
     },
     "metadata": {
      "needs_background": "light"
     },
     "output_type": "display_data"
    }
   ],
   "source": [
    "sns.boxplot(x=\"weekday\", y=targetVariable, data=df)"
   ]
  },
  {
   "cell_type": "code",
   "execution_count": 22,
   "id": "patent-afternoon",
   "metadata": {},
   "outputs": [
    {
     "data": {
      "text/plain": [
       "<AxesSubplot:xlabel='workingday', ylabel='cnt'>"
      ]
     },
     "execution_count": 22,
     "metadata": {},
     "output_type": "execute_result"
    },
    {
     "data": {
      "image/png": "[encoded data removed]",
      "text/plain": [
       "<Figure size 432x288 with 1 Axes>"
      ]
     },
     "metadata": {
      "needs_background": "light"
     },
     "output_type": "display_data"
    }
   ],
   "source": [
    "sns.boxplot(x=\"workingday\", y=targetVariable, data=df)"
   ]
  },
  {
   "cell_type": "code",
   "execution_count": 23,
   "id": "lyric-advance",
   "metadata": {},
   "outputs": [
    {
     "data": {
      "text/plain": [
       "<AxesSubplot:xlabel='weathersit', ylabel='cnt'>"
      ]
     },
     "execution_count": 23,
     "metadata": {},
     "output_type": "execute_result"
    },
    {
     "data": {
      "image/png": "[encoded data removed]",
      "text/plain": [
       "<Figure size 432x288 with 1 Axes>"
      ]
     },
     "metadata": {
      "needs_background": "light"
     },
     "output_type": "display_data"
    }
   ],
   "source": [
    "sns.boxplot(x=\"weathersit\", y=targetVariable,  data=df)"
   ]
  },
  {
   "cell_type": "markdown",
   "id": "vertical-recovery",
   "metadata": {},
   "source": [
    "# Feature extraction using statistics"
   ]
  },
  {
   "cell_type": "markdown",
   "id": "signal-agreement",
   "metadata": {},
   "source": [
    "## For Numerical"
   ]
  },
  {
   "cell_type": "code",
   "execution_count": 27,
   "id": "prescription-heath",
   "metadata": {},
   "outputs": [],
   "source": [
    "from scipy.stats import pearsonr"
   ]
  },
  {
   "cell_type": "code",
   "execution_count": 28,
   "id": "olive-repository",
   "metadata": {},
   "outputs": [],
   "source": [
    "numLst = [\"temp\", \"atemp\", \"hum\", \"windspeed\"]\n",
    "resNumLst = []"
   ]
  },
  {
   "cell_type": "code",
   "execution_count": 29,
   "id": "synthetic-trinity",
   "metadata": {},
   "outputs": [],
   "source": [
    "for i in numLst:\n",
    "    corr, _ = pearsonr(df[targetVariable], df[i])\n",
    "    \n",
    "    if corr > 0.5 or corr < -0.5:\n",
    "        resNumLst.append(\n",
    "            [i, corr, \"Successfully Correlation\"]\n",
    "        )\n",
    "    else:\n",
    "        resNumLst.append(\n",
    "            [i, corr, \"Failed Correlation\"]\n",
    "        )"
   ]
  },
  {
   "cell_type": "code",
   "execution_count": 30,
   "id": "capable-understanding",
   "metadata": {},
   "outputs": [
    {
     "data": {
      "text/html": [
       "<div>\n",
       "<style scoped>\n",
       "    .dataframe tbody tr th:only-of-type {\n",
       "        vertical-align: middle;\n",
       "    }\n",
       "\n",
       "    .dataframe tbody tr th {\n",
       "        vertical-align: top;\n",
       "    }\n",
       "\n",
       "    .dataframe thead th {\n",
       "        text-align: right;\n",
       "    }\n",
       "</style>\n",
       "<table border=\"1\" class=\"dataframe\">\n",
       "  <thead>\n",
       "    <tr style=\"text-align: right;\">\n",
       "      <th></th>\n",
       "      <th>Attribute</th>\n",
       "      <th>Correlation</th>\n",
       "      <th>Correlation status</th>\n",
       "    </tr>\n",
       "  </thead>\n",
       "  <tbody>\n",
       "    <tr>\n",
       "      <th>0</th>\n",
       "      <td>temp</td>\n",
       "      <td>0.627494</td>\n",
       "      <td>Successfully Correlation</td>\n",
       "    </tr>\n",
       "    <tr>\n",
       "      <th>1</th>\n",
       "      <td>atemp</td>\n",
       "      <td>0.631066</td>\n",
       "      <td>Successfully Correlation</td>\n",
       "    </tr>\n",
       "    <tr>\n",
       "      <th>2</th>\n",
       "      <td>hum</td>\n",
       "      <td>-0.100659</td>\n",
       "      <td>Failed Correlation</td>\n",
       "    </tr>\n",
       "    <tr>\n",
       "      <th>3</th>\n",
       "      <td>windspeed</td>\n",
       "      <td>-0.234545</td>\n",
       "      <td>Failed Correlation</td>\n",
       "    </tr>\n",
       "  </tbody>\n",
       "</table>\n",
       "</div>"
      ],
      "text/plain": [
       "   Attribute  Correlation        Correlation status\n",
       "0       temp     0.627494  Successfully Correlation\n",
       "1      atemp     0.631066  Successfully Correlation\n",
       "2        hum    -0.100659        Failed Correlation\n",
       "3  windspeed    -0.234545        Failed Correlation"
      ]
     },
     "execution_count": 30,
     "metadata": {},
     "output_type": "execute_result"
    }
   ],
   "source": [
    "resNumLst = pd.DataFrame(resNumLst)\n",
    "resNumLst.columns = [\"Attribute\", \"Correlation\", \"Correlation status\"]\n",
    "\n",
    "resNumLst"
   ]
  },
  {
   "cell_type": "markdown",
   "id": "sacred-catholic",
   "metadata": {},
   "source": [
    "## For Categorical"
   ]
  },
  {
   "cell_type": "code",
   "execution_count": 33,
   "id": "overhead-inclusion",
   "metadata": {},
   "outputs": [],
   "source": [
    "from scipy import stats"
   ]
  },
  {
   "cell_type": "code",
   "execution_count": 34,
   "id": "acquired-approach",
   "metadata": {},
   "outputs": [],
   "source": [
    "catLst = [\"season\", \"yr\", \"mnth\", \"holiday\", \"weekday\", \"workingday\", \"weathersit\"]\n",
    "\n",
    "resCatLst = []"
   ]
  },
  {
   "cell_type": "code",
   "execution_count": 35,
   "id": "engaged-palace",
   "metadata": {},
   "outputs": [],
   "source": [
    "for ordVar in catLst:\n",
    "    res = [ordVar]\n",
    "    groupedTest = df[[ordVar, targetVariable]].groupby([ordVar])\n",
    "    unique_ordVar = df[ordVar].unique()\n",
    "    \n",
    "    f_val, p_val = stats.f_oneway(\n",
    "        *(groupedTest.get_group(value)[targetVariable] for value in unique_ordVar)\n",
    "    )\n",
    "    \n",
    "    res.append(f_val)\n",
    "    res.append(p_val)\n",
    "    \n",
    "    # dfn = number of columns - 1\n",
    "    dfn = len(groupedTest) - 1\n",
    "    \n",
    "    dfd = 0\n",
    "    for value in unique_ordVar:\n",
    "        dfd += groupedTest.get_group(value)[targetVariable].shape[0]\n",
    "        \n",
    "    res.append(\n",
    "        stats.f.ppf(q=1-0.05, dfn=dfn, dfd=dfd)\n",
    "    )\n",
    "    \n",
    "    resCatLst.append(res)"
   ]
  },
  {
   "cell_type": "code",
   "execution_count": 36,
   "id": "adjacent-school",
   "metadata": {},
   "outputs": [
    {
     "data": {
      "text/html": [
       "<div>\n",
       "<style scoped>\n",
       "    .dataframe tbody tr th:only-of-type {\n",
       "        vertical-align: middle;\n",
       "    }\n",
       "\n",
       "    .dataframe tbody tr th {\n",
       "        vertical-align: top;\n",
       "    }\n",
       "\n",
       "    .dataframe thead th {\n",
       "        text-align: right;\n",
       "    }\n",
       "</style>\n",
       "<table border=\"1\" class=\"dataframe\">\n",
       "  <thead>\n",
       "    <tr style=\"text-align: right;\">\n",
       "      <th></th>\n",
       "      <th>Attribute</th>\n",
       "      <th>F-test</th>\n",
       "      <th>P-value</th>\n",
       "      <th>Results</th>\n",
       "    </tr>\n",
       "  </thead>\n",
       "  <tbody>\n",
       "    <tr>\n",
       "      <th>0</th>\n",
       "      <td>season</td>\n",
       "      <td>128.769622</td>\n",
       "      <td>6.720391e-67</td>\n",
       "      <td>2.617086</td>\n",
       "    </tr>\n",
       "    <tr>\n",
       "      <th>1</th>\n",
       "      <td>yr</td>\n",
       "      <td>344.890586</td>\n",
       "      <td>2.483540e-63</td>\n",
       "      <td>3.854211</td>\n",
       "    </tr>\n",
       "    <tr>\n",
       "      <th>2</th>\n",
       "      <td>mnth</td>\n",
       "      <td>41.903703</td>\n",
       "      <td>4.251077e-70</td>\n",
       "      <td>1.801738</td>\n",
       "    </tr>\n",
       "    <tr>\n",
       "      <th>3</th>\n",
       "      <td>holiday</td>\n",
       "      <td>3.421441</td>\n",
       "      <td>6.475936e-02</td>\n",
       "      <td>3.854211</td>\n",
       "    </tr>\n",
       "    <tr>\n",
       "      <th>4</th>\n",
       "      <td>weekday</td>\n",
       "      <td>0.782862</td>\n",
       "      <td>5.834941e-01</td>\n",
       "      <td>2.110965</td>\n",
       "    </tr>\n",
       "    <tr>\n",
       "      <th>5</th>\n",
       "      <td>workingday</td>\n",
       "      <td>2.736742</td>\n",
       "      <td>9.849496e-02</td>\n",
       "      <td>3.854211</td>\n",
       "    </tr>\n",
       "    <tr>\n",
       "      <th>6</th>\n",
       "      <td>weathersit</td>\n",
       "      <td>40.066045</td>\n",
       "      <td>3.106317e-17</td>\n",
       "      <td>3.008043</td>\n",
       "    </tr>\n",
       "  </tbody>\n",
       "</table>\n",
       "</div>"
      ],
      "text/plain": [
       "    Attribute      F-test       P-value   Results\n",
       "0      season  128.769622  6.720391e-67  2.617086\n",
       "1          yr  344.890586  2.483540e-63  3.854211\n",
       "2        mnth   41.903703  4.251077e-70  1.801738\n",
       "3     holiday    3.421441  6.475936e-02  3.854211\n",
       "4     weekday    0.782862  5.834941e-01  2.110965\n",
       "5  workingday    2.736742  9.849496e-02  3.854211\n",
       "6  weathersit   40.066045  3.106317e-17  3.008043"
      ]
     },
     "execution_count": 36,
     "metadata": {},
     "output_type": "execute_result"
    }
   ],
   "source": [
    "resCatLst = pd.DataFrame(resCatLst)\n",
    "resCatLst.columns = [\"Attribute\", \"F-test\", \"P-value\", \"Results\"]\n",
    "\n",
    "resCatLst"
   ]
  }
 ],
 "metadata": {
  "kernelspec": {
   "display_name": "Python 3 (ipykernel)",
   "language": "python",
   "name": "python3"
  },
  "language_info": {
   "codemirror_mode": {
    "name": "ipython",
    "version": 3
   },
   "file_extension": ".py",
   "mimetype": "text/x-python",
   "name": "python",
   "nbconvert_exporter": "python",
   "pygments_lexer": "ipython3",
   "version": "3.10.5"
  }
 },
 "nbformat": 4,
 "nbformat_minor": 5
}
