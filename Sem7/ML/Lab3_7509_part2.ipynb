{
 "cells": [
  {
   "cell_type": "markdown",
   "id": "amended-confidence",
   "metadata": {},
   "source": [
    "# Import dataset \"Rental Bike Share Prediction\""
   ]
  },
  {
   "cell_type": "code",
   "execution_count": 1,
   "id": "turned-classification",
   "metadata": {},
   "outputs": [],
   "source": [
    "import pandas as pd\n",
    "import numpy as np"
   ]
  },
  {
   "cell_type": "code",
   "execution_count": 2,
   "id": "applied-franklin",
   "metadata": {},
   "outputs": [],
   "source": [
    "dfHour = pd.read_csv(\"dataset/hour.csv\")\n",
    "dfDay = pd.read_csv(\"dataset/day.csv\")"
   ]
  },
  {
   "cell_type": "markdown",
   "id": "colonial-conversion",
   "metadata": {},
   "source": [
    "# <center> Hour </center>"
   ]
  },
  {
   "cell_type": "code",
   "execution_count": 3,
   "id": "presidential-devon",
   "metadata": {},
   "outputs": [
    {
     "data": {
      "text/html": [
       "<div>\n",
       "<style scoped>\n",
       "    .dataframe tbody tr th:only-of-type {\n",
       "        vertical-align: middle;\n",
       "    }\n",
       "\n",
       "    .dataframe tbody tr th {\n",
       "        vertical-align: top;\n",
       "    }\n",
       "\n",
       "    .dataframe thead th {\n",
       "        text-align: right;\n",
       "    }\n",
       "</style>\n",
       "<table border=\"1\" class=\"dataframe\">\n",
       "  <thead>\n",
       "    <tr style=\"text-align: right;\">\n",
       "      <th></th>\n",
       "      <th>instant</th>\n",
       "      <th>dteday</th>\n",
       "      <th>season</th>\n",
       "      <th>yr</th>\n",
       "      <th>mnth</th>\n",
       "      <th>hr</th>\n",
       "      <th>holiday</th>\n",
       "      <th>weekday</th>\n",
       "      <th>workingday</th>\n",
       "      <th>weathersit</th>\n",
       "      <th>temp</th>\n",
       "      <th>atemp</th>\n",
       "      <th>hum</th>\n",
       "      <th>windspeed</th>\n",
       "      <th>casual</th>\n",
       "      <th>registered</th>\n",
       "      <th>cnt</th>\n",
       "    </tr>\n",
       "  </thead>\n",
       "  <tbody>\n",
       "    <tr>\n",
       "      <th>0</th>\n",
       "      <td>1</td>\n",
       "      <td>2011-01-01</td>\n",
       "      <td>1</td>\n",
       "      <td>0</td>\n",
       "      <td>1</td>\n",
       "      <td>0</td>\n",
       "      <td>0</td>\n",
       "      <td>6</td>\n",
       "      <td>0</td>\n",
       "      <td>1</td>\n",
       "      <td>0.24</td>\n",
       "      <td>0.2879</td>\n",
       "      <td>0.81</td>\n",
       "      <td>0.0</td>\n",
       "      <td>3</td>\n",
       "      <td>13</td>\n",
       "      <td>16</td>\n",
       "    </tr>\n",
       "    <tr>\n",
       "      <th>1</th>\n",
       "      <td>2</td>\n",
       "      <td>2011-01-01</td>\n",
       "      <td>1</td>\n",
       "      <td>0</td>\n",
       "      <td>1</td>\n",
       "      <td>1</td>\n",
       "      <td>0</td>\n",
       "      <td>6</td>\n",
       "      <td>0</td>\n",
       "      <td>1</td>\n",
       "      <td>0.22</td>\n",
       "      <td>0.2727</td>\n",
       "      <td>0.80</td>\n",
       "      <td>0.0</td>\n",
       "      <td>8</td>\n",
       "      <td>32</td>\n",
       "      <td>40</td>\n",
       "    </tr>\n",
       "    <tr>\n",
       "      <th>2</th>\n",
       "      <td>3</td>\n",
       "      <td>2011-01-01</td>\n",
       "      <td>1</td>\n",
       "      <td>0</td>\n",
       "      <td>1</td>\n",
       "      <td>2</td>\n",
       "      <td>0</td>\n",
       "      <td>6</td>\n",
       "      <td>0</td>\n",
       "      <td>1</td>\n",
       "      <td>0.22</td>\n",
       "      <td>0.2727</td>\n",
       "      <td>0.80</td>\n",
       "      <td>0.0</td>\n",
       "      <td>5</td>\n",
       "      <td>27</td>\n",
       "      <td>32</td>\n",
       "    </tr>\n",
       "    <tr>\n",
       "      <th>3</th>\n",
       "      <td>4</td>\n",
       "      <td>2011-01-01</td>\n",
       "      <td>1</td>\n",
       "      <td>0</td>\n",
       "      <td>1</td>\n",
       "      <td>3</td>\n",
       "      <td>0</td>\n",
       "      <td>6</td>\n",
       "      <td>0</td>\n",
       "      <td>1</td>\n",
       "      <td>0.24</td>\n",
       "      <td>0.2879</td>\n",
       "      <td>0.75</td>\n",
       "      <td>0.0</td>\n",
       "      <td>3</td>\n",
       "      <td>10</td>\n",
       "      <td>13</td>\n",
       "    </tr>\n",
       "    <tr>\n",
       "      <th>4</th>\n",
       "      <td>5</td>\n",
       "      <td>2011-01-01</td>\n",
       "      <td>1</td>\n",
       "      <td>0</td>\n",
       "      <td>1</td>\n",
       "      <td>4</td>\n",
       "      <td>0</td>\n",
       "      <td>6</td>\n",
       "      <td>0</td>\n",
       "      <td>1</td>\n",
       "      <td>0.24</td>\n",
       "      <td>0.2879</td>\n",
       "      <td>0.75</td>\n",
       "      <td>0.0</td>\n",
       "      <td>0</td>\n",
       "      <td>1</td>\n",
       "      <td>1</td>\n",
       "    </tr>\n",
       "  </tbody>\n",
       "</table>\n",
       "</div>"
      ],
      "text/plain": [
       "   instant      dteday  season  yr  mnth  hr  holiday  weekday  workingday  \\\n",
       "0        1  2011-01-01       1   0     1   0        0        6           0   \n",
       "1        2  2011-01-01       1   0     1   1        0        6           0   \n",
       "2        3  2011-01-01       1   0     1   2        0        6           0   \n",
       "3        4  2011-01-01       1   0     1   3        0        6           0   \n",
       "4        5  2011-01-01       1   0     1   4        0        6           0   \n",
       "\n",
       "   weathersit  temp   atemp   hum  windspeed  casual  registered  cnt  \n",
       "0           1  0.24  0.2879  0.81        0.0       3          13   16  \n",
       "1           1  0.22  0.2727  0.80        0.0       8          32   40  \n",
       "2           1  0.22  0.2727  0.80        0.0       5          27   32  \n",
       "3           1  0.24  0.2879  0.75        0.0       3          10   13  \n",
       "4           1  0.24  0.2879  0.75        0.0       0           1    1  "
      ]
     },
     "execution_count": 3,
     "metadata": {},
     "output_type": "execute_result"
    }
   ],
   "source": [
    "dfHour.head()"
   ]
  },
  {
   "cell_type": "code",
   "execution_count": 4,
   "id": "norwegian-omaha",
   "metadata": {},
   "outputs": [
    {
     "name": "stdout",
     "output_type": "stream",
     "text": [
      "<class 'pandas.core.frame.DataFrame'>\n",
      "RangeIndex: 17379 entries, 0 to 17378\n",
      "Data columns (total 17 columns):\n",
      " #   Column      Non-Null Count  Dtype  \n",
      "---  ------      --------------  -----  \n",
      " 0   instant     17379 non-null  int64  \n",
      " 1   dteday      17379 non-null  object \n",
      " 2   season      17379 non-null  int64  \n",
      " 3   yr          17379 non-null  int64  \n",
      " 4   mnth        17379 non-null  int64  \n",
      " 5   hr          17379 non-null  int64  \n",
      " 6   holiday     17379 non-null  int64  \n",
      " 7   weekday     17379 non-null  int64  \n",
      " 8   workingday  17379 non-null  int64  \n",
      " 9   weathersit  17379 non-null  int64  \n",
      " 10  temp        17379 non-null  float64\n",
      " 11  atemp       17379 non-null  float64\n",
      " 12  hum         17379 non-null  float64\n",
      " 13  windspeed   17379 non-null  float64\n",
      " 14  casual      17379 non-null  int64  \n",
      " 15  registered  17379 non-null  int64  \n",
      " 16  cnt         17379 non-null  int64  \n",
      "dtypes: float64(4), int64(12), object(1)\n",
      "memory usage: 2.3+ MB\n"
     ]
    }
   ],
   "source": [
    "dfHour.info()"
   ]
  },
  {
   "cell_type": "markdown",
   "id": "extended-reminder",
   "metadata": {},
   "source": [
    "### Do Data Preprocessing!!! "
   ]
  },
  {
   "cell_type": "code",
   "execution_count": 5,
   "id": "spread-preparation",
   "metadata": {},
   "outputs": [],
   "source": [
    "dfHour[\"season\"].replace(1, \"springer\", inplace=True)\n",
    "dfHour[\"season\"].replace(2, \"summer\", inplace=True)\n",
    "dfHour[\"season\"].replace(3, \"fall\", inplace=True)\n",
    "dfHour[\"season\"].replace(4, \"winter\", inplace=True)\n",
    "\n",
    "dfHour[\"yr\"].replace(0, \"2011\", inplace=True)\n",
    "dfHour[\"yr\"].replace(1, \"2012\", inplace=True)\n",
    "\n",
    "dfHour[\"mnth\"].replace(1, \"Jan\", inplace=True)\n",
    "dfHour[\"mnth\"].replace(2, \"Feb\", inplace=True)\n",
    "dfHour[\"mnth\"].replace(3, \"Mar\", inplace=True)\n",
    "dfHour[\"mnth\"].replace(4, \"Apr\", inplace=True)\n",
    "dfHour[\"mnth\"].replace(5, \"May\", inplace=True)\n",
    "dfHour[\"mnth\"].replace(6, \"Jun\", inplace=True)\n",
    "dfHour[\"mnth\"].replace(7, \"Jul\", inplace=True)\n",
    "dfHour[\"mnth\"].replace(8, \"Aug\", inplace=True)\n",
    "dfHour[\"mnth\"].replace(9, \"Sept\", inplace=True)\n",
    "dfHour[\"mnth\"].replace(10, \"Oct\", inplace=True)\n",
    "dfHour[\"mnth\"].replace(11, \"Nov\", inplace=True)\n",
    "dfHour[\"mnth\"].replace(12, \"Dec\", inplace=True)\n",
    "\n",
    "dfHour[\"hr\"] = dfHour[\"hr\"].astype(\"object\")\n",
    "\n",
    "dfHour[\"holiday\"].replace(0, \"no\", inplace=True)\n",
    "dfHour[\"holiday\"].replace(1, \"yes\", inplace=True)\n",
    "\n",
    "dfHour[\"weekday\"].replace(0, \"Mon\", inplace=True)\n",
    "dfHour[\"weekday\"].replace(1, \"Tue\", inplace=True)\n",
    "dfHour[\"weekday\"].replace(2, \"Wed\", inplace=True)\n",
    "dfHour[\"weekday\"].replace(3, \"Thur\", inplace=True)\n",
    "dfHour[\"weekday\"].replace(4, \"Fri\", inplace=True)\n",
    "dfHour[\"weekday\"].replace(5, \"Sat\", inplace=True)\n",
    "dfHour[\"weekday\"].replace(6, \"Sun\", inplace=True)\n",
    "\n",
    "dfHour[\"workingday\"].replace(1, \"no\", inplace=True)\n",
    "dfHour[\"workingday\"].replace(2, \"yes\", inplace=True)\n",
    "\n",
    "dfHour[\"weathersit\"] = dfHour[\"weathersit\"].astype(\"object\")"
   ]
  },
  {
   "cell_type": "code",
   "execution_count": 6,
   "id": "aquatic-bradley",
   "metadata": {
    "scrolled": true
   },
   "outputs": [
    {
     "name": "stdout",
     "output_type": "stream",
     "text": [
      "<class 'pandas.core.frame.DataFrame'>\n",
      "RangeIndex: 17379 entries, 0 to 17378\n",
      "Data columns (total 17 columns):\n",
      " #   Column      Non-Null Count  Dtype  \n",
      "---  ------      --------------  -----  \n",
      " 0   instant     17379 non-null  int64  \n",
      " 1   dteday      17379 non-null  object \n",
      " 2   season      17379 non-null  object \n",
      " 3   yr          17379 non-null  object \n",
      " 4   mnth        17379 non-null  object \n",
      " 5   hr          17379 non-null  object \n",
      " 6   holiday     17379 non-null  object \n",
      " 7   weekday     17379 non-null  object \n",
      " 8   workingday  17379 non-null  object \n",
      " 9   weathersit  17379 non-null  object \n",
      " 10  temp        17379 non-null  float64\n",
      " 11  atemp       17379 non-null  float64\n",
      " 12  hum         17379 non-null  float64\n",
      " 13  windspeed   17379 non-null  float64\n",
      " 14  casual      17379 non-null  int64  \n",
      " 15  registered  17379 non-null  int64  \n",
      " 16  cnt         17379 non-null  int64  \n",
      "dtypes: float64(4), int64(4), object(9)\n",
      "memory usage: 2.3+ MB\n"
     ]
    }
   ],
   "source": [
    "dfHour.info()"
   ]
  },
  {
   "cell_type": "code",
   "execution_count": 7,
   "id": "australian-london",
   "metadata": {},
   "outputs": [
    {
     "name": "stdout",
     "output_type": "stream",
     "text": [
      "<class 'pandas.core.frame.DataFrame'>\n",
      "RangeIndex: 17379 entries, 0 to 17378\n",
      "Data columns (total 13 columns):\n",
      " #   Column      Non-Null Count  Dtype  \n",
      "---  ------      --------------  -----  \n",
      " 0   season      17379 non-null  object \n",
      " 1   yr          17379 non-null  object \n",
      " 2   mnth        17379 non-null  object \n",
      " 3   hr          17379 non-null  object \n",
      " 4   holiday     17379 non-null  object \n",
      " 5   weekday     17379 non-null  object \n",
      " 6   workingday  17379 non-null  object \n",
      " 7   weathersit  17379 non-null  object \n",
      " 8   temp        17379 non-null  float64\n",
      " 9   atemp       17379 non-null  float64\n",
      " 10  hum         17379 non-null  float64\n",
      " 11  windspeed   17379 non-null  float64\n",
      " 12  cnt         17379 non-null  int64  \n",
      "dtypes: float64(4), int64(1), object(8)\n",
      "memory usage: 1.7+ MB\n"
     ]
    }
   ],
   "source": [
    "dfHour = dfHour[['season', 'yr', 'mnth', 'hr', 'holiday', 'weekday', 'workingday', 'weathersit', 'temp', 'atemp', 'hum', 'windspeed', 'cnt']]\n",
    "\n",
    "dfHour.info()"
   ]
  },
  {
   "cell_type": "markdown",
   "id": "billion-albuquerque",
   "metadata": {},
   "source": [
    "### Feature exctration using Correlation"
   ]
  },
  {
   "cell_type": "markdown",
   "id": "excess-costs",
   "metadata": {},
   "source": [
    "#### For Numerical"
   ]
  },
  {
   "cell_type": "code",
   "execution_count": 8,
   "id": "equivalent-spare",
   "metadata": {},
   "outputs": [
    {
     "name": "stderr",
     "output_type": "stream",
     "text": [
      "/usr/lib/python3/dist-packages/scipy/__init__.py:146: UserWarning: A NumPy version >=1.16.5 and <1.23.0 is required for this version of SciPy (detected version 1.23.1\n",
      "  warnings.warn(f\"A NumPy version >={np_minversion} and <{np_maxversion}\"\n"
     ]
    }
   ],
   "source": [
    "from scipy.stats import pearsonr"
   ]
  },
  {
   "cell_type": "code",
   "execution_count": 9,
   "id": "proprietary-answer",
   "metadata": {},
   "outputs": [],
   "source": [
    "numLst = [\"temp\", \"atemp\", \"hum\", \"windspeed\"]\n",
    "tar = \"cnt\"\n",
    "resLst = []"
   ]
  },
  {
   "cell_type": "code",
   "execution_count": 10,
   "id": "printable-webmaster",
   "metadata": {},
   "outputs": [],
   "source": [
    "for nl in numLst:\n",
    "    corr, _ = pearsonr(dfHour[tar], dfHour[nl])\n",
    "    \n",
    "    if corr > 0.5 or corr < -0.5:\n",
    "        resLst.append(\n",
    "            [nl, corr, \"Success\"]\n",
    "        )\n",
    "    else:\n",
    "        resLst.append(\n",
    "            [nl, corr, \"Fail\"]\n",
    "        )"
   ]
  },
  {
   "cell_type": "code",
   "execution_count": 11,
   "id": "backed-render",
   "metadata": {},
   "outputs": [
    {
     "data": {
      "text/html": [
       "<div>\n",
       "<style scoped>\n",
       "    .dataframe tbody tr th:only-of-type {\n",
       "        vertical-align: middle;\n",
       "    }\n",
       "\n",
       "    .dataframe tbody tr th {\n",
       "        vertical-align: top;\n",
       "    }\n",
       "\n",
       "    .dataframe thead th {\n",
       "        text-align: right;\n",
       "    }\n",
       "</style>\n",
       "<table border=\"1\" class=\"dataframe\">\n",
       "  <thead>\n",
       "    <tr style=\"text-align: right;\">\n",
       "      <th></th>\n",
       "      <th>Attribute</th>\n",
       "      <th>Correlation</th>\n",
       "      <th>Status</th>\n",
       "    </tr>\n",
       "  </thead>\n",
       "  <tbody>\n",
       "    <tr>\n",
       "      <th>0</th>\n",
       "      <td>temp</td>\n",
       "      <td>0.404772</td>\n",
       "      <td>Fail</td>\n",
       "    </tr>\n",
       "    <tr>\n",
       "      <th>1</th>\n",
       "      <td>atemp</td>\n",
       "      <td>0.400929</td>\n",
       "      <td>Fail</td>\n",
       "    </tr>\n",
       "    <tr>\n",
       "      <th>2</th>\n",
       "      <td>hum</td>\n",
       "      <td>-0.322911</td>\n",
       "      <td>Fail</td>\n",
       "    </tr>\n",
       "    <tr>\n",
       "      <th>3</th>\n",
       "      <td>windspeed</td>\n",
       "      <td>0.093234</td>\n",
       "      <td>Fail</td>\n",
       "    </tr>\n",
       "  </tbody>\n",
       "</table>\n",
       "</div>"
      ],
      "text/plain": [
       "   Attribute  Correlation Status\n",
       "0       temp     0.404772   Fail\n",
       "1      atemp     0.400929   Fail\n",
       "2        hum    -0.322911   Fail\n",
       "3  windspeed     0.093234   Fail"
      ]
     },
     "execution_count": 11,
     "metadata": {},
     "output_type": "execute_result"
    }
   ],
   "source": [
    "resLst = pd.DataFrame(resLst)\n",
    "resLst.columns = [\"Attribute\", \"Correlation\", \"Status\"]\n",
    "\n",
    "resLst"
   ]
  },
  {
   "cell_type": "markdown",
   "id": "geographic-documentary",
   "metadata": {},
   "source": [
    "#### For Categorical"
   ]
  },
  {
   "cell_type": "code",
   "execution_count": 12,
   "id": "capital-treaty",
   "metadata": {},
   "outputs": [],
   "source": [
    "from scipy import stats"
   ]
  },
  {
   "cell_type": "code",
   "execution_count": 13,
   "id": "international-midnight",
   "metadata": {},
   "outputs": [],
   "source": [
    "catLst = [\"season\", \"yr\", \"mnth\", \"hr\", \"holiday\", \"weekday\", \"workingday\", \"weathersit\"]\n",
    "tar = \"cnt\"\n",
    "resLst = []"
   ]
  },
  {
   "cell_type": "code",
   "execution_count": 14,
   "id": "breeding-michigan",
   "metadata": {},
   "outputs": [],
   "source": [
    "for lol in catLst:\n",
    "    res = [lol]\n",
    "    groupedTest = dfHour[[lol, tar]].groupby([lol])\n",
    "    unique_ = dfHour[lol].unique()\n",
    "    \n",
    "    f_val, p_val = stats.f_oneway(\n",
    "        *(groupedTest.get_group(value)[tar] for value in unique_)\n",
    "    )\n",
    "    \n",
    "    res.append(f_val)\n",
    "    res.append(p_val)\n",
    "    \n",
    "    dfn = len(groupedTest) - 1\n",
    "    dfd = 0\n",
    "    for value in unique_:\n",
    "        dfd += groupedTest.get_group(value)[tar].shape[0]\n",
    "        \n",
    "    res.append(\n",
    "        stats.f.ppf(q=1-0.05, dfn=dfn, dfd=dfd)\n",
    "    )\n",
    "    \n",
    "    resLst.append(res)"
   ]
  },
  {
   "cell_type": "code",
   "execution_count": 15,
   "id": "boxed-albuquerque",
   "metadata": {},
   "outputs": [
    {
     "data": {
      "text/html": [
       "<div>\n",
       "<style scoped>\n",
       "    .dataframe tbody tr th:only-of-type {\n",
       "        vertical-align: middle;\n",
       "    }\n",
       "\n",
       "    .dataframe tbody tr th {\n",
       "        vertical-align: top;\n",
       "    }\n",
       "\n",
       "    .dataframe thead th {\n",
       "        text-align: right;\n",
       "    }\n",
       "</style>\n",
       "<table border=\"1\" class=\"dataframe\">\n",
       "  <thead>\n",
       "    <tr style=\"text-align: right;\">\n",
       "      <th></th>\n",
       "      <th>Attribute</th>\n",
       "      <th>F-test</th>\n",
       "      <th>P-value</th>\n",
       "      <th>Results</th>\n",
       "    </tr>\n",
       "  </thead>\n",
       "  <tbody>\n",
       "    <tr>\n",
       "      <th>0</th>\n",
       "      <td>season</td>\n",
       "      <td>409.181037</td>\n",
       "      <td>7.401071e-257</td>\n",
       "      <td>2.605420</td>\n",
       "    </tr>\n",
       "    <tr>\n",
       "      <th>1</th>\n",
       "      <td>yr</td>\n",
       "      <td>1163.365167</td>\n",
       "      <td>7.213184e-247</td>\n",
       "      <td>3.841994</td>\n",
       "    </tr>\n",
       "    <tr>\n",
       "      <th>2</th>\n",
       "      <td>mnth</td>\n",
       "      <td>128.102190</td>\n",
       "      <td>5.505685e-284</td>\n",
       "      <td>1.789198</td>\n",
       "    </tr>\n",
       "    <tr>\n",
       "      <th>3</th>\n",
       "      <td>hr</td>\n",
       "      <td>759.086281</td>\n",
       "      <td>0.000000e+00</td>\n",
       "      <td>1.529861</td>\n",
       "    </tr>\n",
       "    <tr>\n",
       "      <th>4</th>\n",
       "      <td>holiday</td>\n",
       "      <td>16.636980</td>\n",
       "      <td>4.546169e-05</td>\n",
       "      <td>3.841994</td>\n",
       "    </tr>\n",
       "    <tr>\n",
       "      <th>5</th>\n",
       "      <td>weekday</td>\n",
       "      <td>3.487790</td>\n",
       "      <td>1.899031e-03</td>\n",
       "      <td>2.099117</td>\n",
       "    </tr>\n",
       "    <tr>\n",
       "      <th>6</th>\n",
       "      <td>workingday</td>\n",
       "      <td>15.951823</td>\n",
       "      <td>6.524265e-05</td>\n",
       "      <td>3.841994</td>\n",
       "    </tr>\n",
       "    <tr>\n",
       "      <th>7</th>\n",
       "      <td>weathersit</td>\n",
       "      <td>127.173869</td>\n",
       "      <td>1.734782e-81</td>\n",
       "      <td>2.605420</td>\n",
       "    </tr>\n",
       "  </tbody>\n",
       "</table>\n",
       "</div>"
      ],
      "text/plain": [
       "    Attribute       F-test        P-value   Results\n",
       "0      season   409.181037  7.401071e-257  2.605420\n",
       "1          yr  1163.365167  7.213184e-247  3.841994\n",
       "2        mnth   128.102190  5.505685e-284  1.789198\n",
       "3          hr   759.086281   0.000000e+00  1.529861\n",
       "4     holiday    16.636980   4.546169e-05  3.841994\n",
       "5     weekday     3.487790   1.899031e-03  2.099117\n",
       "6  workingday    15.951823   6.524265e-05  3.841994\n",
       "7  weathersit   127.173869   1.734782e-81  2.605420"
      ]
     },
     "execution_count": 15,
     "metadata": {},
     "output_type": "execute_result"
    }
   ],
   "source": [
    "resLst = pd.DataFrame(resLst)\n",
    "resLst.columns = [\"Attribute\", \"F-test\", \"P-value\", \"Results\"]\n",
    "\n",
    "resLst"
   ]
  },
  {
   "cell_type": "markdown",
   "id": "facial-bacteria",
   "metadata": {},
   "source": [
    "### Do Data transformation!!!"
   ]
  },
  {
   "cell_type": "markdown",
   "id": "adjusted-saturn",
   "metadata": {},
   "source": [
    "Data transformation converts a raw data into meaningful data for computer. Since categorical variable cannot used in modeling, data transformation can use it."
   ]
  },
  {
   "cell_type": "code",
   "execution_count": 16,
   "id": "significant-gathering",
   "metadata": {},
   "outputs": [
    {
     "name": "stdout",
     "output_type": "stream",
     "text": [
      "<class 'pandas.core.frame.DataFrame'>\n",
      "RangeIndex: 17379 entries, 0 to 17378\n",
      "Data columns (total 62 columns):\n",
      " #   Column           Non-Null Count  Dtype  \n",
      "---  ------           --------------  -----  \n",
      " 0   temp             17379 non-null  float64\n",
      " 1   atemp            17379 non-null  float64\n",
      " 2   hum              17379 non-null  float64\n",
      " 3   windspeed        17379 non-null  float64\n",
      " 4   cnt              17379 non-null  int64  \n",
      " 5   season_fall      17379 non-null  uint8  \n",
      " 6   season_springer  17379 non-null  uint8  \n",
      " 7   season_summer    17379 non-null  uint8  \n",
      " 8   season_winter    17379 non-null  uint8  \n",
      " 9   yr_2011          17379 non-null  uint8  \n",
      " 10  yr_2012          17379 non-null  uint8  \n",
      " 11  mnth_Apr         17379 non-null  uint8  \n",
      " 12  mnth_Aug         17379 non-null  uint8  \n",
      " 13  mnth_Dec         17379 non-null  uint8  \n",
      " 14  mnth_Feb         17379 non-null  uint8  \n",
      " 15  mnth_Jan         17379 non-null  uint8  \n",
      " 16  mnth_Jul         17379 non-null  uint8  \n",
      " 17  mnth_Jun         17379 non-null  uint8  \n",
      " 18  mnth_Mar         17379 non-null  uint8  \n",
      " 19  mnth_May         17379 non-null  uint8  \n",
      " 20  mnth_Nov         17379 non-null  uint8  \n",
      " 21  mnth_Oct         17379 non-null  uint8  \n",
      " 22  mnth_Sept        17379 non-null  uint8  \n",
      " 23  hr_0             17379 non-null  uint8  \n",
      " 24  hr_1             17379 non-null  uint8  \n",
      " 25  hr_2             17379 non-null  uint8  \n",
      " 26  hr_3             17379 non-null  uint8  \n",
      " 27  hr_4             17379 non-null  uint8  \n",
      " 28  hr_5             17379 non-null  uint8  \n",
      " 29  hr_6             17379 non-null  uint8  \n",
      " 30  hr_7             17379 non-null  uint8  \n",
      " 31  hr_8             17379 non-null  uint8  \n",
      " 32  hr_9             17379 non-null  uint8  \n",
      " 33  hr_10            17379 non-null  uint8  \n",
      " 34  hr_11            17379 non-null  uint8  \n",
      " 35  hr_12            17379 non-null  uint8  \n",
      " 36  hr_13            17379 non-null  uint8  \n",
      " 37  hr_14            17379 non-null  uint8  \n",
      " 38  hr_15            17379 non-null  uint8  \n",
      " 39  hr_16            17379 non-null  uint8  \n",
      " 40  hr_17            17379 non-null  uint8  \n",
      " 41  hr_18            17379 non-null  uint8  \n",
      " 42  hr_19            17379 non-null  uint8  \n",
      " 43  hr_20            17379 non-null  uint8  \n",
      " 44  hr_21            17379 non-null  uint8  \n",
      " 45  hr_22            17379 non-null  uint8  \n",
      " 46  hr_23            17379 non-null  uint8  \n",
      " 47  holiday_no       17379 non-null  uint8  \n",
      " 48  holiday_yes      17379 non-null  uint8  \n",
      " 49  weekday_Fri      17379 non-null  uint8  \n",
      " 50  weekday_Mon      17379 non-null  uint8  \n",
      " 51  weekday_Sat      17379 non-null  uint8  \n",
      " 52  weekday_Sun      17379 non-null  uint8  \n",
      " 53  weekday_Thur     17379 non-null  uint8  \n",
      " 54  weekday_Tue      17379 non-null  uint8  \n",
      " 55  weekday_Wed      17379 non-null  uint8  \n",
      " 56  workingday_0     17379 non-null  uint8  \n",
      " 57  workingday_no    17379 non-null  uint8  \n",
      " 58  weathersit_1     17379 non-null  uint8  \n",
      " 59  weathersit_2     17379 non-null  uint8  \n",
      " 60  weathersit_3     17379 non-null  uint8  \n",
      " 61  weathersit_4     17379 non-null  uint8  \n",
      "dtypes: float64(4), int64(1), uint8(57)\n",
      "memory usage: 1.6 MB\n"
     ]
    },
    {
     "name": "stderr",
     "output_type": "stream",
     "text": [
      "/home/cskushal18/.local/lib/python3.10/site-packages/pandas/core/algorithms.py:798: FutureWarning: In a future version, the Index constructor will not infer numeric dtypes when passed object-dtype sequences (matching Series behavior)\n",
      "  uniques = Index(uniques)\n"
     ]
    }
   ],
   "source": [
    "dfHour = pd.get_dummies(dfHour)\n",
    "\n",
    "dfHour.info()"
   ]
  },
  {
   "cell_type": "markdown",
   "id": "54d3b7a6",
   "metadata": {},
   "source": [
    "## Simple Linear Regression"
   ]
  },
  {
   "cell_type": "code",
   "execution_count": 17,
   "id": "01ee4ae4",
   "metadata": {},
   "outputs": [
    {
     "data": {
      "text/html": [
       "<style>#sk-container-id-1 {color: black;background-color: white;}#sk-container-id-1 pre{padding: 0;}#sk-container-id-1 div.sk-toggleable {background-color: white;}#sk-container-id-1 label.sk-toggleable__label {cursor: pointer;display: block;width: 100%;margin-bottom: 0;padding: 0.3em;box-sizing: border-box;text-align: center;}#sk-container-id-1 label.sk-toggleable__label-arrow:before {content: \"▸\";float: left;margin-right: 0.25em;color: #696969;}#sk-container-id-1 label.sk-toggleable__label-arrow:hover:before {color: black;}#sk-container-id-1 div.sk-estimator:hover label.sk-toggleable__label-arrow:before {color: black;}#sk-container-id-1 div.sk-toggleable__content {max-height: 0;max-width: 0;overflow: hidden;text-align: left;background-color: #f0f8ff;}#sk-container-id-1 div.sk-toggleable__content pre {margin: 0.2em;color: black;border-radius: 0.25em;background-color: #f0f8ff;}#sk-container-id-1 input.sk-toggleable__control:checked~div.sk-toggleable__content {max-height: 200px;max-width: 100%;overflow: auto;}#sk-container-id-1 input.sk-toggleable__control:checked~label.sk-toggleable__label-arrow:before {content: \"▾\";}#sk-container-id-1 div.sk-estimator input.sk-toggleable__control:checked~label.sk-toggleable__label {background-color: #d4ebff;}#sk-container-id-1 div.sk-label input.sk-toggleable__control:checked~label.sk-toggleable__label {background-color: #d4ebff;}#sk-container-id-1 input.sk-hidden--visually {border: 0;clip: rect(1px 1px 1px 1px);clip: rect(1px, 1px, 1px, 1px);height: 1px;margin: -1px;overflow: hidden;padding: 0;position: absolute;width: 1px;}#sk-container-id-1 div.sk-estimator {font-family: monospace;background-color: #f0f8ff;border: 1px dotted black;border-radius: 0.25em;box-sizing: border-box;margin-bottom: 0.5em;}#sk-container-id-1 div.sk-estimator:hover {background-color: #d4ebff;}#sk-container-id-1 div.sk-parallel-item::after {content: \"\";width: 100%;border-bottom: 1px solid gray;flex-grow: 1;}#sk-container-id-1 div.sk-label:hover label.sk-toggleable__label {background-color: #d4ebff;}#sk-container-id-1 div.sk-serial::before {content: \"\";position: absolute;border-left: 1px solid gray;box-sizing: border-box;top: 0;bottom: 0;left: 50%;z-index: 0;}#sk-container-id-1 div.sk-serial {display: flex;flex-direction: column;align-items: center;background-color: white;padding-right: 0.2em;padding-left: 0.2em;position: relative;}#sk-container-id-1 div.sk-item {position: relative;z-index: 1;}#sk-container-id-1 div.sk-parallel {display: flex;align-items: stretch;justify-content: center;background-color: white;position: relative;}#sk-container-id-1 div.sk-item::before, #sk-container-id-1 div.sk-parallel-item::before {content: \"\";position: absolute;border-left: 1px solid gray;box-sizing: border-box;top: 0;bottom: 0;left: 50%;z-index: -1;}#sk-container-id-1 div.sk-parallel-item {display: flex;flex-direction: column;z-index: 1;position: relative;background-color: white;}#sk-container-id-1 div.sk-parallel-item:first-child::after {align-self: flex-end;width: 50%;}#sk-container-id-1 div.sk-parallel-item:last-child::after {align-self: flex-start;width: 50%;}#sk-container-id-1 div.sk-parallel-item:only-child::after {width: 0;}#sk-container-id-1 div.sk-dashed-wrapped {border: 1px dashed gray;margin: 0 0.4em 0.5em 0.4em;box-sizing: border-box;padding-bottom: 0.4em;background-color: white;}#sk-container-id-1 div.sk-label label {font-family: monospace;font-weight: bold;display: inline-block;line-height: 1.2em;}#sk-container-id-1 div.sk-label-container {text-align: center;}#sk-container-id-1 div.sk-container {/* jupyter's `normalize.less` sets `[hidden] { display: none; }` but bootstrap.min.css set `[hidden] { display: none !important; }` so we also need the `!important` here to be able to override the default hidden behavior on the sphinx rendered scikit-learn.org. See: https://github.com/scikit-learn/scikit-learn/issues/21755 */display: inline-block !important;position: relative;}#sk-container-id-1 div.sk-text-repr-fallback {display: none;}</style><div id=\"sk-container-id-1\" class=\"sk-top-container\"><div class=\"sk-text-repr-fallback\"><pre>LinearRegression()</pre><b>In a Jupyter environment, please rerun this cell to show the HTML representation or trust the notebook. <br />On GitHub, the HTML representation is unable to render, please try loading this page with nbviewer.org.</b></div><div class=\"sk-container\" hidden><div class=\"sk-item\"><div class=\"sk-estimator sk-toggleable\"><input class=\"sk-toggleable__control sk-hidden--visually\" id=\"sk-estimator-id-1\" type=\"checkbox\" checked><label for=\"sk-estimator-id-1\" class=\"sk-toggleable__label sk-toggleable__label-arrow\">LinearRegression</label><div class=\"sk-toggleable__content\"><pre>LinearRegression()</pre></div></div></div></div></div>"
      ],
      "text/plain": [
       "LinearRegression()"
      ]
     },
     "execution_count": 17,
     "metadata": {},
     "output_type": "execute_result"
    }
   ],
   "source": [
    "from sklearn.linear_model import LinearRegression # -> Import \n",
    "\n",
    "lm = LinearRegression() # -> Create the \"Linear Regression\" object\n",
    "x = dfHour[['hum']]\n",
    "y = dfHour['cnt']\n",
    "\n",
    "lm.fit(x, y) # -> Fit the linear model using 'hum'"
   ]
  },
  {
   "cell_type": "code",
   "execution_count": 18,
   "id": "2912aa06",
   "metadata": {},
   "outputs": [
    {
     "name": "stdout",
     "output_type": "stream",
     "text": [
      "Intercept:  379.88490740324187  whereas, Slop:  [-303.59225821]\n"
     ]
    }
   ],
   "source": [
    "print(\"Intercept: \", lm.intercept_, \" whereas, Slop: \", lm.coef_)"
   ]
  },
  {
   "cell_type": "markdown",
   "id": "18bcde35",
   "metadata": {},
   "source": [
    "Thus, final extimated model in <i> cnt = 379.885 + (-303.592) * hum </i>"
   ]
  },
  {
   "cell_type": "code",
   "execution_count": 19,
   "id": "5c72290a",
   "metadata": {},
   "outputs": [
    {
     "name": "stdout",
     "output_type": "stream",
     "text": [
      "Predicated Value\tActual Value: \n",
      "\n",
      "133.97517825355558 \t 16\n",
      "137.0111008356505 \t 40\n",
      "137.0111008356505 \t 32\n",
      "152.19071374612497 \t 13\n",
      "152.19071374612497 \t 1\n"
     ]
    }
   ],
   "source": [
    "yHat = lm.predict(x) # Predict output...\n",
    "\n",
    "print(\"Predicated Value\\tActual Value: \\n\")\n",
    "for i in range(0, 5):\n",
    "    print(yHat[i], \"\\t\", y[i])"
   ]
  },
  {
   "cell_type": "markdown",
   "id": "886ee262",
   "metadata": {},
   "source": [
    "## Multiple Linear Regression"
   ]
  },
  {
   "cell_type": "code",
   "execution_count": 20,
   "id": "f8222aed",
   "metadata": {},
   "outputs": [],
   "source": [
    "zList = []\n",
    "\n",
    "for b in list(dfHour.columns):\n",
    "    if b != 'cnt':\n",
    "        zList.append(b)\n",
    "        \n",
    "z = dfHour[[\n",
    "    *(x for x in zList)\n",
    "]]"
   ]
  },
  {
   "cell_type": "code",
   "execution_count": 21,
   "id": "79a7cb68",
   "metadata": {},
   "outputs": [
    {
     "data": {
      "text/html": [
       "<style>#sk-container-id-2 {color: black;background-color: white;}#sk-container-id-2 pre{padding: 0;}#sk-container-id-2 div.sk-toggleable {background-color: white;}#sk-container-id-2 label.sk-toggleable__label {cursor: pointer;display: block;width: 100%;margin-bottom: 0;padding: 0.3em;box-sizing: border-box;text-align: center;}#sk-container-id-2 label.sk-toggleable__label-arrow:before {content: \"▸\";float: left;margin-right: 0.25em;color: #696969;}#sk-container-id-2 label.sk-toggleable__label-arrow:hover:before {color: black;}#sk-container-id-2 div.sk-estimator:hover label.sk-toggleable__label-arrow:before {color: black;}#sk-container-id-2 div.sk-toggleable__content {max-height: 0;max-width: 0;overflow: hidden;text-align: left;background-color: #f0f8ff;}#sk-container-id-2 div.sk-toggleable__content pre {margin: 0.2em;color: black;border-radius: 0.25em;background-color: #f0f8ff;}#sk-container-id-2 input.sk-toggleable__control:checked~div.sk-toggleable__content {max-height: 200px;max-width: 100%;overflow: auto;}#sk-container-id-2 input.sk-toggleable__control:checked~label.sk-toggleable__label-arrow:before {content: \"▾\";}#sk-container-id-2 div.sk-estimator input.sk-toggleable__control:checked~label.sk-toggleable__label {background-color: #d4ebff;}#sk-container-id-2 div.sk-label input.sk-toggleable__control:checked~label.sk-toggleable__label {background-color: #d4ebff;}#sk-container-id-2 input.sk-hidden--visually {border: 0;clip: rect(1px 1px 1px 1px);clip: rect(1px, 1px, 1px, 1px);height: 1px;margin: -1px;overflow: hidden;padding: 0;position: absolute;width: 1px;}#sk-container-id-2 div.sk-estimator {font-family: monospace;background-color: #f0f8ff;border: 1px dotted black;border-radius: 0.25em;box-sizing: border-box;margin-bottom: 0.5em;}#sk-container-id-2 div.sk-estimator:hover {background-color: #d4ebff;}#sk-container-id-2 div.sk-parallel-item::after {content: \"\";width: 100%;border-bottom: 1px solid gray;flex-grow: 1;}#sk-container-id-2 div.sk-label:hover label.sk-toggleable__label {background-color: #d4ebff;}#sk-container-id-2 div.sk-serial::before {content: \"\";position: absolute;border-left: 1px solid gray;box-sizing: border-box;top: 0;bottom: 0;left: 50%;z-index: 0;}#sk-container-id-2 div.sk-serial {display: flex;flex-direction: column;align-items: center;background-color: white;padding-right: 0.2em;padding-left: 0.2em;position: relative;}#sk-container-id-2 div.sk-item {position: relative;z-index: 1;}#sk-container-id-2 div.sk-parallel {display: flex;align-items: stretch;justify-content: center;background-color: white;position: relative;}#sk-container-id-2 div.sk-item::before, #sk-container-id-2 div.sk-parallel-item::before {content: \"\";position: absolute;border-left: 1px solid gray;box-sizing: border-box;top: 0;bottom: 0;left: 50%;z-index: -1;}#sk-container-id-2 div.sk-parallel-item {display: flex;flex-direction: column;z-index: 1;position: relative;background-color: white;}#sk-container-id-2 div.sk-parallel-item:first-child::after {align-self: flex-end;width: 50%;}#sk-container-id-2 div.sk-parallel-item:last-child::after {align-self: flex-start;width: 50%;}#sk-container-id-2 div.sk-parallel-item:only-child::after {width: 0;}#sk-container-id-2 div.sk-dashed-wrapped {border: 1px dashed gray;margin: 0 0.4em 0.5em 0.4em;box-sizing: border-box;padding-bottom: 0.4em;background-color: white;}#sk-container-id-2 div.sk-label label {font-family: monospace;font-weight: bold;display: inline-block;line-height: 1.2em;}#sk-container-id-2 div.sk-label-container {text-align: center;}#sk-container-id-2 div.sk-container {/* jupyter's `normalize.less` sets `[hidden] { display: none; }` but bootstrap.min.css set `[hidden] { display: none !important; }` so we also need the `!important` here to be able to override the default hidden behavior on the sphinx rendered scikit-learn.org. See: https://github.com/scikit-learn/scikit-learn/issues/21755 */display: inline-block !important;position: relative;}#sk-container-id-2 div.sk-text-repr-fallback {display: none;}</style><div id=\"sk-container-id-2\" class=\"sk-top-container\"><div class=\"sk-text-repr-fallback\"><pre>LinearRegression()</pre><b>In a Jupyter environment, please rerun this cell to show the HTML representation or trust the notebook. <br />On GitHub, the HTML representation is unable to render, please try loading this page with nbviewer.org.</b></div><div class=\"sk-container\" hidden><div class=\"sk-item\"><div class=\"sk-estimator sk-toggleable\"><input class=\"sk-toggleable__control sk-hidden--visually\" id=\"sk-estimator-id-2\" type=\"checkbox\" checked><label for=\"sk-estimator-id-2\" class=\"sk-toggleable__label sk-toggleable__label-arrow\">LinearRegression</label><div class=\"sk-toggleable__content\"><pre>LinearRegression()</pre></div></div></div></div></div>"
      ],
      "text/plain": [
       "LinearRegression()"
      ]
     },
     "execution_count": 21,
     "metadata": {},
     "output_type": "execute_result"
    }
   ],
   "source": [
    "lm = LinearRegression()\n",
    "\n",
    "lm.fit(z, dfHour['cnt'])"
   ]
  },
  {
   "cell_type": "code",
   "execution_count": 22,
   "id": "9e732cdb",
   "metadata": {},
   "outputs": [
    {
     "name": "stdout",
     "output_type": "stream",
     "text": [
      "Intercept:  -1116221263117930.0  whereas, Slopes:  [ 1.29327309e+02  1.20175461e+02 -9.56288864e+01 -3.16469705e+01\n",
      " -1.68722325e+14 -1.68722325e+14 -1.68722325e+14 -1.68722325e+14\n",
      " -4.85046287e+14 -4.85046287e+14  1.76042758e+14  1.76042758e+14\n",
      "  1.76042758e+14  1.76042758e+14  1.76042758e+14  1.76042758e+14\n",
      "  1.76042758e+14  1.76042758e+14  1.76042758e+14  1.76042758e+14\n",
      "  1.76042758e+14  1.76042758e+14  2.74550896e+14  2.74550896e+14\n",
      "  2.74550896e+14  2.74550896e+14  2.74550896e+14  2.74550896e+14\n",
      "  2.74550896e+14  2.74550896e+14  2.74550896e+14  2.74550896e+14\n",
      "  2.74550896e+14  2.74550896e+14  2.74550896e+14  2.74550896e+14\n",
      "  2.74550896e+14  2.74550896e+14  2.74550896e+14  2.74550896e+14\n",
      "  2.74550896e+14  2.74550896e+14  2.74550896e+14  2.74550896e+14\n",
      "  2.74550896e+14  2.74550896e+14  1.54507751e+15  1.57781550e+15\n",
      " -4.00781591e+13 -7.34016649e+12 -4.00781591e+13 -7.34016649e+12\n",
      " -4.00781591e+13 -4.00781591e+13 -4.00781591e+13 -5.82757642e+14\n",
      " -5.50019650e+14  3.64416520e+14  3.64416520e+14  3.64416520e+14\n",
      "  3.64416520e+14]\n"
     ]
    }
   ],
   "source": [
    "print(\"Intercept: \", lm.intercept_, \" whereas, Slopes: \", lm.coef_)"
   ]
  },
  {
   "cell_type": "code",
   "execution_count": 23,
   "id": "881f3dee",
   "metadata": {},
   "outputs": [
    {
     "name": "stdout",
     "output_type": "stream",
     "text": [
      "Predicated Value\tActual Value\n",
      "\n",
      "-74.0 \t 16\n",
      "-93.25 \t 40\n",
      "-103.0 \t 32\n",
      "-104.0 \t 13\n",
      "-109.25 \t 1\n"
     ]
    }
   ],
   "source": [
    "yHatMulti = lm.predict(z)\n",
    "\n",
    "print(\"Predicated Value\\tActual Value\\n\")\n",
    "for i in range(0, 5):\n",
    "    print(yHatMulti[i], \"\\t\", y[i])"
   ]
  },
  {
   "cell_type": "markdown",
   "id": "7ed309a5",
   "metadata": {},
   "source": [
    "## Polynomial Regression"
   ]
  },
  {
   "cell_type": "code",
   "execution_count": 24,
   "id": "d3191f55",
   "metadata": {},
   "outputs": [
    {
     "name": "stdout",
     "output_type": "stream",
     "text": [
      "       3        2\n",
      "609.4 x - 1239 x + 479.8 x + 229.4\n"
     ]
    }
   ],
   "source": [
    "x = dfHour['hum']\n",
    "y = dfHour['cnt']\n",
    "\n",
    "f = np.polyfit(x, y, 3)\n",
    "p = np.poly1d(f)\n",
    "\n",
    "print(p)"
   ]
  },
  {
   "cell_type": "code",
   "execution_count": 25,
   "id": "ce3b75d1",
   "metadata": {},
   "outputs": [
    {
     "name": "stdout",
     "output_type": "stream",
     "text": [
      "Predicated\tActual\n",
      "\n",
      "129.16126015611678 \t 16\n",
      "132.45934618371342 \t 40\n",
      "132.45934618371342 \t 32\n",
      "149.54808487211443 \t 13\n",
      "149.54808487211443 \t 1\n"
     ]
    }
   ],
   "source": [
    "yPolyPred = p(x)\n",
    "\n",
    "print(\"Predicated\\tActual\\n\")\n",
    "for i in range(0, 5):\n",
    "    print(yPolyPred[i], \"\\t\", y[i])"
   ]
  },
  {
   "cell_type": "markdown",
   "id": "4588a6be",
   "metadata": {},
   "source": [
    "## Multiple Polynomial Regression"
   ]
  },
  {
   "cell_type": "code",
   "execution_count": 26,
   "id": "0f7d6adb",
   "metadata": {},
   "outputs": [],
   "source": [
    "from sklearn.preprocessing import PolynomialFeatures, StandardScaler\n",
    "from sklearn.pipeline import Pipeline"
   ]
  },
  {
   "cell_type": "code",
   "execution_count": 27,
   "id": "18eaed7a",
   "metadata": {},
   "outputs": [
    {
     "data": {
      "text/html": [
       "<style>#sk-container-id-3 {color: black;background-color: white;}#sk-container-id-3 pre{padding: 0;}#sk-container-id-3 div.sk-toggleable {background-color: white;}#sk-container-id-3 label.sk-toggleable__label {cursor: pointer;display: block;width: 100%;margin-bottom: 0;padding: 0.3em;box-sizing: border-box;text-align: center;}#sk-container-id-3 label.sk-toggleable__label-arrow:before {content: \"▸\";float: left;margin-right: 0.25em;color: #696969;}#sk-container-id-3 label.sk-toggleable__label-arrow:hover:before {color: black;}#sk-container-id-3 div.sk-estimator:hover label.sk-toggleable__label-arrow:before {color: black;}#sk-container-id-3 div.sk-toggleable__content {max-height: 0;max-width: 0;overflow: hidden;text-align: left;background-color: #f0f8ff;}#sk-container-id-3 div.sk-toggleable__content pre {margin: 0.2em;color: black;border-radius: 0.25em;background-color: #f0f8ff;}#sk-container-id-3 input.sk-toggleable__control:checked~div.sk-toggleable__content {max-height: 200px;max-width: 100%;overflow: auto;}#sk-container-id-3 input.sk-toggleable__control:checked~label.sk-toggleable__label-arrow:before {content: \"▾\";}#sk-container-id-3 div.sk-estimator input.sk-toggleable__control:checked~label.sk-toggleable__label {background-color: #d4ebff;}#sk-container-id-3 div.sk-label input.sk-toggleable__control:checked~label.sk-toggleable__label {background-color: #d4ebff;}#sk-container-id-3 input.sk-hidden--visually {border: 0;clip: rect(1px 1px 1px 1px);clip: rect(1px, 1px, 1px, 1px);height: 1px;margin: -1px;overflow: hidden;padding: 0;position: absolute;width: 1px;}#sk-container-id-3 div.sk-estimator {font-family: monospace;background-color: #f0f8ff;border: 1px dotted black;border-radius: 0.25em;box-sizing: border-box;margin-bottom: 0.5em;}#sk-container-id-3 div.sk-estimator:hover {background-color: #d4ebff;}#sk-container-id-3 div.sk-parallel-item::after {content: \"\";width: 100%;border-bottom: 1px solid gray;flex-grow: 1;}#sk-container-id-3 div.sk-label:hover label.sk-toggleable__label {background-color: #d4ebff;}#sk-container-id-3 div.sk-serial::before {content: \"\";position: absolute;border-left: 1px solid gray;box-sizing: border-box;top: 0;bottom: 0;left: 50%;z-index: 0;}#sk-container-id-3 div.sk-serial {display: flex;flex-direction: column;align-items: center;background-color: white;padding-right: 0.2em;padding-left: 0.2em;position: relative;}#sk-container-id-3 div.sk-item {position: relative;z-index: 1;}#sk-container-id-3 div.sk-parallel {display: flex;align-items: stretch;justify-content: center;background-color: white;position: relative;}#sk-container-id-3 div.sk-item::before, #sk-container-id-3 div.sk-parallel-item::before {content: \"\";position: absolute;border-left: 1px solid gray;box-sizing: border-box;top: 0;bottom: 0;left: 50%;z-index: -1;}#sk-container-id-3 div.sk-parallel-item {display: flex;flex-direction: column;z-index: 1;position: relative;background-color: white;}#sk-container-id-3 div.sk-parallel-item:first-child::after {align-self: flex-end;width: 50%;}#sk-container-id-3 div.sk-parallel-item:last-child::after {align-self: flex-start;width: 50%;}#sk-container-id-3 div.sk-parallel-item:only-child::after {width: 0;}#sk-container-id-3 div.sk-dashed-wrapped {border: 1px dashed gray;margin: 0 0.4em 0.5em 0.4em;box-sizing: border-box;padding-bottom: 0.4em;background-color: white;}#sk-container-id-3 div.sk-label label {font-family: monospace;font-weight: bold;display: inline-block;line-height: 1.2em;}#sk-container-id-3 div.sk-label-container {text-align: center;}#sk-container-id-3 div.sk-container {/* jupyter's `normalize.less` sets `[hidden] { display: none; }` but bootstrap.min.css set `[hidden] { display: none !important; }` so we also need the `!important` here to be able to override the default hidden behavior on the sphinx rendered scikit-learn.org. See: https://github.com/scikit-learn/scikit-learn/issues/21755 */display: inline-block !important;position: relative;}#sk-container-id-3 div.sk-text-repr-fallback {display: none;}</style><div id=\"sk-container-id-3\" class=\"sk-top-container\"><div class=\"sk-text-repr-fallback\"><pre>Pipeline(steps=[(&#x27;Scale&#x27;, StandardScaler()),\n",
       "                (&#x27;Polynomial&#x27;, PolynomialFeatures()),\n",
       "                (&#x27;Model&#x27;, LinearRegression())])</pre><b>In a Jupyter environment, please rerun this cell to show the HTML representation or trust the notebook. <br />On GitHub, the HTML representation is unable to render, please try loading this page with nbviewer.org.</b></div><div class=\"sk-container\" hidden><div class=\"sk-item sk-dashed-wrapped\"><div class=\"sk-label-container\"><div class=\"sk-label sk-toggleable\"><input class=\"sk-toggleable__control sk-hidden--visually\" id=\"sk-estimator-id-3\" type=\"checkbox\" ><label for=\"sk-estimator-id-3\" class=\"sk-toggleable__label sk-toggleable__label-arrow\">Pipeline</label><div class=\"sk-toggleable__content\"><pre>Pipeline(steps=[(&#x27;Scale&#x27;, StandardScaler()),\n",
       "                (&#x27;Polynomial&#x27;, PolynomialFeatures()),\n",
       "                (&#x27;Model&#x27;, LinearRegression())])</pre></div></div></div><div class=\"sk-serial\"><div class=\"sk-item\"><div class=\"sk-estimator sk-toggleable\"><input class=\"sk-toggleable__control sk-hidden--visually\" id=\"sk-estimator-id-4\" type=\"checkbox\" ><label for=\"sk-estimator-id-4\" class=\"sk-toggleable__label sk-toggleable__label-arrow\">StandardScaler</label><div class=\"sk-toggleable__content\"><pre>StandardScaler()</pre></div></div></div><div class=\"sk-item\"><div class=\"sk-estimator sk-toggleable\"><input class=\"sk-toggleable__control sk-hidden--visually\" id=\"sk-estimator-id-5\" type=\"checkbox\" ><label for=\"sk-estimator-id-5\" class=\"sk-toggleable__label sk-toggleable__label-arrow\">PolynomialFeatures</label><div class=\"sk-toggleable__content\"><pre>PolynomialFeatures()</pre></div></div></div><div class=\"sk-item\"><div class=\"sk-estimator sk-toggleable\"><input class=\"sk-toggleable__control sk-hidden--visually\" id=\"sk-estimator-id-6\" type=\"checkbox\" ><label for=\"sk-estimator-id-6\" class=\"sk-toggleable__label sk-toggleable__label-arrow\">LinearRegression</label><div class=\"sk-toggleable__content\"><pre>LinearRegression()</pre></div></div></div></div></div></div></div>"
      ],
      "text/plain": [
       "Pipeline(steps=[('Scale', StandardScaler()),\n",
       "                ('Polynomial', PolynomialFeatures()),\n",
       "                ('Model', LinearRegression())])"
      ]
     },
     "execution_count": 27,
     "metadata": {},
     "output_type": "execute_result"
    }
   ],
   "source": [
    "ipt = [('Scale', StandardScaler()), ('Polynomial', PolynomialFeatures(2)), ('Model', LinearRegression())]\n",
    "\n",
    "pipe = Pipeline(ipt)\n",
    "pipe"
   ]
  },
  {
   "cell_type": "code",
   "execution_count": 28,
   "id": "1293f7c4",
   "metadata": {},
   "outputs": [
    {
     "data": {
      "text/html": [
       "<style>#sk-container-id-4 {color: black;background-color: white;}#sk-container-id-4 pre{padding: 0;}#sk-container-id-4 div.sk-toggleable {background-color: white;}#sk-container-id-4 label.sk-toggleable__label {cursor: pointer;display: block;width: 100%;margin-bottom: 0;padding: 0.3em;box-sizing: border-box;text-align: center;}#sk-container-id-4 label.sk-toggleable__label-arrow:before {content: \"▸\";float: left;margin-right: 0.25em;color: #696969;}#sk-container-id-4 label.sk-toggleable__label-arrow:hover:before {color: black;}#sk-container-id-4 div.sk-estimator:hover label.sk-toggleable__label-arrow:before {color: black;}#sk-container-id-4 div.sk-toggleable__content {max-height: 0;max-width: 0;overflow: hidden;text-align: left;background-color: #f0f8ff;}#sk-container-id-4 div.sk-toggleable__content pre {margin: 0.2em;color: black;border-radius: 0.25em;background-color: #f0f8ff;}#sk-container-id-4 input.sk-toggleable__control:checked~div.sk-toggleable__content {max-height: 200px;max-width: 100%;overflow: auto;}#sk-container-id-4 input.sk-toggleable__control:checked~label.sk-toggleable__label-arrow:before {content: \"▾\";}#sk-container-id-4 div.sk-estimator input.sk-toggleable__control:checked~label.sk-toggleable__label {background-color: #d4ebff;}#sk-container-id-4 div.sk-label input.sk-toggleable__control:checked~label.sk-toggleable__label {background-color: #d4ebff;}#sk-container-id-4 input.sk-hidden--visually {border: 0;clip: rect(1px 1px 1px 1px);clip: rect(1px, 1px, 1px, 1px);height: 1px;margin: -1px;overflow: hidden;padding: 0;position: absolute;width: 1px;}#sk-container-id-4 div.sk-estimator {font-family: monospace;background-color: #f0f8ff;border: 1px dotted black;border-radius: 0.25em;box-sizing: border-box;margin-bottom: 0.5em;}#sk-container-id-4 div.sk-estimator:hover {background-color: #d4ebff;}#sk-container-id-4 div.sk-parallel-item::after {content: \"\";width: 100%;border-bottom: 1px solid gray;flex-grow: 1;}#sk-container-id-4 div.sk-label:hover label.sk-toggleable__label {background-color: #d4ebff;}#sk-container-id-4 div.sk-serial::before {content: \"\";position: absolute;border-left: 1px solid gray;box-sizing: border-box;top: 0;bottom: 0;left: 50%;z-index: 0;}#sk-container-id-4 div.sk-serial {display: flex;flex-direction: column;align-items: center;background-color: white;padding-right: 0.2em;padding-left: 0.2em;position: relative;}#sk-container-id-4 div.sk-item {position: relative;z-index: 1;}#sk-container-id-4 div.sk-parallel {display: flex;align-items: stretch;justify-content: center;background-color: white;position: relative;}#sk-container-id-4 div.sk-item::before, #sk-container-id-4 div.sk-parallel-item::before {content: \"\";position: absolute;border-left: 1px solid gray;box-sizing: border-box;top: 0;bottom: 0;left: 50%;z-index: -1;}#sk-container-id-4 div.sk-parallel-item {display: flex;flex-direction: column;z-index: 1;position: relative;background-color: white;}#sk-container-id-4 div.sk-parallel-item:first-child::after {align-self: flex-end;width: 50%;}#sk-container-id-4 div.sk-parallel-item:last-child::after {align-self: flex-start;width: 50%;}#sk-container-id-4 div.sk-parallel-item:only-child::after {width: 0;}#sk-container-id-4 div.sk-dashed-wrapped {border: 1px dashed gray;margin: 0 0.4em 0.5em 0.4em;box-sizing: border-box;padding-bottom: 0.4em;background-color: white;}#sk-container-id-4 div.sk-label label {font-family: monospace;font-weight: bold;display: inline-block;line-height: 1.2em;}#sk-container-id-4 div.sk-label-container {text-align: center;}#sk-container-id-4 div.sk-container {/* jupyter's `normalize.less` sets `[hidden] { display: none; }` but bootstrap.min.css set `[hidden] { display: none !important; }` so we also need the `!important` here to be able to override the default hidden behavior on the sphinx rendered scikit-learn.org. See: https://github.com/scikit-learn/scikit-learn/issues/21755 */display: inline-block !important;position: relative;}#sk-container-id-4 div.sk-text-repr-fallback {display: none;}</style><div id=\"sk-container-id-4\" class=\"sk-top-container\"><div class=\"sk-text-repr-fallback\"><pre>Pipeline(steps=[(&#x27;Scale&#x27;, StandardScaler()),\n",
       "                (&#x27;Polynomial&#x27;, PolynomialFeatures()),\n",
       "                (&#x27;Model&#x27;, LinearRegression())])</pre><b>In a Jupyter environment, please rerun this cell to show the HTML representation or trust the notebook. <br />On GitHub, the HTML representation is unable to render, please try loading this page with nbviewer.org.</b></div><div class=\"sk-container\" hidden><div class=\"sk-item sk-dashed-wrapped\"><div class=\"sk-label-container\"><div class=\"sk-label sk-toggleable\"><input class=\"sk-toggleable__control sk-hidden--visually\" id=\"sk-estimator-id-7\" type=\"checkbox\" ><label for=\"sk-estimator-id-7\" class=\"sk-toggleable__label sk-toggleable__label-arrow\">Pipeline</label><div class=\"sk-toggleable__content\"><pre>Pipeline(steps=[(&#x27;Scale&#x27;, StandardScaler()),\n",
       "                (&#x27;Polynomial&#x27;, PolynomialFeatures()),\n",
       "                (&#x27;Model&#x27;, LinearRegression())])</pre></div></div></div><div class=\"sk-serial\"><div class=\"sk-item\"><div class=\"sk-estimator sk-toggleable\"><input class=\"sk-toggleable__control sk-hidden--visually\" id=\"sk-estimator-id-8\" type=\"checkbox\" ><label for=\"sk-estimator-id-8\" class=\"sk-toggleable__label sk-toggleable__label-arrow\">StandardScaler</label><div class=\"sk-toggleable__content\"><pre>StandardScaler()</pre></div></div></div><div class=\"sk-item\"><div class=\"sk-estimator sk-toggleable\"><input class=\"sk-toggleable__control sk-hidden--visually\" id=\"sk-estimator-id-9\" type=\"checkbox\" ><label for=\"sk-estimator-id-9\" class=\"sk-toggleable__label sk-toggleable__label-arrow\">PolynomialFeatures</label><div class=\"sk-toggleable__content\"><pre>PolynomialFeatures()</pre></div></div></div><div class=\"sk-item\"><div class=\"sk-estimator sk-toggleable\"><input class=\"sk-toggleable__control sk-hidden--visually\" id=\"sk-estimator-id-10\" type=\"checkbox\" ><label for=\"sk-estimator-id-10\" class=\"sk-toggleable__label sk-toggleable__label-arrow\">LinearRegression</label><div class=\"sk-toggleable__content\"><pre>LinearRegression()</pre></div></div></div></div></div></div></div>"
      ],
      "text/plain": [
       "Pipeline(steps=[('Scale', StandardScaler()),\n",
       "                ('Polynomial', PolynomialFeatures()),\n",
       "                ('Model', LinearRegression())])"
      ]
     },
     "execution_count": 28,
     "metadata": {},
     "output_type": "execute_result"
    }
   ],
   "source": [
    "pipe.fit(z, y)"
   ]
  },
  {
   "cell_type": "code",
   "execution_count": 29,
   "id": "75ea2535",
   "metadata": {},
   "outputs": [
    {
     "name": "stdout",
     "output_type": "stream",
     "text": [
      "Predicated\tActual\n",
      "\n",
      "62.875 \t 16\n",
      "45.9375 \t 40\n",
      "36.703125 \t 32\n",
      "17.234375 \t 13\n",
      "3.0 \t 1\n"
     ]
    }
   ],
   "source": [
    "yPipe = pipe.predict(z)\n",
    "\n",
    "print(\"Predicated\\tActual\\n\")\n",
    "for i in range(0, 5):\n",
    "    print(yPipe[i], \"\\t\", y[i])"
   ]
  },
  {
   "cell_type": "markdown",
   "id": "80357715",
   "metadata": {},
   "source": [
    "## MSE and R^2"
   ]
  },
  {
   "cell_type": "code",
   "execution_count": 30,
   "id": "74bd512e",
   "metadata": {},
   "outputs": [],
   "source": [
    "from sklearn.metrics import mean_squared_error\n",
    "from sklearn.metrics import r2_score"
   ]
  },
  {
   "cell_type": "code",
   "execution_count": 31,
   "id": "d19cf501",
   "metadata": {},
   "outputs": [
    {
     "name": "stdout",
     "output_type": "stream",
     "text": [
      "Simple Linear Regression\n",
      "R^2:  0.10427134653986625\n",
      "MSE:  29469.085682144967\n",
      "-----------------------------------------------------------------\n",
      "Multiple Linear Regression\n",
      "R^2:  0.6860576752943801\n",
      "MSE:  10328.566838030094\n",
      "-----------------------------------------------------------------\n",
      "Simple Polynomail Regression\n",
      "R^2:  0.10662189893017726\n",
      "MSE:  29391.753524104843\n",
      "-----------------------------------------------------------------\n",
      "Mulitple Polynomial Regression\n",
      "R^2:  0.9277897902196786\n",
      "MSE:  2375.6847019705897\n"
     ]
    }
   ],
   "source": [
    "print(\"Simple Linear Regression\")\n",
    "print(\"R^2: \", r2_score(dfHour['cnt'], yHat))\n",
    "print(\"MSE: \", mean_squared_error(dfHour['cnt'], yHat))\n",
    "\n",
    "print(\"-----------------------------------------------------------------\")\n",
    "\n",
    "print(\"Multiple Linear Regression\")\n",
    "print(\"R^2: \", r2_score(dfHour['cnt'], yHatMulti))\n",
    "print(\"MSE: \", mean_squared_error(dfHour['cnt'], yHatMulti))\n",
    "\n",
    "print(\"-----------------------------------------------------------------\")\n",
    "\n",
    "print(\"Simple Polynomail Regression\")\n",
    "print(\"R^2: \", r2_score(dfHour['cnt'], yPolyPred))\n",
    "print(\"MSE: \", mean_squared_error(dfHour['cnt'], yPolyPred))\n",
    "\n",
    "print(\"-----------------------------------------------------------------\")\n",
    "\n",
    "print(\"Mulitple Polynomial Regression\")\n",
    "print(\"R^2: \", r2_score(dfHour['cnt'], yPipe))\n",
    "print(\"MSE: \", mean_squared_error(dfHour['cnt'], yPipe))"
   ]
  },
  {
   "cell_type": "markdown",
   "id": "0285d214",
   "metadata": {},
   "source": [
    "# <center> Day </center>"
   ]
  },
  {
   "cell_type": "code",
   "execution_count": 32,
   "id": "e328aa74",
   "metadata": {},
   "outputs": [
    {
     "data": {
      "text/html": [
       "<div>\n",
       "<style scoped>\n",
       "    .dataframe tbody tr th:only-of-type {\n",
       "        vertical-align: middle;\n",
       "    }\n",
       "\n",
       "    .dataframe tbody tr th {\n",
       "        vertical-align: top;\n",
       "    }\n",
       "\n",
       "    .dataframe thead th {\n",
       "        text-align: right;\n",
       "    }\n",
       "</style>\n",
       "<table border=\"1\" class=\"dataframe\">\n",
       "  <thead>\n",
       "    <tr style=\"text-align: right;\">\n",
       "      <th></th>\n",
       "      <th>instant</th>\n",
       "      <th>dteday</th>\n",
       "      <th>season</th>\n",
       "      <th>yr</th>\n",
       "      <th>mnth</th>\n",
       "      <th>holiday</th>\n",
       "      <th>weekday</th>\n",
       "      <th>workingday</th>\n",
       "      <th>weathersit</th>\n",
       "      <th>temp</th>\n",
       "      <th>atemp</th>\n",
       "      <th>hum</th>\n",
       "      <th>windspeed</th>\n",
       "      <th>casual</th>\n",
       "      <th>registered</th>\n",
       "      <th>cnt</th>\n",
       "    </tr>\n",
       "  </thead>\n",
       "  <tbody>\n",
       "    <tr>\n",
       "      <th>0</th>\n",
       "      <td>1</td>\n",
       "      <td>2011-01-01</td>\n",
       "      <td>1</td>\n",
       "      <td>0</td>\n",
       "      <td>1</td>\n",
       "      <td>0</td>\n",
       "      <td>6</td>\n",
       "      <td>0</td>\n",
       "      <td>2</td>\n",
       "      <td>0.344167</td>\n",
       "      <td>0.363625</td>\n",
       "      <td>0.805833</td>\n",
       "      <td>0.160446</td>\n",
       "      <td>331</td>\n",
       "      <td>654</td>\n",
       "      <td>985</td>\n",
       "    </tr>\n",
       "    <tr>\n",
       "      <th>1</th>\n",
       "      <td>2</td>\n",
       "      <td>2011-01-02</td>\n",
       "      <td>1</td>\n",
       "      <td>0</td>\n",
       "      <td>1</td>\n",
       "      <td>0</td>\n",
       "      <td>0</td>\n",
       "      <td>0</td>\n",
       "      <td>2</td>\n",
       "      <td>0.363478</td>\n",
       "      <td>0.353739</td>\n",
       "      <td>0.696087</td>\n",
       "      <td>0.248539</td>\n",
       "      <td>131</td>\n",
       "      <td>670</td>\n",
       "      <td>801</td>\n",
       "    </tr>\n",
       "    <tr>\n",
       "      <th>2</th>\n",
       "      <td>3</td>\n",
       "      <td>2011-01-03</td>\n",
       "      <td>1</td>\n",
       "      <td>0</td>\n",
       "      <td>1</td>\n",
       "      <td>0</td>\n",
       "      <td>1</td>\n",
       "      <td>1</td>\n",
       "      <td>1</td>\n",
       "      <td>0.196364</td>\n",
       "      <td>0.189405</td>\n",
       "      <td>0.437273</td>\n",
       "      <td>0.248309</td>\n",
       "      <td>120</td>\n",
       "      <td>1229</td>\n",
       "      <td>1349</td>\n",
       "    </tr>\n",
       "    <tr>\n",
       "      <th>3</th>\n",
       "      <td>4</td>\n",
       "      <td>2011-01-04</td>\n",
       "      <td>1</td>\n",
       "      <td>0</td>\n",
       "      <td>1</td>\n",
       "      <td>0</td>\n",
       "      <td>2</td>\n",
       "      <td>1</td>\n",
       "      <td>1</td>\n",
       "      <td>0.200000</td>\n",
       "      <td>0.212122</td>\n",
       "      <td>0.590435</td>\n",
       "      <td>0.160296</td>\n",
       "      <td>108</td>\n",
       "      <td>1454</td>\n",
       "      <td>1562</td>\n",
       "    </tr>\n",
       "    <tr>\n",
       "      <th>4</th>\n",
       "      <td>5</td>\n",
       "      <td>2011-01-05</td>\n",
       "      <td>1</td>\n",
       "      <td>0</td>\n",
       "      <td>1</td>\n",
       "      <td>0</td>\n",
       "      <td>3</td>\n",
       "      <td>1</td>\n",
       "      <td>1</td>\n",
       "      <td>0.226957</td>\n",
       "      <td>0.229270</td>\n",
       "      <td>0.436957</td>\n",
       "      <td>0.186900</td>\n",
       "      <td>82</td>\n",
       "      <td>1518</td>\n",
       "      <td>1600</td>\n",
       "    </tr>\n",
       "  </tbody>\n",
       "</table>\n",
       "</div>"
      ],
      "text/plain": [
       "   instant      dteday  season  yr  mnth  holiday  weekday  workingday  \\\n",
       "0        1  2011-01-01       1   0     1        0        6           0   \n",
       "1        2  2011-01-02       1   0     1        0        0           0   \n",
       "2        3  2011-01-03       1   0     1        0        1           1   \n",
       "3        4  2011-01-04       1   0     1        0        2           1   \n",
       "4        5  2011-01-05       1   0     1        0        3           1   \n",
       "\n",
       "   weathersit      temp     atemp       hum  windspeed  casual  registered  \\\n",
       "0           2  0.344167  0.363625  0.805833   0.160446     331         654   \n",
       "1           2  0.363478  0.353739  0.696087   0.248539     131         670   \n",
       "2           1  0.196364  0.189405  0.437273   0.248309     120        1229   \n",
       "3           1  0.200000  0.212122  0.590435   0.160296     108        1454   \n",
       "4           1  0.226957  0.229270  0.436957   0.186900      82        1518   \n",
       "\n",
       "    cnt  \n",
       "0   985  \n",
       "1   801  \n",
       "2  1349  \n",
       "3  1562  \n",
       "4  1600  "
      ]
     },
     "execution_count": 32,
     "metadata": {},
     "output_type": "execute_result"
    }
   ],
   "source": [
    "dfDay.head()"
   ]
  },
  {
   "cell_type": "code",
   "execution_count": 33,
   "id": "5b88fd5c",
   "metadata": {},
   "outputs": [
    {
     "name": "stdout",
     "output_type": "stream",
     "text": [
      "<class 'pandas.core.frame.DataFrame'>\n",
      "RangeIndex: 731 entries, 0 to 730\n",
      "Data columns (total 16 columns):\n",
      " #   Column      Non-Null Count  Dtype  \n",
      "---  ------      --------------  -----  \n",
      " 0   instant     731 non-null    int64  \n",
      " 1   dteday      731 non-null    object \n",
      " 2   season      731 non-null    int64  \n",
      " 3   yr          731 non-null    int64  \n",
      " 4   mnth        731 non-null    int64  \n",
      " 5   holiday     731 non-null    int64  \n",
      " 6   weekday     731 non-null    int64  \n",
      " 7   workingday  731 non-null    int64  \n",
      " 8   weathersit  731 non-null    int64  \n",
      " 9   temp        731 non-null    float64\n",
      " 10  atemp       731 non-null    float64\n",
      " 11  hum         731 non-null    float64\n",
      " 12  windspeed   731 non-null    float64\n",
      " 13  casual      731 non-null    int64  \n",
      " 14  registered  731 non-null    int64  \n",
      " 15  cnt         731 non-null    int64  \n",
      "dtypes: float64(4), int64(11), object(1)\n",
      "memory usage: 91.5+ KB\n"
     ]
    }
   ],
   "source": [
    "dfDay.info()"
   ]
  },
  {
   "cell_type": "code",
   "execution_count": 34,
   "id": "df865a8f",
   "metadata": {},
   "outputs": [],
   "source": [
    "dfDay[\"season\"].replace(1, \"springer\", inplace=True)\n",
    "dfDay[\"season\"].replace(2, \"summer\", inplace=True)\n",
    "dfDay[\"season\"].replace(3, \"fall\", inplace=True)\n",
    "dfDay[\"season\"].replace(4, \"winter\", inplace=True)\n",
    "\n",
    "dfDay[\"yr\"].replace(0, \"2011\", inplace=True)\n",
    "dfDay[\"yr\"].replace(1, \"2012\", inplace=True)\n",
    "\n",
    "dfDay[\"mnth\"].replace(1, \"Jan\", inplace=True)\n",
    "dfDay[\"mnth\"].replace(2, \"Feb\", inplace=True)\n",
    "dfDay[\"mnth\"].replace(3, \"Mar\", inplace=True)\n",
    "dfDay[\"mnth\"].replace(4, \"Apr\", inplace=True)\n",
    "dfDay[\"mnth\"].replace(5, \"May\", inplace=True)\n",
    "dfDay[\"mnth\"].replace(6, \"Jun\", inplace=True)\n",
    "dfDay[\"mnth\"].replace(7, \"Jul\", inplace=True)\n",
    "dfDay[\"mnth\"].replace(8, \"Aug\", inplace=True)\n",
    "dfDay[\"mnth\"].replace(9, \"Sept\", inplace=True)\n",
    "dfDay[\"mnth\"].replace(10, \"Oct\", inplace=True)\n",
    "dfDay[\"mnth\"].replace(11, \"Nov\", inplace=True)\n",
    "dfDay[\"mnth\"].replace(12, \"Dec\", inplace=True)\n",
    "\n",
    "dfDay[\"holiday\"].replace(0, \"no\", inplace=True)\n",
    "dfDay[\"holiday\"].replace(1, \"yes\", inplace=True)\n",
    "\n",
    "dfDay[\"weekday\"].replace(0, \"Mon\", inplace=True)\n",
    "dfDay[\"weekday\"].replace(1, \"Tue\", inplace=True)\n",
    "dfDay[\"weekday\"].replace(2, \"Wed\", inplace=True)\n",
    "dfDay[\"weekday\"].replace(3, \"Thur\", inplace=True)\n",
    "dfDay[\"weekday\"].replace(4, \"Fri\", inplace=True)\n",
    "dfDay[\"weekday\"].replace(5, \"Sat\", inplace=True)\n",
    "dfDay[\"weekday\"].replace(6, \"Sun\", inplace=True)\n",
    "\n",
    "dfDay[\"workingday\"].replace(1, \"no\", inplace=True)\n",
    "dfDay[\"workingday\"].replace(2, \"yes\", inplace=True)\n",
    "\n",
    "dfDay[\"weathersit\"] = dfDay[\"weathersit\"].astype(\"object\")"
   ]
  },
  {
   "cell_type": "code",
   "execution_count": 35,
   "id": "12c6aced",
   "metadata": {},
   "outputs": [
    {
     "name": "stdout",
     "output_type": "stream",
     "text": [
      "<class 'pandas.core.frame.DataFrame'>\n",
      "RangeIndex: 731 entries, 0 to 730\n",
      "Data columns (total 16 columns):\n",
      " #   Column      Non-Null Count  Dtype  \n",
      "---  ------      --------------  -----  \n",
      " 0   instant     731 non-null    int64  \n",
      " 1   dteday      731 non-null    object \n",
      " 2   season      731 non-null    object \n",
      " 3   yr          731 non-null    object \n",
      " 4   mnth        731 non-null    object \n",
      " 5   holiday     731 non-null    object \n",
      " 6   weekday     731 non-null    object \n",
      " 7   workingday  731 non-null    object \n",
      " 8   weathersit  731 non-null    object \n",
      " 9   temp        731 non-null    float64\n",
      " 10  atemp       731 non-null    float64\n",
      " 11  hum         731 non-null    float64\n",
      " 12  windspeed   731 non-null    float64\n",
      " 13  casual      731 non-null    int64  \n",
      " 14  registered  731 non-null    int64  \n",
      " 15  cnt         731 non-null    int64  \n",
      "dtypes: float64(4), int64(4), object(8)\n",
      "memory usage: 91.5+ KB\n"
     ]
    }
   ],
   "source": [
    "dfDay.info()"
   ]
  },
  {
   "cell_type": "code",
   "execution_count": 36,
   "id": "a1076c01",
   "metadata": {},
   "outputs": [
    {
     "name": "stdout",
     "output_type": "stream",
     "text": [
      "<class 'pandas.core.frame.DataFrame'>\n",
      "RangeIndex: 731 entries, 0 to 730\n",
      "Data columns (total 12 columns):\n",
      " #   Column      Non-Null Count  Dtype  \n",
      "---  ------      --------------  -----  \n",
      " 0   season      731 non-null    object \n",
      " 1   yr          731 non-null    object \n",
      " 2   mnth        731 non-null    object \n",
      " 3   holiday     731 non-null    object \n",
      " 4   weekday     731 non-null    object \n",
      " 5   workingday  731 non-null    object \n",
      " 6   weathersit  731 non-null    object \n",
      " 7   temp        731 non-null    float64\n",
      " 8   atemp       731 non-null    float64\n",
      " 9   hum         731 non-null    float64\n",
      " 10  windspeed   731 non-null    float64\n",
      " 11  cnt         731 non-null    int64  \n",
      "dtypes: float64(4), int64(1), object(7)\n",
      "memory usage: 68.7+ KB\n"
     ]
    }
   ],
   "source": [
    "dfDay = dfDay[[\"season\", \"yr\", \"mnth\", \"holiday\", \"weekday\", \"workingday\", \"weathersit\", \"temp\", \"atemp\", \"hum\", \"windspeed\", \"cnt\"]]\n",
    "\n",
    "dfDay.info()"
   ]
  },
  {
   "cell_type": "markdown",
   "id": "7d64b27f",
   "metadata": {},
   "source": [
    "### Feature extraction using correlation"
   ]
  },
  {
   "cell_type": "markdown",
   "id": "c0810c0f",
   "metadata": {},
   "source": [
    "#### For Numerical"
   ]
  },
  {
   "cell_type": "code",
   "execution_count": 37,
   "id": "3df1f4ef",
   "metadata": {},
   "outputs": [],
   "source": [
    "from scipy.stats import pearsonr"
   ]
  },
  {
   "cell_type": "code",
   "execution_count": 38,
   "id": "36ed8d83",
   "metadata": {},
   "outputs": [],
   "source": [
    "numLst = [\"temp\", \"atemp\", \"hum\", \"windspeed\"]\n",
    "tar = \"cnt\"\n",
    "resLst = []"
   ]
  },
  {
   "cell_type": "code",
   "execution_count": 39,
   "id": "79b2e403",
   "metadata": {},
   "outputs": [],
   "source": [
    "for nl in numLst:\n",
    "    corr, _ = pearsonr(dfDay[tar], dfDay[nl])\n",
    "    \n",
    "    if corr > 0.5 or corr < -0.5:\n",
    "        resLst.append(\n",
    "            [nl, corr, \"Success\"]\n",
    "        )\n",
    "        \n",
    "    else:\n",
    "        resLst.append(\n",
    "            [nl, corr, \"Failed\"]\n",
    "        )"
   ]
  },
  {
   "cell_type": "code",
   "execution_count": 40,
   "id": "d7119a44",
   "metadata": {},
   "outputs": [
    {
     "data": {
      "text/html": [
       "<div>\n",
       "<style scoped>\n",
       "    .dataframe tbody tr th:only-of-type {\n",
       "        vertical-align: middle;\n",
       "    }\n",
       "\n",
       "    .dataframe tbody tr th {\n",
       "        vertical-align: top;\n",
       "    }\n",
       "\n",
       "    .dataframe thead th {\n",
       "        text-align: right;\n",
       "    }\n",
       "</style>\n",
       "<table border=\"1\" class=\"dataframe\">\n",
       "  <thead>\n",
       "    <tr style=\"text-align: right;\">\n",
       "      <th></th>\n",
       "      <th>Attribute</th>\n",
       "      <th>Correlation</th>\n",
       "      <th>Status</th>\n",
       "    </tr>\n",
       "  </thead>\n",
       "  <tbody>\n",
       "    <tr>\n",
       "      <th>0</th>\n",
       "      <td>temp</td>\n",
       "      <td>0.627494</td>\n",
       "      <td>Success</td>\n",
       "    </tr>\n",
       "    <tr>\n",
       "      <th>1</th>\n",
       "      <td>atemp</td>\n",
       "      <td>0.631066</td>\n",
       "      <td>Success</td>\n",
       "    </tr>\n",
       "    <tr>\n",
       "      <th>2</th>\n",
       "      <td>hum</td>\n",
       "      <td>-0.100659</td>\n",
       "      <td>Failed</td>\n",
       "    </tr>\n",
       "    <tr>\n",
       "      <th>3</th>\n",
       "      <td>windspeed</td>\n",
       "      <td>-0.234545</td>\n",
       "      <td>Failed</td>\n",
       "    </tr>\n",
       "  </tbody>\n",
       "</table>\n",
       "</div>"
      ],
      "text/plain": [
       "   Attribute  Correlation   Status\n",
       "0       temp     0.627494  Success\n",
       "1      atemp     0.631066  Success\n",
       "2        hum    -0.100659   Failed\n",
       "3  windspeed    -0.234545   Failed"
      ]
     },
     "execution_count": 40,
     "metadata": {},
     "output_type": "execute_result"
    }
   ],
   "source": [
    "resLst = pd.DataFrame(resLst)\n",
    "resLst.columns = [\"Attribute\", \"Correlation\", \"Status\"]\n",
    "\n",
    "resLst"
   ]
  },
  {
   "cell_type": "markdown",
   "id": "31ea02bb",
   "metadata": {},
   "source": [
    "#### For Categorical"
   ]
  },
  {
   "cell_type": "code",
   "execution_count": 41,
   "id": "40555d46",
   "metadata": {},
   "outputs": [],
   "source": [
    "from scipy import stats"
   ]
  },
  {
   "cell_type": "code",
   "execution_count": 42,
   "id": "2d9cc86b",
   "metadata": {},
   "outputs": [],
   "source": [
    "catLst = [\"season\", \"yr\", \"mnth\", \"holiday\", \"weekday\", \"workingday\", \"weathersit\"]\n",
    "tar = \"cnt\"\n",
    "resLst = []"
   ]
  },
  {
   "cell_type": "code",
   "execution_count": 43,
   "id": "393f10a5",
   "metadata": {},
   "outputs": [],
   "source": [
    "for lol in catLst:\n",
    "    res = [lol]\n",
    "    groupedTest = dfDay[[lol, tar]].groupby([lol])\n",
    "    unique_ = dfDay[lol].unique()\n",
    "    \n",
    "    f_val, p_val = stats.f_oneway(\n",
    "        *(groupedTest.get_group(value)[tar] for value in unique_)\n",
    "    )\n",
    "    \n",
    "    res.append(f_val)\n",
    "    res.append(p_val)\n",
    "    \n",
    "    dfn = len(groupedTest) - 1\n",
    "    dfd = 0\n",
    "    for value in unique_:\n",
    "        dfd += groupedTest.get_group(value)[tar].shape[0]\n",
    "        \n",
    "    res.append(\n",
    "        stats.f.ppf(q=1-0.05, dfn=dfn, dfd=dfd)\n",
    "    )\n",
    "    \n",
    "    resLst.append(res)"
   ]
  },
  {
   "cell_type": "code",
   "execution_count": 44,
   "id": "311df909",
   "metadata": {},
   "outputs": [
    {
     "data": {
      "text/html": [
       "<div>\n",
       "<style scoped>\n",
       "    .dataframe tbody tr th:only-of-type {\n",
       "        vertical-align: middle;\n",
       "    }\n",
       "\n",
       "    .dataframe tbody tr th {\n",
       "        vertical-align: top;\n",
       "    }\n",
       "\n",
       "    .dataframe thead th {\n",
       "        text-align: right;\n",
       "    }\n",
       "</style>\n",
       "<table border=\"1\" class=\"dataframe\">\n",
       "  <thead>\n",
       "    <tr style=\"text-align: right;\">\n",
       "      <th></th>\n",
       "      <th>Attribute</th>\n",
       "      <th>F-test</th>\n",
       "      <th>P-value</th>\n",
       "      <th>Result</th>\n",
       "    </tr>\n",
       "  </thead>\n",
       "  <tbody>\n",
       "    <tr>\n",
       "      <th>0</th>\n",
       "      <td>season</td>\n",
       "      <td>128.769622</td>\n",
       "      <td>6.720391e-67</td>\n",
       "      <td>2.617086</td>\n",
       "    </tr>\n",
       "    <tr>\n",
       "      <th>1</th>\n",
       "      <td>yr</td>\n",
       "      <td>344.890586</td>\n",
       "      <td>2.483540e-63</td>\n",
       "      <td>3.854211</td>\n",
       "    </tr>\n",
       "    <tr>\n",
       "      <th>2</th>\n",
       "      <td>mnth</td>\n",
       "      <td>41.903703</td>\n",
       "      <td>4.251077e-70</td>\n",
       "      <td>1.801738</td>\n",
       "    </tr>\n",
       "    <tr>\n",
       "      <th>3</th>\n",
       "      <td>holiday</td>\n",
       "      <td>3.421441</td>\n",
       "      <td>6.475936e-02</td>\n",
       "      <td>3.854211</td>\n",
       "    </tr>\n",
       "    <tr>\n",
       "      <th>4</th>\n",
       "      <td>weekday</td>\n",
       "      <td>0.782862</td>\n",
       "      <td>5.834941e-01</td>\n",
       "      <td>2.110965</td>\n",
       "    </tr>\n",
       "    <tr>\n",
       "      <th>5</th>\n",
       "      <td>workingday</td>\n",
       "      <td>2.736742</td>\n",
       "      <td>9.849496e-02</td>\n",
       "      <td>3.854211</td>\n",
       "    </tr>\n",
       "    <tr>\n",
       "      <th>6</th>\n",
       "      <td>weathersit</td>\n",
       "      <td>40.066045</td>\n",
       "      <td>3.106317e-17</td>\n",
       "      <td>3.008043</td>\n",
       "    </tr>\n",
       "  </tbody>\n",
       "</table>\n",
       "</div>"
      ],
      "text/plain": [
       "    Attribute      F-test       P-value    Result\n",
       "0      season  128.769622  6.720391e-67  2.617086\n",
       "1          yr  344.890586  2.483540e-63  3.854211\n",
       "2        mnth   41.903703  4.251077e-70  1.801738\n",
       "3     holiday    3.421441  6.475936e-02  3.854211\n",
       "4     weekday    0.782862  5.834941e-01  2.110965\n",
       "5  workingday    2.736742  9.849496e-02  3.854211\n",
       "6  weathersit   40.066045  3.106317e-17  3.008043"
      ]
     },
     "execution_count": 44,
     "metadata": {},
     "output_type": "execute_result"
    }
   ],
   "source": [
    "resLst = pd.DataFrame(resLst)\n",
    "resLst.columns = [\"Attribute\", \"F-test\", \"P-value\", \"Result\"]\n",
    "\n",
    "resLst"
   ]
  },
  {
   "cell_type": "markdown",
   "id": "0f7a13da",
   "metadata": {},
   "source": [
    "### Do Transformation"
   ]
  },
  {
   "cell_type": "code",
   "execution_count": 45,
   "id": "b3ace761",
   "metadata": {},
   "outputs": [
    {
     "name": "stdout",
     "output_type": "stream",
     "text": [
      "<class 'pandas.core.frame.DataFrame'>\n",
      "RangeIndex: 731 entries, 0 to 730\n",
      "Data columns (total 37 columns):\n",
      " #   Column           Non-Null Count  Dtype  \n",
      "---  ------           --------------  -----  \n",
      " 0   temp             731 non-null    float64\n",
      " 1   atemp            731 non-null    float64\n",
      " 2   hum              731 non-null    float64\n",
      " 3   windspeed        731 non-null    float64\n",
      " 4   cnt              731 non-null    int64  \n",
      " 5   season_fall      731 non-null    uint8  \n",
      " 6   season_springer  731 non-null    uint8  \n",
      " 7   season_summer    731 non-null    uint8  \n",
      " 8   season_winter    731 non-null    uint8  \n",
      " 9   yr_2011          731 non-null    uint8  \n",
      " 10  yr_2012          731 non-null    uint8  \n",
      " 11  mnth_Apr         731 non-null    uint8  \n",
      " 12  mnth_Aug         731 non-null    uint8  \n",
      " 13  mnth_Dec         731 non-null    uint8  \n",
      " 14  mnth_Feb         731 non-null    uint8  \n",
      " 15  mnth_Jan         731 non-null    uint8  \n",
      " 16  mnth_Jul         731 non-null    uint8  \n",
      " 17  mnth_Jun         731 non-null    uint8  \n",
      " 18  mnth_Mar         731 non-null    uint8  \n",
      " 19  mnth_May         731 non-null    uint8  \n",
      " 20  mnth_Nov         731 non-null    uint8  \n",
      " 21  mnth_Oct         731 non-null    uint8  \n",
      " 22  mnth_Sept        731 non-null    uint8  \n",
      " 23  holiday_no       731 non-null    uint8  \n",
      " 24  holiday_yes      731 non-null    uint8  \n",
      " 25  weekday_Fri      731 non-null    uint8  \n",
      " 26  weekday_Mon      731 non-null    uint8  \n",
      " 27  weekday_Sat      731 non-null    uint8  \n",
      " 28  weekday_Sun      731 non-null    uint8  \n",
      " 29  weekday_Thur     731 non-null    uint8  \n",
      " 30  weekday_Tue      731 non-null    uint8  \n",
      " 31  weekday_Wed      731 non-null    uint8  \n",
      " 32  workingday_0     731 non-null    uint8  \n",
      " 33  workingday_no    731 non-null    uint8  \n",
      " 34  weathersit_1     731 non-null    uint8  \n",
      " 35  weathersit_2     731 non-null    uint8  \n",
      " 36  weathersit_3     731 non-null    uint8  \n",
      "dtypes: float64(4), int64(1), uint8(32)\n",
      "memory usage: 51.5 KB\n"
     ]
    },
    {
     "name": "stderr",
     "output_type": "stream",
     "text": [
      "/home/cskushal18/.local/lib/python3.10/site-packages/pandas/core/algorithms.py:798: FutureWarning: In a future version, the Index constructor will not infer numeric dtypes when passed object-dtype sequences (matching Series behavior)\n",
      "  uniques = Index(uniques)\n"
     ]
    }
   ],
   "source": [
    "dfDay = pd.get_dummies(dfDay)\n",
    "\n",
    "dfDay.info()"
   ]
  },
  {
   "cell_type": "markdown",
   "id": "a4673dd1",
   "metadata": {},
   "source": [
    "# Simple Linear Regression"
   ]
  },
  {
   "cell_type": "code",
   "execution_count": 46,
   "id": "55421a75",
   "metadata": {},
   "outputs": [
    {
     "data": {
      "text/html": [
       "<style>#sk-container-id-5 {color: black;background-color: white;}#sk-container-id-5 pre{padding: 0;}#sk-container-id-5 div.sk-toggleable {background-color: white;}#sk-container-id-5 label.sk-toggleable__label {cursor: pointer;display: block;width: 100%;margin-bottom: 0;padding: 0.3em;box-sizing: border-box;text-align: center;}#sk-container-id-5 label.sk-toggleable__label-arrow:before {content: \"▸\";float: left;margin-right: 0.25em;color: #696969;}#sk-container-id-5 label.sk-toggleable__label-arrow:hover:before {color: black;}#sk-container-id-5 div.sk-estimator:hover label.sk-toggleable__label-arrow:before {color: black;}#sk-container-id-5 div.sk-toggleable__content {max-height: 0;max-width: 0;overflow: hidden;text-align: left;background-color: #f0f8ff;}#sk-container-id-5 div.sk-toggleable__content pre {margin: 0.2em;color: black;border-radius: 0.25em;background-color: #f0f8ff;}#sk-container-id-5 input.sk-toggleable__control:checked~div.sk-toggleable__content {max-height: 200px;max-width: 100%;overflow: auto;}#sk-container-id-5 input.sk-toggleable__control:checked~label.sk-toggleable__label-arrow:before {content: \"▾\";}#sk-container-id-5 div.sk-estimator input.sk-toggleable__control:checked~label.sk-toggleable__label {background-color: #d4ebff;}#sk-container-id-5 div.sk-label input.sk-toggleable__control:checked~label.sk-toggleable__label {background-color: #d4ebff;}#sk-container-id-5 input.sk-hidden--visually {border: 0;clip: rect(1px 1px 1px 1px);clip: rect(1px, 1px, 1px, 1px);height: 1px;margin: -1px;overflow: hidden;padding: 0;position: absolute;width: 1px;}#sk-container-id-5 div.sk-estimator {font-family: monospace;background-color: #f0f8ff;border: 1px dotted black;border-radius: 0.25em;box-sizing: border-box;margin-bottom: 0.5em;}#sk-container-id-5 div.sk-estimator:hover {background-color: #d4ebff;}#sk-container-id-5 div.sk-parallel-item::after {content: \"\";width: 100%;border-bottom: 1px solid gray;flex-grow: 1;}#sk-container-id-5 div.sk-label:hover label.sk-toggleable__label {background-color: #d4ebff;}#sk-container-id-5 div.sk-serial::before {content: \"\";position: absolute;border-left: 1px solid gray;box-sizing: border-box;top: 0;bottom: 0;left: 50%;z-index: 0;}#sk-container-id-5 div.sk-serial {display: flex;flex-direction: column;align-items: center;background-color: white;padding-right: 0.2em;padding-left: 0.2em;position: relative;}#sk-container-id-5 div.sk-item {position: relative;z-index: 1;}#sk-container-id-5 div.sk-parallel {display: flex;align-items: stretch;justify-content: center;background-color: white;position: relative;}#sk-container-id-5 div.sk-item::before, #sk-container-id-5 div.sk-parallel-item::before {content: \"\";position: absolute;border-left: 1px solid gray;box-sizing: border-box;top: 0;bottom: 0;left: 50%;z-index: -1;}#sk-container-id-5 div.sk-parallel-item {display: flex;flex-direction: column;z-index: 1;position: relative;background-color: white;}#sk-container-id-5 div.sk-parallel-item:first-child::after {align-self: flex-end;width: 50%;}#sk-container-id-5 div.sk-parallel-item:last-child::after {align-self: flex-start;width: 50%;}#sk-container-id-5 div.sk-parallel-item:only-child::after {width: 0;}#sk-container-id-5 div.sk-dashed-wrapped {border: 1px dashed gray;margin: 0 0.4em 0.5em 0.4em;box-sizing: border-box;padding-bottom: 0.4em;background-color: white;}#sk-container-id-5 div.sk-label label {font-family: monospace;font-weight: bold;display: inline-block;line-height: 1.2em;}#sk-container-id-5 div.sk-label-container {text-align: center;}#sk-container-id-5 div.sk-container {/* jupyter's `normalize.less` sets `[hidden] { display: none; }` but bootstrap.min.css set `[hidden] { display: none !important; }` so we also need the `!important` here to be able to override the default hidden behavior on the sphinx rendered scikit-learn.org. See: https://github.com/scikit-learn/scikit-learn/issues/21755 */display: inline-block !important;position: relative;}#sk-container-id-5 div.sk-text-repr-fallback {display: none;}</style><div id=\"sk-container-id-5\" class=\"sk-top-container\"><div class=\"sk-text-repr-fallback\"><pre>LinearRegression()</pre><b>In a Jupyter environment, please rerun this cell to show the HTML representation or trust the notebook. <br />On GitHub, the HTML representation is unable to render, please try loading this page with nbviewer.org.</b></div><div class=\"sk-container\" hidden><div class=\"sk-item\"><div class=\"sk-estimator sk-toggleable\"><input class=\"sk-toggleable__control sk-hidden--visually\" id=\"sk-estimator-id-11\" type=\"checkbox\" checked><label for=\"sk-estimator-id-11\" class=\"sk-toggleable__label sk-toggleable__label-arrow\">LinearRegression</label><div class=\"sk-toggleable__content\"><pre>LinearRegression()</pre></div></div></div></div></div>"
      ],
      "text/plain": [
       "LinearRegression()"
      ]
     },
     "execution_count": 46,
     "metadata": {},
     "output_type": "execute_result"
    }
   ],
   "source": [
    "from sklearn.linear_model import LinearRegression\n",
    "\n",
    "lm = LinearRegression()\n",
    "\n",
    "x = dfDay[['hum']]\n",
    "y = dfDay['cnt']\n",
    "\n",
    "lm.fit(x, y)"
   ]
  },
  {
   "cell_type": "code",
   "execution_count": 47,
   "id": "aa2ef7af",
   "metadata": {},
   "outputs": [
    {
     "name": "stdout",
     "output_type": "stream",
     "text": [
      "Intercept:  5363.98645397119  whereas, slope:  [-1369.0806579]\n"
     ]
    }
   ],
   "source": [
    "print(\"Intercept: \", lm.intercept_, \" whereas, slope: \", lm.coef_)"
   ]
  },
  {
   "cell_type": "markdown",
   "id": "d188d615",
   "metadata": {},
   "source": [
    "Thus, final exteimated model in <i> cnt = 5363.984 + (-1369.081) * hum </i>"
   ]
  },
  {
   "cell_type": "code",
   "execution_count": 48,
   "id": "f6baad25",
   "metadata": {},
   "outputs": [
    {
     "name": "stdout",
     "output_type": "stream",
     "text": [
      "Predicated\tActual\n",
      "\n",
      "4260.736080176731 \t 985\n",
      "4410.9872060582065 \t 801\n",
      "4765.32444745095 \t 1349\n",
      "4555.633315726254 \t 1562\n",
      "4765.757076938846 \t 1600\n"
     ]
    }
   ],
   "source": [
    "yHat = lm.predict(x)\n",
    "\n",
    "print(\"Predicated\\tActual\\n\")\n",
    "for i in range(0, 5):\n",
    "    print(yHat[i], \"\\t\", y[i])"
   ]
  },
  {
   "cell_type": "markdown",
   "id": "65b63bb4",
   "metadata": {},
   "source": [
    "## Multiple Linear Regression"
   ]
  },
  {
   "cell_type": "code",
   "execution_count": 49,
   "id": "5b09611d",
   "metadata": {},
   "outputs": [],
   "source": [
    "zList = []\n",
    "\n",
    "for b in list(dfDay.columns):\n",
    "    if b != 'cnt':\n",
    "        zList.append(b)\n",
    "        \n",
    "z = dfDay[[\n",
    "    *(x for x in zList)\n",
    "]]"
   ]
  },
  {
   "cell_type": "code",
   "execution_count": 50,
   "id": "44ba2e6c",
   "metadata": {},
   "outputs": [
    {
     "data": {
      "text/html": [
       "<style>#sk-container-id-6 {color: black;background-color: white;}#sk-container-id-6 pre{padding: 0;}#sk-container-id-6 div.sk-toggleable {background-color: white;}#sk-container-id-6 label.sk-toggleable__label {cursor: pointer;display: block;width: 100%;margin-bottom: 0;padding: 0.3em;box-sizing: border-box;text-align: center;}#sk-container-id-6 label.sk-toggleable__label-arrow:before {content: \"▸\";float: left;margin-right: 0.25em;color: #696969;}#sk-container-id-6 label.sk-toggleable__label-arrow:hover:before {color: black;}#sk-container-id-6 div.sk-estimator:hover label.sk-toggleable__label-arrow:before {color: black;}#sk-container-id-6 div.sk-toggleable__content {max-height: 0;max-width: 0;overflow: hidden;text-align: left;background-color: #f0f8ff;}#sk-container-id-6 div.sk-toggleable__content pre {margin: 0.2em;color: black;border-radius: 0.25em;background-color: #f0f8ff;}#sk-container-id-6 input.sk-toggleable__control:checked~div.sk-toggleable__content {max-height: 200px;max-width: 100%;overflow: auto;}#sk-container-id-6 input.sk-toggleable__control:checked~label.sk-toggleable__label-arrow:before {content: \"▾\";}#sk-container-id-6 div.sk-estimator input.sk-toggleable__control:checked~label.sk-toggleable__label {background-color: #d4ebff;}#sk-container-id-6 div.sk-label input.sk-toggleable__control:checked~label.sk-toggleable__label {background-color: #d4ebff;}#sk-container-id-6 input.sk-hidden--visually {border: 0;clip: rect(1px 1px 1px 1px);clip: rect(1px, 1px, 1px, 1px);height: 1px;margin: -1px;overflow: hidden;padding: 0;position: absolute;width: 1px;}#sk-container-id-6 div.sk-estimator {font-family: monospace;background-color: #f0f8ff;border: 1px dotted black;border-radius: 0.25em;box-sizing: border-box;margin-bottom: 0.5em;}#sk-container-id-6 div.sk-estimator:hover {background-color: #d4ebff;}#sk-container-id-6 div.sk-parallel-item::after {content: \"\";width: 100%;border-bottom: 1px solid gray;flex-grow: 1;}#sk-container-id-6 div.sk-label:hover label.sk-toggleable__label {background-color: #d4ebff;}#sk-container-id-6 div.sk-serial::before {content: \"\";position: absolute;border-left: 1px solid gray;box-sizing: border-box;top: 0;bottom: 0;left: 50%;z-index: 0;}#sk-container-id-6 div.sk-serial {display: flex;flex-direction: column;align-items: center;background-color: white;padding-right: 0.2em;padding-left: 0.2em;position: relative;}#sk-container-id-6 div.sk-item {position: relative;z-index: 1;}#sk-container-id-6 div.sk-parallel {display: flex;align-items: stretch;justify-content: center;background-color: white;position: relative;}#sk-container-id-6 div.sk-item::before, #sk-container-id-6 div.sk-parallel-item::before {content: \"\";position: absolute;border-left: 1px solid gray;box-sizing: border-box;top: 0;bottom: 0;left: 50%;z-index: -1;}#sk-container-id-6 div.sk-parallel-item {display: flex;flex-direction: column;z-index: 1;position: relative;background-color: white;}#sk-container-id-6 div.sk-parallel-item:first-child::after {align-self: flex-end;width: 50%;}#sk-container-id-6 div.sk-parallel-item:last-child::after {align-self: flex-start;width: 50%;}#sk-container-id-6 div.sk-parallel-item:only-child::after {width: 0;}#sk-container-id-6 div.sk-dashed-wrapped {border: 1px dashed gray;margin: 0 0.4em 0.5em 0.4em;box-sizing: border-box;padding-bottom: 0.4em;background-color: white;}#sk-container-id-6 div.sk-label label {font-family: monospace;font-weight: bold;display: inline-block;line-height: 1.2em;}#sk-container-id-6 div.sk-label-container {text-align: center;}#sk-container-id-6 div.sk-container {/* jupyter's `normalize.less` sets `[hidden] { display: none; }` but bootstrap.min.css set `[hidden] { display: none !important; }` so we also need the `!important` here to be able to override the default hidden behavior on the sphinx rendered scikit-learn.org. See: https://github.com/scikit-learn/scikit-learn/issues/21755 */display: inline-block !important;position: relative;}#sk-container-id-6 div.sk-text-repr-fallback {display: none;}</style><div id=\"sk-container-id-6\" class=\"sk-top-container\"><div class=\"sk-text-repr-fallback\"><pre>LinearRegression()</pre><b>In a Jupyter environment, please rerun this cell to show the HTML representation or trust the notebook. <br />On GitHub, the HTML representation is unable to render, please try loading this page with nbviewer.org.</b></div><div class=\"sk-container\" hidden><div class=\"sk-item\"><div class=\"sk-estimator sk-toggleable\"><input class=\"sk-toggleable__control sk-hidden--visually\" id=\"sk-estimator-id-12\" type=\"checkbox\" checked><label for=\"sk-estimator-id-12\" class=\"sk-toggleable__label sk-toggleable__label-arrow\">LinearRegression</label><div class=\"sk-toggleable__content\"><pre>LinearRegression()</pre></div></div></div></div></div>"
      ],
      "text/plain": [
       "LinearRegression()"
      ]
     },
     "execution_count": 50,
     "metadata": {},
     "output_type": "execute_result"
    }
   ],
   "source": [
    "lm = LinearRegression()\n",
    "\n",
    "lm.fit(z, dfDay['cnt'])"
   ]
  },
  {
   "cell_type": "code",
   "execution_count": 51,
   "id": "8490e561",
   "metadata": {},
   "outputs": [
    {
     "name": "stdout",
     "output_type": "stream",
     "text": [
      "Intercept:  1.3036833910440298e+17  whereas, Slopes:  [ 2.85501072e+03  1.72782865e+03 -1.47931820e+03 -2.65284467e+03\n",
      " -1.91518182e+16 -1.91518182e+16 -1.91518182e+16 -1.91518182e+16\n",
      "  1.52177425e+16  1.52177425e+16  3.38099153e+16  3.38099153e+16\n",
      "  3.38099153e+16  3.38099153e+16  3.38099153e+16  3.38099153e+16\n",
      "  3.38099153e+16  3.38099153e+16  3.38099153e+16  3.38099153e+16\n",
      "  3.38099153e+16  3.38099153e+16 -2.03213329e+16  5.48755831e+15\n",
      " -1.24399255e+17 -9.85903637e+16 -1.24399255e+17 -9.85903637e+16\n",
      " -1.24399255e+17 -1.24399255e+17 -1.24399255e+17 -2.72248498e+16\n",
      " -1.41595852e+15 -1.41076322e+16 -1.41076322e+16 -1.41076322e+16]\n"
     ]
    }
   ],
   "source": [
    "print(\"Intercept: \", lm.intercept_, \" whereas, Slopes: \", lm.coef_)"
   ]
  },
  {
   "cell_type": "code",
   "execution_count": 52,
   "id": "916fa99c",
   "metadata": {},
   "outputs": [
    {
     "name": "stdout",
     "output_type": "stream",
     "text": [
      "Predicated\tActual\n",
      "\n",
      "1472.0 \t 985\n",
      "1120.0 \t 801\n",
      "1360.0 \t 1349\n",
      "1344.0 \t 1562\n",
      "1872.0 \t 1600\n"
     ]
    }
   ],
   "source": [
    "yHatMulti = lm.predict(z)\n",
    "\n",
    "print(\"Predicated\\tActual\\n\")\n",
    "for i in range(0, 5):\n",
    "    print(yHatMulti[i], \"\\t\", y[i])"
   ]
  },
  {
   "cell_type": "markdown",
   "id": "e733403e",
   "metadata": {},
   "source": [
    "## Polynomial Regression"
   ]
  },
  {
   "cell_type": "code",
   "execution_count": 53,
   "id": "f870d81d",
   "metadata": {},
   "outputs": [
    {
     "name": "stdout",
     "output_type": "stream",
     "text": [
      "            3             2\n",
      "-1.834e+04 x + 1.374e+04 x + 3943 x + 1567\n"
     ]
    }
   ],
   "source": [
    "x = dfDay['hum']\n",
    "y = dfDay['cnt']\n",
    "\n",
    "f = np.polyfit(x, y, 3)\n",
    "p = np.poly1d(f)\n",
    "\n",
    "print(p)"
   ]
  },
  {
   "cell_type": "code",
   "execution_count": 54,
   "id": "42c799bc",
   "metadata": {},
   "outputs": [
    {
     "name": "stdout",
     "output_type": "stream",
     "text": [
      "Predicated\tActual\n",
      "\n",
      "4073.3878499938855 \t 985\n",
      "4786.2342416302245 \t 801\n",
      "4386.221909817182 \t 1349\n",
      "4912.072052323277 \t 1562\n",
      "4384.500887992885 \t 1600\n"
     ]
    }
   ],
   "source": [
    "yPolyPred = p(x)\n",
    "\n",
    "print(\"Predicated\\tActual\\n\")\n",
    "for i in range(0, 5):\n",
    "    print(yPolyPred[i], \"\\t\", y[i])"
   ]
  },
  {
   "cell_type": "markdown",
   "id": "a78bdedf",
   "metadata": {},
   "source": [
    "## Multiple Polynomial Regression"
   ]
  },
  {
   "cell_type": "code",
   "execution_count": 55,
   "id": "d010ffda",
   "metadata": {},
   "outputs": [],
   "source": [
    "from sklearn.preprocessing import PolynomialFeatures, StandardScaler\n",
    "from sklearn.pipeline import Pipeline"
   ]
  },
  {
   "cell_type": "code",
   "execution_count": 56,
   "id": "7a7d2182",
   "metadata": {},
   "outputs": [
    {
     "data": {
      "text/html": [
       "<style>#sk-container-id-7 {color: black;background-color: white;}#sk-container-id-7 pre{padding: 0;}#sk-container-id-7 div.sk-toggleable {background-color: white;}#sk-container-id-7 label.sk-toggleable__label {cursor: pointer;display: block;width: 100%;margin-bottom: 0;padding: 0.3em;box-sizing: border-box;text-align: center;}#sk-container-id-7 label.sk-toggleable__label-arrow:before {content: \"▸\";float: left;margin-right: 0.25em;color: #696969;}#sk-container-id-7 label.sk-toggleable__label-arrow:hover:before {color: black;}#sk-container-id-7 div.sk-estimator:hover label.sk-toggleable__label-arrow:before {color: black;}#sk-container-id-7 div.sk-toggleable__content {max-height: 0;max-width: 0;overflow: hidden;text-align: left;background-color: #f0f8ff;}#sk-container-id-7 div.sk-toggleable__content pre {margin: 0.2em;color: black;border-radius: 0.25em;background-color: #f0f8ff;}#sk-container-id-7 input.sk-toggleable__control:checked~div.sk-toggleable__content {max-height: 200px;max-width: 100%;overflow: auto;}#sk-container-id-7 input.sk-toggleable__control:checked~label.sk-toggleable__label-arrow:before {content: \"▾\";}#sk-container-id-7 div.sk-estimator input.sk-toggleable__control:checked~label.sk-toggleable__label {background-color: #d4ebff;}#sk-container-id-7 div.sk-label input.sk-toggleable__control:checked~label.sk-toggleable__label {background-color: #d4ebff;}#sk-container-id-7 input.sk-hidden--visually {border: 0;clip: rect(1px 1px 1px 1px);clip: rect(1px, 1px, 1px, 1px);height: 1px;margin: -1px;overflow: hidden;padding: 0;position: absolute;width: 1px;}#sk-container-id-7 div.sk-estimator {font-family: monospace;background-color: #f0f8ff;border: 1px dotted black;border-radius: 0.25em;box-sizing: border-box;margin-bottom: 0.5em;}#sk-container-id-7 div.sk-estimator:hover {background-color: #d4ebff;}#sk-container-id-7 div.sk-parallel-item::after {content: \"\";width: 100%;border-bottom: 1px solid gray;flex-grow: 1;}#sk-container-id-7 div.sk-label:hover label.sk-toggleable__label {background-color: #d4ebff;}#sk-container-id-7 div.sk-serial::before {content: \"\";position: absolute;border-left: 1px solid gray;box-sizing: border-box;top: 0;bottom: 0;left: 50%;z-index: 0;}#sk-container-id-7 div.sk-serial {display: flex;flex-direction: column;align-items: center;background-color: white;padding-right: 0.2em;padding-left: 0.2em;position: relative;}#sk-container-id-7 div.sk-item {position: relative;z-index: 1;}#sk-container-id-7 div.sk-parallel {display: flex;align-items: stretch;justify-content: center;background-color: white;position: relative;}#sk-container-id-7 div.sk-item::before, #sk-container-id-7 div.sk-parallel-item::before {content: \"\";position: absolute;border-left: 1px solid gray;box-sizing: border-box;top: 0;bottom: 0;left: 50%;z-index: -1;}#sk-container-id-7 div.sk-parallel-item {display: flex;flex-direction: column;z-index: 1;position: relative;background-color: white;}#sk-container-id-7 div.sk-parallel-item:first-child::after {align-self: flex-end;width: 50%;}#sk-container-id-7 div.sk-parallel-item:last-child::after {align-self: flex-start;width: 50%;}#sk-container-id-7 div.sk-parallel-item:only-child::after {width: 0;}#sk-container-id-7 div.sk-dashed-wrapped {border: 1px dashed gray;margin: 0 0.4em 0.5em 0.4em;box-sizing: border-box;padding-bottom: 0.4em;background-color: white;}#sk-container-id-7 div.sk-label label {font-family: monospace;font-weight: bold;display: inline-block;line-height: 1.2em;}#sk-container-id-7 div.sk-label-container {text-align: center;}#sk-container-id-7 div.sk-container {/* jupyter's `normalize.less` sets `[hidden] { display: none; }` but bootstrap.min.css set `[hidden] { display: none !important; }` so we also need the `!important` here to be able to override the default hidden behavior on the sphinx rendered scikit-learn.org. See: https://github.com/scikit-learn/scikit-learn/issues/21755 */display: inline-block !important;position: relative;}#sk-container-id-7 div.sk-text-repr-fallback {display: none;}</style><div id=\"sk-container-id-7\" class=\"sk-top-container\"><div class=\"sk-text-repr-fallback\"><pre>Pipeline(steps=[(&#x27;Scale&#x27;, StandardScaler()),\n",
       "                (&#x27;Polynomial&#x27;, PolynomialFeatures()),\n",
       "                (&#x27;Model&#x27;, LinearRegression())])</pre><b>In a Jupyter environment, please rerun this cell to show the HTML representation or trust the notebook. <br />On GitHub, the HTML representation is unable to render, please try loading this page with nbviewer.org.</b></div><div class=\"sk-container\" hidden><div class=\"sk-item sk-dashed-wrapped\"><div class=\"sk-label-container\"><div class=\"sk-label sk-toggleable\"><input class=\"sk-toggleable__control sk-hidden--visually\" id=\"sk-estimator-id-13\" type=\"checkbox\" ><label for=\"sk-estimator-id-13\" class=\"sk-toggleable__label sk-toggleable__label-arrow\">Pipeline</label><div class=\"sk-toggleable__content\"><pre>Pipeline(steps=[(&#x27;Scale&#x27;, StandardScaler()),\n",
       "                (&#x27;Polynomial&#x27;, PolynomialFeatures()),\n",
       "                (&#x27;Model&#x27;, LinearRegression())])</pre></div></div></div><div class=\"sk-serial\"><div class=\"sk-item\"><div class=\"sk-estimator sk-toggleable\"><input class=\"sk-toggleable__control sk-hidden--visually\" id=\"sk-estimator-id-14\" type=\"checkbox\" ><label for=\"sk-estimator-id-14\" class=\"sk-toggleable__label sk-toggleable__label-arrow\">StandardScaler</label><div class=\"sk-toggleable__content\"><pre>StandardScaler()</pre></div></div></div><div class=\"sk-item\"><div class=\"sk-estimator sk-toggleable\"><input class=\"sk-toggleable__control sk-hidden--visually\" id=\"sk-estimator-id-15\" type=\"checkbox\" ><label for=\"sk-estimator-id-15\" class=\"sk-toggleable__label sk-toggleable__label-arrow\">PolynomialFeatures</label><div class=\"sk-toggleable__content\"><pre>PolynomialFeatures()</pre></div></div></div><div class=\"sk-item\"><div class=\"sk-estimator sk-toggleable\"><input class=\"sk-toggleable__control sk-hidden--visually\" id=\"sk-estimator-id-16\" type=\"checkbox\" ><label for=\"sk-estimator-id-16\" class=\"sk-toggleable__label sk-toggleable__label-arrow\">LinearRegression</label><div class=\"sk-toggleable__content\"><pre>LinearRegression()</pre></div></div></div></div></div></div></div>"
      ],
      "text/plain": [
       "Pipeline(steps=[('Scale', StandardScaler()),\n",
       "                ('Polynomial', PolynomialFeatures()),\n",
       "                ('Model', LinearRegression())])"
      ]
     },
     "execution_count": 56,
     "metadata": {},
     "output_type": "execute_result"
    }
   ],
   "source": [
    "ipt = [('Scale', StandardScaler()), ('Polynomial', PolynomialFeatures(2)), ('Model', LinearRegression())]\n",
    "\n",
    "pipe = Pipeline(ipt)\n",
    "pipe"
   ]
  },
  {
   "cell_type": "code",
   "execution_count": 57,
   "id": "e8379f99",
   "metadata": {},
   "outputs": [
    {
     "data": {
      "text/html": [
       "<style>#sk-container-id-8 {color: black;background-color: white;}#sk-container-id-8 pre{padding: 0;}#sk-container-id-8 div.sk-toggleable {background-color: white;}#sk-container-id-8 label.sk-toggleable__label {cursor: pointer;display: block;width: 100%;margin-bottom: 0;padding: 0.3em;box-sizing: border-box;text-align: center;}#sk-container-id-8 label.sk-toggleable__label-arrow:before {content: \"▸\";float: left;margin-right: 0.25em;color: #696969;}#sk-container-id-8 label.sk-toggleable__label-arrow:hover:before {color: black;}#sk-container-id-8 div.sk-estimator:hover label.sk-toggleable__label-arrow:before {color: black;}#sk-container-id-8 div.sk-toggleable__content {max-height: 0;max-width: 0;overflow: hidden;text-align: left;background-color: #f0f8ff;}#sk-container-id-8 div.sk-toggleable__content pre {margin: 0.2em;color: black;border-radius: 0.25em;background-color: #f0f8ff;}#sk-container-id-8 input.sk-toggleable__control:checked~div.sk-toggleable__content {max-height: 200px;max-width: 100%;overflow: auto;}#sk-container-id-8 input.sk-toggleable__control:checked~label.sk-toggleable__label-arrow:before {content: \"▾\";}#sk-container-id-8 div.sk-estimator input.sk-toggleable__control:checked~label.sk-toggleable__label {background-color: #d4ebff;}#sk-container-id-8 div.sk-label input.sk-toggleable__control:checked~label.sk-toggleable__label {background-color: #d4ebff;}#sk-container-id-8 input.sk-hidden--visually {border: 0;clip: rect(1px 1px 1px 1px);clip: rect(1px, 1px, 1px, 1px);height: 1px;margin: -1px;overflow: hidden;padding: 0;position: absolute;width: 1px;}#sk-container-id-8 div.sk-estimator {font-family: monospace;background-color: #f0f8ff;border: 1px dotted black;border-radius: 0.25em;box-sizing: border-box;margin-bottom: 0.5em;}#sk-container-id-8 div.sk-estimator:hover {background-color: #d4ebff;}#sk-container-id-8 div.sk-parallel-item::after {content: \"\";width: 100%;border-bottom: 1px solid gray;flex-grow: 1;}#sk-container-id-8 div.sk-label:hover label.sk-toggleable__label {background-color: #d4ebff;}#sk-container-id-8 div.sk-serial::before {content: \"\";position: absolute;border-left: 1px solid gray;box-sizing: border-box;top: 0;bottom: 0;left: 50%;z-index: 0;}#sk-container-id-8 div.sk-serial {display: flex;flex-direction: column;align-items: center;background-color: white;padding-right: 0.2em;padding-left: 0.2em;position: relative;}#sk-container-id-8 div.sk-item {position: relative;z-index: 1;}#sk-container-id-8 div.sk-parallel {display: flex;align-items: stretch;justify-content: center;background-color: white;position: relative;}#sk-container-id-8 div.sk-item::before, #sk-container-id-8 div.sk-parallel-item::before {content: \"\";position: absolute;border-left: 1px solid gray;box-sizing: border-box;top: 0;bottom: 0;left: 50%;z-index: -1;}#sk-container-id-8 div.sk-parallel-item {display: flex;flex-direction: column;z-index: 1;position: relative;background-color: white;}#sk-container-id-8 div.sk-parallel-item:first-child::after {align-self: flex-end;width: 50%;}#sk-container-id-8 div.sk-parallel-item:last-child::after {align-self: flex-start;width: 50%;}#sk-container-id-8 div.sk-parallel-item:only-child::after {width: 0;}#sk-container-id-8 div.sk-dashed-wrapped {border: 1px dashed gray;margin: 0 0.4em 0.5em 0.4em;box-sizing: border-box;padding-bottom: 0.4em;background-color: white;}#sk-container-id-8 div.sk-label label {font-family: monospace;font-weight: bold;display: inline-block;line-height: 1.2em;}#sk-container-id-8 div.sk-label-container {text-align: center;}#sk-container-id-8 div.sk-container {/* jupyter's `normalize.less` sets `[hidden] { display: none; }` but bootstrap.min.css set `[hidden] { display: none !important; }` so we also need the `!important` here to be able to override the default hidden behavior on the sphinx rendered scikit-learn.org. See: https://github.com/scikit-learn/scikit-learn/issues/21755 */display: inline-block !important;position: relative;}#sk-container-id-8 div.sk-text-repr-fallback {display: none;}</style><div id=\"sk-container-id-8\" class=\"sk-top-container\"><div class=\"sk-text-repr-fallback\"><pre>Pipeline(steps=[(&#x27;Scale&#x27;, StandardScaler()),\n",
       "                (&#x27;Polynomial&#x27;, PolynomialFeatures()),\n",
       "                (&#x27;Model&#x27;, LinearRegression())])</pre><b>In a Jupyter environment, please rerun this cell to show the HTML representation or trust the notebook. <br />On GitHub, the HTML representation is unable to render, please try loading this page with nbviewer.org.</b></div><div class=\"sk-container\" hidden><div class=\"sk-item sk-dashed-wrapped\"><div class=\"sk-label-container\"><div class=\"sk-label sk-toggleable\"><input class=\"sk-toggleable__control sk-hidden--visually\" id=\"sk-estimator-id-17\" type=\"checkbox\" ><label for=\"sk-estimator-id-17\" class=\"sk-toggleable__label sk-toggleable__label-arrow\">Pipeline</label><div class=\"sk-toggleable__content\"><pre>Pipeline(steps=[(&#x27;Scale&#x27;, StandardScaler()),\n",
       "                (&#x27;Polynomial&#x27;, PolynomialFeatures()),\n",
       "                (&#x27;Model&#x27;, LinearRegression())])</pre></div></div></div><div class=\"sk-serial\"><div class=\"sk-item\"><div class=\"sk-estimator sk-toggleable\"><input class=\"sk-toggleable__control sk-hidden--visually\" id=\"sk-estimator-id-18\" type=\"checkbox\" ><label for=\"sk-estimator-id-18\" class=\"sk-toggleable__label sk-toggleable__label-arrow\">StandardScaler</label><div class=\"sk-toggleable__content\"><pre>StandardScaler()</pre></div></div></div><div class=\"sk-item\"><div class=\"sk-estimator sk-toggleable\"><input class=\"sk-toggleable__control sk-hidden--visually\" id=\"sk-estimator-id-19\" type=\"checkbox\" ><label for=\"sk-estimator-id-19\" class=\"sk-toggleable__label sk-toggleable__label-arrow\">PolynomialFeatures</label><div class=\"sk-toggleable__content\"><pre>PolynomialFeatures()</pre></div></div></div><div class=\"sk-item\"><div class=\"sk-estimator sk-toggleable\"><input class=\"sk-toggleable__control sk-hidden--visually\" id=\"sk-estimator-id-20\" type=\"checkbox\" ><label for=\"sk-estimator-id-20\" class=\"sk-toggleable__label sk-toggleable__label-arrow\">LinearRegression</label><div class=\"sk-toggleable__content\"><pre>LinearRegression()</pre></div></div></div></div></div></div></div>"
      ],
      "text/plain": [
       "Pipeline(steps=[('Scale', StandardScaler()),\n",
       "                ('Polynomial', PolynomialFeatures()),\n",
       "                ('Model', LinearRegression())])"
      ]
     },
     "execution_count": 57,
     "metadata": {},
     "output_type": "execute_result"
    }
   ],
   "source": [
    "pipe.fit(z, y)"
   ]
  },
  {
   "cell_type": "code",
   "execution_count": 58,
   "id": "b29a935b",
   "metadata": {},
   "outputs": [
    {
     "name": "stdout",
     "output_type": "stream",
     "text": [
      "Predicated\tActual\n",
      "\n",
      "1322.5 \t 985\n",
      "1673.5 \t 801\n",
      "1724.0 \t 1349\n",
      "1694.0 \t 1562\n",
      "1482.0 \t 1600\n"
     ]
    }
   ],
   "source": [
    "yPipe = pipe.predict(z)\n",
    "\n",
    "print(\"Predicated\\tActual\\n\")\n",
    "for i in range(0, 5):\n",
    "    print(yPipe[i], \"\\t\", y[i])"
   ]
  },
  {
   "cell_type": "markdown",
   "id": "4fa35f89",
   "metadata": {},
   "source": [
    "## MSE and R^2"
   ]
  },
  {
   "cell_type": "code",
   "execution_count": 59,
   "id": "87e90063",
   "metadata": {},
   "outputs": [],
   "source": [
    "from sklearn.metrics import mean_squared_error\n",
    "from sklearn.metrics import r2_score"
   ]
  },
  {
   "cell_type": "code",
   "execution_count": 60,
   "id": "292fa0c2",
   "metadata": {},
   "outputs": [
    {
     "name": "stdout",
     "output_type": "stream",
     "text": [
      "Simple Linear Regression\n",
      "R^2:  0.010132146131519582\n",
      "MSE:  3709682.6526974374\n",
      "-----------------------------------------------------------------\n",
      "Multiple Linear Regression\n",
      "R^2:  0.845410864108738\n",
      "MSE:  579346.660738714\n",
      "-----------------------------------------------------------------\n",
      "Simple Polynomail Regression\n",
      "R^2:  0.08431596143973774\n",
      "MSE:  3431667.34824613\n",
      "-----------------------------------------------------------------\n",
      "Mulitple Polynomial Regression\n",
      "R^2:  0.9526252959254353\n",
      "MSE:  177544.01983584132\n"
     ]
    }
   ],
   "source": [
    "print(\"Simple Linear Regression\")\n",
    "print(\"R^2: \", r2_score(dfDay['cnt'], yHat))\n",
    "print(\"MSE: \", mean_squared_error(dfDay['cnt'], yHat))\n",
    "\n",
    "print(\"-----------------------------------------------------------------\")\n",
    "\n",
    "print(\"Multiple Linear Regression\")\n",
    "print(\"R^2: \", r2_score(dfDay['cnt'], yHatMulti))\n",
    "print(\"MSE: \", mean_squared_error(dfDay['cnt'], yHatMulti))\n",
    "\n",
    "print(\"-----------------------------------------------------------------\")\n",
    "\n",
    "print(\"Simple Polynomail Regression\")\n",
    "print(\"R^2: \", r2_score(dfDay['cnt'], yPolyPred))\n",
    "print(\"MSE: \", mean_squared_error(dfDay['cnt'], yPolyPred))\n",
    "\n",
    "print(\"-----------------------------------------------------------------\")\n",
    "\n",
    "print(\"Mulitple Polynomial Regression\")\n",
    "print(\"R^2: \", r2_score(dfDay['cnt'], yPipe))\n",
    "print(\"MSE: \", mean_squared_error(dfDay['cnt'], yPipe))"
   ]
  },
  {
   "cell_type": "code",
   "execution_count": null,
   "id": "cdf75ad2",
   "metadata": {},
   "outputs": [],
   "source": []
  }
 ],
 "metadata": {
  "kernelspec": {
   "display_name": "Python 3 (ipykernel)",
   "language": "python",
   "name": "python3"
  },
  "language_info": {
   "codemirror_mode": {
    "name": "ipython",
    "version": 3
   },
   "file_extension": ".py",
   "mimetype": "text/x-python",
   "name": "python",
   "nbconvert_exporter": "python",
   "pygments_lexer": "ipython3",
   "version": "3.10.5"
  }
 },
 "nbformat": 4,
 "nbformat_minor": 5
}
